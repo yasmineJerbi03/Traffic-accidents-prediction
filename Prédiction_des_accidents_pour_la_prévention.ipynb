{
  "nbformat": 4,
  "nbformat_minor": 0,
  "metadata": {
    "colab": {
      "provenance": [],
      "include_colab_link": true
    },
    "kernelspec": {
      "display_name": "Python 3 (ipykernel)",
      "language": "python",
      "name": "python3"
    },
    "language_info": {
      "codemirror_mode": {
        "name": "ipython",
        "version": 3
      },
      "file_extension": ".py",
      "mimetype": "text/x-python",
      "name": "python",
      "nbconvert_exporter": "python",
      "pygments_lexer": "ipython3",
      "version": "3.8.10"
    }
  },
  "cells": [
    {
      "cell_type": "markdown",
      "metadata": {
        "id": "view-in-github",
        "colab_type": "text"
      },
      "source": [
        "<a href=\"https://colab.research.google.com/github/yasmineJerbi03/Traffic-accidents-prediction/blob/main/Pr%C3%A9diction_des_accidents_pour_la_pr%C3%A9vention.ipynb\" target=\"_parent\"><img src=\"https://colab.research.google.com/assets/colab-badge.svg\" alt=\"Open In Colab\"/></a>"
      ]
    },
    {
      "cell_type": "markdown",
      "metadata": {
        "id": "jOxsXandqwGk"
      },
      "source": [
        "# **1- Data Exploration**\n"
      ]
    },
    {
      "cell_type": "code",
      "metadata": {
        "colab": {
          "base_uri": "https://localhost:8080/"
        },
        "id": "Yw1Iw00Kn_Qn",
        "outputId": "ed1f453a-d6ec-42e0-c1f4-b1212d218643"
      },
      "source": [
        "from google.colab import drive\n",
        "drive.mount('/content/drive')"
      ],
      "execution_count": null,
      "outputs": [
        {
          "output_type": "stream",
          "name": "stdout",
          "text": [
            "Mounted at /content/drive\n"
          ]
        }
      ]
    },
    {
      "cell_type": "code",
      "metadata": {
        "id": "xed1siZsc6dY"
      },
      "source": [
        "#import required libraries\n",
        "import pandas as pd\n",
        "import numpy as np\n",
        "import matplotlib.pyplot as plt\n",
        "%matplotlib inline\n",
        "import seaborn as sns"
      ],
      "execution_count": null,
      "outputs": []
    },
    {
      "cell_type": "code",
      "metadata": {
        "colab": {
          "base_uri": "https://localhost:8080/",
          "height": 660
        },
        "id": "7L4FdvQfc6dZ",
        "outputId": "84784e8b-91e4-4829-d3af-acb185e5a635"
      },
      "source": [
        "df = pd.read_csv('/content/drive/My Drive/accidents_2012_to_2014.csv')\n",
        "df"
      ],
      "execution_count": null,
      "outputs": [
        {
          "output_type": "stream",
          "name": "stderr",
          "text": [
            "/usr/local/lib/python3.7/dist-packages/IPython/core/interactiveshell.py:2718: DtypeWarning: Columns (31) have mixed types.Specify dtype option on import or set low_memory=False.\n",
            "  interactivity=interactivity, compiler=compiler, result=result)\n"
          ]
        },
        {
          "output_type": "execute_result",
          "data": {
            "text/html": [
              "<div>\n",
              "<style scoped>\n",
              "    .dataframe tbody tr th:only-of-type {\n",
              "        vertical-align: middle;\n",
              "    }\n",
              "\n",
              "    .dataframe tbody tr th {\n",
              "        vertical-align: top;\n",
              "    }\n",
              "\n",
              "    .dataframe thead th {\n",
              "        text-align: right;\n",
              "    }\n",
              "</style>\n",
              "<table border=\"1\" class=\"dataframe\">\n",
              "  <thead>\n",
              "    <tr style=\"text-align: right;\">\n",
              "      <th></th>\n",
              "      <th>Accident_Index</th>\n",
              "      <th>Location_Easting_OSGR</th>\n",
              "      <th>Location_Northing_OSGR</th>\n",
              "      <th>Longitude</th>\n",
              "      <th>Latitude</th>\n",
              "      <th>Police_Force</th>\n",
              "      <th>Accident_Severity</th>\n",
              "      <th>Number_of_Vehicles</th>\n",
              "      <th>Number_of_Casualties</th>\n",
              "      <th>Date</th>\n",
              "      <th>Day_of_Week</th>\n",
              "      <th>Time</th>\n",
              "      <th>Local_Authority_(District)</th>\n",
              "      <th>Local_Authority_(Highway)</th>\n",
              "      <th>1st_Road_Class</th>\n",
              "      <th>1st_Road_Number</th>\n",
              "      <th>Road_Type</th>\n",
              "      <th>Speed_limit</th>\n",
              "      <th>Junction_Detail</th>\n",
              "      <th>Junction_Control</th>\n",
              "      <th>2nd_Road_Class</th>\n",
              "      <th>2nd_Road_Number</th>\n",
              "      <th>Pedestrian_Crossing-Human_Control</th>\n",
              "      <th>Pedestrian_Crossing-Physical_Facilities</th>\n",
              "      <th>Light_Conditions</th>\n",
              "      <th>Weather_Conditions</th>\n",
              "      <th>Road_Surface_Conditions</th>\n",
              "      <th>Special_Conditions_at_Site</th>\n",
              "      <th>Carriageway_Hazards</th>\n",
              "      <th>Urban_or_Rural_Area</th>\n",
              "      <th>Did_Police_Officer_Attend_Scene_of_Accident</th>\n",
              "      <th>LSOA_of_Accident_Location</th>\n",
              "      <th>Year</th>\n",
              "    </tr>\n",
              "  </thead>\n",
              "  <tbody>\n",
              "    <tr>\n",
              "      <th>0</th>\n",
              "      <td>201201BS70001</td>\n",
              "      <td>527200</td>\n",
              "      <td>178760</td>\n",
              "      <td>-0.169101</td>\n",
              "      <td>51.493429</td>\n",
              "      <td>1</td>\n",
              "      <td>3</td>\n",
              "      <td>2</td>\n",
              "      <td>1</td>\n",
              "      <td>19/01/2012</td>\n",
              "      <td>5</td>\n",
              "      <td>20:35</td>\n",
              "      <td>12</td>\n",
              "      <td>E09000020</td>\n",
              "      <td>3</td>\n",
              "      <td>308</td>\n",
              "      <td>Single carriageway</td>\n",
              "      <td>30</td>\n",
              "      <td>NaN</td>\n",
              "      <td>Automatic traffic signal</td>\n",
              "      <td>5</td>\n",
              "      <td>0</td>\n",
              "      <td>None within 50 metres</td>\n",
              "      <td>Pedestrian phase at traffic signal junction</td>\n",
              "      <td>Darkness: Street lights present and lit</td>\n",
              "      <td>Fine without high winds</td>\n",
              "      <td>Dry</td>\n",
              "      <td>None</td>\n",
              "      <td>None</td>\n",
              "      <td>1</td>\n",
              "      <td>Yes</td>\n",
              "      <td>E01002821</td>\n",
              "      <td>2012</td>\n",
              "    </tr>\n",
              "    <tr>\n",
              "      <th>1</th>\n",
              "      <td>201201BS70002</td>\n",
              "      <td>524930</td>\n",
              "      <td>181430</td>\n",
              "      <td>-0.200838</td>\n",
              "      <td>51.517931</td>\n",
              "      <td>1</td>\n",
              "      <td>3</td>\n",
              "      <td>2</td>\n",
              "      <td>1</td>\n",
              "      <td>04/01/2012</td>\n",
              "      <td>4</td>\n",
              "      <td>17:00</td>\n",
              "      <td>1</td>\n",
              "      <td>E09000033</td>\n",
              "      <td>4</td>\n",
              "      <td>412</td>\n",
              "      <td>Single carriageway</td>\n",
              "      <td>30</td>\n",
              "      <td>NaN</td>\n",
              "      <td>Giveway or uncontrolled</td>\n",
              "      <td>6</td>\n",
              "      <td>0</td>\n",
              "      <td>None within 50 metres</td>\n",
              "      <td>No physical crossing within 50 meters</td>\n",
              "      <td>Darkness: Street lights present and lit</td>\n",
              "      <td>Fine without high winds</td>\n",
              "      <td>Dry</td>\n",
              "      <td>None</td>\n",
              "      <td>None</td>\n",
              "      <td>1</td>\n",
              "      <td>Yes</td>\n",
              "      <td>E01004760</td>\n",
              "      <td>2012</td>\n",
              "    </tr>\n",
              "    <tr>\n",
              "      <th>2</th>\n",
              "      <td>201201BS70003</td>\n",
              "      <td>525860</td>\n",
              "      <td>178080</td>\n",
              "      <td>-0.188636</td>\n",
              "      <td>51.487618</td>\n",
              "      <td>1</td>\n",
              "      <td>3</td>\n",
              "      <td>2</td>\n",
              "      <td>1</td>\n",
              "      <td>10/01/2012</td>\n",
              "      <td>3</td>\n",
              "      <td>10:07</td>\n",
              "      <td>12</td>\n",
              "      <td>E09000020</td>\n",
              "      <td>3</td>\n",
              "      <td>3220</td>\n",
              "      <td>One way street</td>\n",
              "      <td>30</td>\n",
              "      <td>NaN</td>\n",
              "      <td>Giveway or uncontrolled</td>\n",
              "      <td>6</td>\n",
              "      <td>0</td>\n",
              "      <td>None within 50 metres</td>\n",
              "      <td>non-junction pedestrian crossing</td>\n",
              "      <td>Daylight: Street light present</td>\n",
              "      <td>Fine without high winds</td>\n",
              "      <td>Dry</td>\n",
              "      <td>None</td>\n",
              "      <td>None</td>\n",
              "      <td>1</td>\n",
              "      <td>Yes</td>\n",
              "      <td>E01002893</td>\n",
              "      <td>2012</td>\n",
              "    </tr>\n",
              "    <tr>\n",
              "      <th>3</th>\n",
              "      <td>201201BS70004</td>\n",
              "      <td>524980</td>\n",
              "      <td>181030</td>\n",
              "      <td>-0.200259</td>\n",
              "      <td>51.514325</td>\n",
              "      <td>1</td>\n",
              "      <td>3</td>\n",
              "      <td>1</td>\n",
              "      <td>1</td>\n",
              "      <td>18/01/2012</td>\n",
              "      <td>4</td>\n",
              "      <td>12:20</td>\n",
              "      <td>12</td>\n",
              "      <td>E09000020</td>\n",
              "      <td>5</td>\n",
              "      <td>0</td>\n",
              "      <td>Single carriageway</td>\n",
              "      <td>30</td>\n",
              "      <td>NaN</td>\n",
              "      <td>Giveway or uncontrolled</td>\n",
              "      <td>6</td>\n",
              "      <td>0</td>\n",
              "      <td>None within 50 metres</td>\n",
              "      <td>No physical crossing within 50 meters</td>\n",
              "      <td>Daylight: Street light present</td>\n",
              "      <td>Fine without high winds</td>\n",
              "      <td>Dry</td>\n",
              "      <td>None</td>\n",
              "      <td>None</td>\n",
              "      <td>1</td>\n",
              "      <td>Yes</td>\n",
              "      <td>E01002886</td>\n",
              "      <td>2012</td>\n",
              "    </tr>\n",
              "    <tr>\n",
              "      <th>4</th>\n",
              "      <td>201201BS70005</td>\n",
              "      <td>526170</td>\n",
              "      <td>179200</td>\n",
              "      <td>-0.183773</td>\n",
              "      <td>51.497614</td>\n",
              "      <td>1</td>\n",
              "      <td>3</td>\n",
              "      <td>1</td>\n",
              "      <td>1</td>\n",
              "      <td>17/01/2012</td>\n",
              "      <td>3</td>\n",
              "      <td>20:24</td>\n",
              "      <td>12</td>\n",
              "      <td>E09000020</td>\n",
              "      <td>4</td>\n",
              "      <td>325</td>\n",
              "      <td>Single carriageway</td>\n",
              "      <td>30</td>\n",
              "      <td>NaN</td>\n",
              "      <td>Giveway or uncontrolled</td>\n",
              "      <td>6</td>\n",
              "      <td>0</td>\n",
              "      <td>None within 50 metres</td>\n",
              "      <td>No physical crossing within 50 meters</td>\n",
              "      <td>Darkness: Street lights present and lit</td>\n",
              "      <td>Fine without high winds</td>\n",
              "      <td>Dry</td>\n",
              "      <td>None</td>\n",
              "      <td>None</td>\n",
              "      <td>1</td>\n",
              "      <td>Yes</td>\n",
              "      <td>E01002890</td>\n",
              "      <td>2012</td>\n",
              "    </tr>\n",
              "    <tr>\n",
              "      <th>...</th>\n",
              "      <td>...</td>\n",
              "      <td>...</td>\n",
              "      <td>...</td>\n",
              "      <td>...</td>\n",
              "      <td>...</td>\n",
              "      <td>...</td>\n",
              "      <td>...</td>\n",
              "      <td>...</td>\n",
              "      <td>...</td>\n",
              "      <td>...</td>\n",
              "      <td>...</td>\n",
              "      <td>...</td>\n",
              "      <td>...</td>\n",
              "      <td>...</td>\n",
              "      <td>...</td>\n",
              "      <td>...</td>\n",
              "      <td>...</td>\n",
              "      <td>...</td>\n",
              "      <td>...</td>\n",
              "      <td>...</td>\n",
              "      <td>...</td>\n",
              "      <td>...</td>\n",
              "      <td>...</td>\n",
              "      <td>...</td>\n",
              "      <td>...</td>\n",
              "      <td>...</td>\n",
              "      <td>...</td>\n",
              "      <td>...</td>\n",
              "      <td>...</td>\n",
              "      <td>...</td>\n",
              "      <td>...</td>\n",
              "      <td>...</td>\n",
              "      <td>...</td>\n",
              "    </tr>\n",
              "    <tr>\n",
              "      <th>464692</th>\n",
              "      <td>2.01E+12</td>\n",
              "      <td>310037</td>\n",
              "      <td>597647</td>\n",
              "      <td>-3.417278</td>\n",
              "      <td>55.264773</td>\n",
              "      <td>98</td>\n",
              "      <td>2</td>\n",
              "      <td>2</td>\n",
              "      <td>1</td>\n",
              "      <td>07/12/2014</td>\n",
              "      <td>1</td>\n",
              "      <td>22:20</td>\n",
              "      <td>917</td>\n",
              "      <td>S12000006</td>\n",
              "      <td>2</td>\n",
              "      <td>74</td>\n",
              "      <td>Dual carriageway</td>\n",
              "      <td>70</td>\n",
              "      <td>NaN</td>\n",
              "      <td>NaN</td>\n",
              "      <td>-1</td>\n",
              "      <td>0</td>\n",
              "      <td>None within 50 metres</td>\n",
              "      <td>No physical crossing within 50 meters</td>\n",
              "      <td>Darkeness: No street lighting</td>\n",
              "      <td>Snowing without high winds</td>\n",
              "      <td>Snow</td>\n",
              "      <td>None</td>\n",
              "      <td>None</td>\n",
              "      <td>2</td>\n",
              "      <td>Yes</td>\n",
              "      <td>NaN</td>\n",
              "      <td>2014</td>\n",
              "    </tr>\n",
              "    <tr>\n",
              "      <th>464693</th>\n",
              "      <td>2.01E+12</td>\n",
              "      <td>321509</td>\n",
              "      <td>574063</td>\n",
              "      <td>-3.230255</td>\n",
              "      <td>55.054855</td>\n",
              "      <td>98</td>\n",
              "      <td>3</td>\n",
              "      <td>2</td>\n",
              "      <td>2</td>\n",
              "      <td>11/12/2014</td>\n",
              "      <td>5</td>\n",
              "      <td>06:40</td>\n",
              "      <td>917</td>\n",
              "      <td>S12000006</td>\n",
              "      <td>2</td>\n",
              "      <td>74</td>\n",
              "      <td>Dual carriageway</td>\n",
              "      <td>70</td>\n",
              "      <td>NaN</td>\n",
              "      <td>NaN</td>\n",
              "      <td>-1</td>\n",
              "      <td>0</td>\n",
              "      <td>None within 50 metres</td>\n",
              "      <td>No physical crossing within 50 meters</td>\n",
              "      <td>Darkeness: No street lighting</td>\n",
              "      <td>Fine without high winds</td>\n",
              "      <td>Snow</td>\n",
              "      <td>None</td>\n",
              "      <td>None</td>\n",
              "      <td>2</td>\n",
              "      <td>Yes</td>\n",
              "      <td>NaN</td>\n",
              "      <td>2014</td>\n",
              "    </tr>\n",
              "    <tr>\n",
              "      <th>464694</th>\n",
              "      <td>2.01E+12</td>\n",
              "      <td>321337</td>\n",
              "      <td>566365</td>\n",
              "      <td>-3.230826</td>\n",
              "      <td>54.985668</td>\n",
              "      <td>98</td>\n",
              "      <td>3</td>\n",
              "      <td>1</td>\n",
              "      <td>1</td>\n",
              "      <td>09/12/2014</td>\n",
              "      <td>3</td>\n",
              "      <td>02:00</td>\n",
              "      <td>917</td>\n",
              "      <td>S12000006</td>\n",
              "      <td>4</td>\n",
              "      <td>721</td>\n",
              "      <td>Single carriageway</td>\n",
              "      <td>40</td>\n",
              "      <td>NaN</td>\n",
              "      <td>NaN</td>\n",
              "      <td>-1</td>\n",
              "      <td>0</td>\n",
              "      <td>None within 50 metres</td>\n",
              "      <td>No physical crossing within 50 meters</td>\n",
              "      <td>Darkness: Street lights present and lit</td>\n",
              "      <td>Fine without high winds</td>\n",
              "      <td>Frost/Ice</td>\n",
              "      <td>None</td>\n",
              "      <td>None</td>\n",
              "      <td>2</td>\n",
              "      <td>Yes</td>\n",
              "      <td>NaN</td>\n",
              "      <td>2014</td>\n",
              "    </tr>\n",
              "    <tr>\n",
              "      <th>464695</th>\n",
              "      <td>2.01E+12</td>\n",
              "      <td>323869</td>\n",
              "      <td>566853</td>\n",
              "      <td>-3.191397</td>\n",
              "      <td>54.990446</td>\n",
              "      <td>98</td>\n",
              "      <td>2</td>\n",
              "      <td>3</td>\n",
              "      <td>2</td>\n",
              "      <td>17/12/2014</td>\n",
              "      <td>4</td>\n",
              "      <td>06:55</td>\n",
              "      <td>917</td>\n",
              "      <td>S12000006</td>\n",
              "      <td>3</td>\n",
              "      <td>75</td>\n",
              "      <td>Single carriageway</td>\n",
              "      <td>60</td>\n",
              "      <td>NaN</td>\n",
              "      <td>Giveway or uncontrolled</td>\n",
              "      <td>5</td>\n",
              "      <td>43</td>\n",
              "      <td>None within 50 metres</td>\n",
              "      <td>No physical crossing within 50 meters</td>\n",
              "      <td>Darkeness: No street lighting</td>\n",
              "      <td>Raining without high winds</td>\n",
              "      <td>Wet/Damp</td>\n",
              "      <td>None</td>\n",
              "      <td>None</td>\n",
              "      <td>2</td>\n",
              "      <td>Yes</td>\n",
              "      <td>NaN</td>\n",
              "      <td>2014</td>\n",
              "    </tr>\n",
              "    <tr>\n",
              "      <th>464696</th>\n",
              "      <td>2.01E+12</td>\n",
              "      <td>314072</td>\n",
              "      <td>579971</td>\n",
              "      <td>-3.348426</td>\n",
              "      <td>55.106700</td>\n",
              "      <td>98</td>\n",
              "      <td>3</td>\n",
              "      <td>2</td>\n",
              "      <td>2</td>\n",
              "      <td>24/12/2014</td>\n",
              "      <td>4</td>\n",
              "      <td>15:00</td>\n",
              "      <td>917</td>\n",
              "      <td>S12000006</td>\n",
              "      <td>4</td>\n",
              "      <td>723</td>\n",
              "      <td>Single carriageway</td>\n",
              "      <td>60</td>\n",
              "      <td>NaN</td>\n",
              "      <td>Giveway or uncontrolled</td>\n",
              "      <td>4</td>\n",
              "      <td>7076</td>\n",
              "      <td>None within 50 metres</td>\n",
              "      <td>No physical crossing within 50 meters</td>\n",
              "      <td>Daylight: Street light present</td>\n",
              "      <td>Fine without high winds</td>\n",
              "      <td>Wet/Damp</td>\n",
              "      <td>None</td>\n",
              "      <td>None</td>\n",
              "      <td>2</td>\n",
              "      <td>Yes</td>\n",
              "      <td>NaN</td>\n",
              "      <td>2014</td>\n",
              "    </tr>\n",
              "  </tbody>\n",
              "</table>\n",
              "<p>464697 rows × 33 columns</p>\n",
              "</div>"
            ],
            "text/plain": [
              "       Accident_Index  Location_Easting_OSGR  ...  LSOA_of_Accident_Location  Year\n",
              "0       201201BS70001                 527200  ...                  E01002821  2012\n",
              "1       201201BS70002                 524930  ...                  E01004760  2012\n",
              "2       201201BS70003                 525860  ...                  E01002893  2012\n",
              "3       201201BS70004                 524980  ...                  E01002886  2012\n",
              "4       201201BS70005                 526170  ...                  E01002890  2012\n",
              "...               ...                    ...  ...                        ...   ...\n",
              "464692       2.01E+12                 310037  ...                        NaN  2014\n",
              "464693       2.01E+12                 321509  ...                        NaN  2014\n",
              "464694       2.01E+12                 321337  ...                        NaN  2014\n",
              "464695       2.01E+12                 323869  ...                        NaN  2014\n",
              "464696       2.01E+12                 314072  ...                        NaN  2014\n",
              "\n",
              "[464697 rows x 33 columns]"
            ]
          },
          "metadata": {},
          "execution_count": 3
        }
      ]
    },
    {
      "cell_type": "markdown",
      "metadata": {
        "id": "tWnZs_79rH2l"
      },
      "source": [
        "### Explication des attributs:\n",
        "* LSOA_of_Accident_Location | Location_Easting_OSGR | Location_Northing_OSGR | \n",
        "* Longitude | Latitude | Urban_or_Rural_Area : Lieu de l'accident \\\\\n",
        "* Police_Force : Identifiant du groupe de police \\\\\n",
        "* Accident_Severity : Gravité de l'accident ( de 1 jusqu'à 3 avec une gravité croissante ) \\\\\n",
        "* Number_of_Vehicles : Nombre de voitures \\\\\n",
        "* Number_of_Casualties : Nombre de victimes \\\\\n",
        "* Date | Day_of_Week | Year | Time : Temps de l'accident \\\\\n",
        "* Local_Authority_(Highway) | Local_Authority_(District) | Did_Police_Officer_Attend_Scene_of_Accident : relative aux polices \\\\\n",
        "* 1st_Road_Class | 1st_Road_Number | Road_Type | 2nd_Road_Class | 2nd_Road_Number : Details sur les rues \\\\\n",
        "* Speed_limit : Limites de vitesse \\\\\n",
        "* Pedestrian_Crossing-Human_Control | Pedestrian_Crossing-Physical_Facilities | Pedestrian_Crossing-Physical_Facilities | Light_Conditions : relatives au feux de circulation etc... \\\\\n",
        "* Weather_Conditions | Road_Surface_Conditions | Special_Conditions_at_Site | Carriageway_Hazards : l'état de méteo et de surface       \n",
        "      \n",
        "\n",
        "\n"
      ]
    },
    {
      "cell_type": "code",
      "metadata": {
        "colab": {
          "base_uri": "https://localhost:8080/"
        },
        "id": "oUzD2qjuc6da",
        "outputId": "f25e894f-f840-49e2-f3db-67553d7a922f"
      },
      "source": [
        "df.shape"
      ],
      "execution_count": null,
      "outputs": [
        {
          "output_type": "execute_result",
          "data": {
            "text/plain": [
              "(464697, 33)"
            ]
          },
          "metadata": {},
          "execution_count": 4
        }
      ]
    },
    {
      "cell_type": "code",
      "metadata": {
        "colab": {
          "base_uri": "https://localhost:8080/"
        },
        "id": "aWDDlF2oc6da",
        "outputId": "1b13bd6b-f7f2-4c93-df11-50953fd7ec36"
      },
      "source": [
        "df.dtypes"
      ],
      "execution_count": null,
      "outputs": [
        {
          "output_type": "execute_result",
          "data": {
            "text/plain": [
              "Accident_Index                                  object\n",
              "Location_Easting_OSGR                            int64\n",
              "Location_Northing_OSGR                           int64\n",
              "Longitude                                      float64\n",
              "Latitude                                       float64\n",
              "Police_Force                                     int64\n",
              "Accident_Severity                                int64\n",
              "Number_of_Vehicles                               int64\n",
              "Number_of_Casualties                             int64\n",
              "Date                                            object\n",
              "Day_of_Week                                      int64\n",
              "Time                                            object\n",
              "Local_Authority_(District)                       int64\n",
              "Local_Authority_(Highway)                       object\n",
              "1st_Road_Class                                   int64\n",
              "1st_Road_Number                                  int64\n",
              "Road_Type                                       object\n",
              "Speed_limit                                      int64\n",
              "Junction_Detail                                float64\n",
              "Junction_Control                                object\n",
              "2nd_Road_Class                                   int64\n",
              "2nd_Road_Number                                  int64\n",
              "Pedestrian_Crossing-Human_Control               object\n",
              "Pedestrian_Crossing-Physical_Facilities         object\n",
              "Light_Conditions                                object\n",
              "Weather_Conditions                              object\n",
              "Road_Surface_Conditions                         object\n",
              "Special_Conditions_at_Site                      object\n",
              "Carriageway_Hazards                             object\n",
              "Urban_or_Rural_Area                              int64\n",
              "Did_Police_Officer_Attend_Scene_of_Accident     object\n",
              "LSOA_of_Accident_Location                       object\n",
              "Year                                             int64\n",
              "dtype: object"
            ]
          },
          "metadata": {},
          "execution_count": 5
        }
      ]
    },
    {
      "cell_type": "markdown",
      "metadata": {
        "id": "owR4q6a2qFkX"
      },
      "source": [
        "![n.png](data:image/png;base64,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)"
      ]
    },
    {
      "cell_type": "markdown",
      "metadata": {
        "id": "9mbwSmkec6da"
      },
      "source": [
        "Attribut-------------Type---------------True type      \\\n",
        "\n",
        "---\n",
        "\n",
        "\n",
        "\n",
        "---\n",
        "\n",
        "\n",
        "* Accident_Index---------------object----------------------------------------- \\\\\n",
        "* Location_Easting_OSGR--------float64----Numeric continuous   \\\\ \n",
        "* Location_Northing_OSGR ------float64----Numeric continuous \\\\\n",
        "* Longitude -------------------------------float64----Numeric continuous \\\\\n",
        "* Latitude---------------------------------float64----Numeric continuous \\\\\n",
        "* Police_Force---------------------------int64------Numeric continuous \\\\\n",
        "* Accident_Severity-----------------int64------Categorical      \\\\        \n",
        "* Number_of_Vehicles----------------int64------Numeric discrete \\\\\n",
        "* Number_of_Casualties------------int64------Numeric continuous     \\\\          \n",
        "* Date------------------------------------------object \\\\\n",
        "* Day_of_Week----------------------------int64----- Numeric discrete \\\\\n",
        "* Time------------------------------------------object \\\\\n",
        "* Local_Authority_(District)------int64------Numeric continuous \\\\\n",
        "* Local_Authority_(Highway)-------object \\\\\n",
        "* 1st_Road_Class---------------int64------Categorical  \\\\            \n",
        "* 1st_Road_Number--------------int64------Numeric continuous \\\\\n",
        "* Road_Type--------------------object-----Categorical \\\\             \n",
        "* Speed_limit------------------int64------Numeric discrete\n",
        "* Junction_Detail--------------float64     \\\\\n",
        "* Junction_Control------------ object-----Categorical \\\\             \n",
        "* 2nd_Road_Class---------------int64------Categorical \\\\\n",
        "* 2nd_Road_Number--------------int64------Numeric continuous \\\\\n",
        "* Pedestrian_Crossing-Human_Control-----object-------Categorical \\\\\n",
        "* Pedestrian_Crossing-Physical_Facilities-------object-----Categorical \\\\\n",
        "* Light_Conditions-------------object--------Categorical \\\\\n",
        "* Weather_Conditions-----------object--------Categorical \\\\\n",
        "* Road_Surface_Conditions------object--------Categorical \\\\\n",
        "* Special_Conditions_at_Site---object--------Categorical \\\\\n",
        "* Carriageway_Hazards----------object--------Categorical \\\\\n",
        "* Urban_or_Rural_Area----------int64---------Categorical \\\\\n",
        "* Did_Police_Officer_Attend_Scene_of_Accident------object-----Categorical \\\\\n",
        "* LSOA_of_Accident_Location------------------------object \\\\     \n",
        "* Year-----------------------int64--------Numeric discrete \\\\"
      ]
    },
    {
      "cell_type": "code",
      "metadata": {
        "colab": {
          "base_uri": "https://localhost:8080/",
          "height": 1000
        },
        "id": "uA5bzzZyc6dc",
        "outputId": "34fcb04d-e7e8-484d-a743-4bf4ca67239b"
      },
      "source": [
        "fig, ax = plt.subplots(figsize=(17,17))   \n",
        "corr=df.corr()\n",
        "\n",
        "sns.heatmap(corr, annot=True, linewidths=.5, ax=ax)\n"
      ],
      "execution_count": null,
      "outputs": [
        {
          "output_type": "execute_result",
          "data": {
            "text/plain": [
              "<matplotlib.axes._subplots.AxesSubplot at 0x7fb70cb69950>"
            ]
          },
          "metadata": {},
          "execution_count": 6
        },
        {
          "output_type": "display_data",
          "data": {
            "image/png": "[encoded data removed]",
            "text/plain": [
              "<Figure size 1224x1224 with 2 Axes>"
            ]
          },
          "metadata": {
            "needs_background": "light"
          }
        }
      ]
    },
    {
      "cell_type": "markdown",
      "metadata": {
        "id": "rGiqp5KY2pCf"
      },
      "source": [
        "* Tous les attributs sont faiblement corrélés à l'exception des couples Local_Authority_(District) et Police_force\n",
        "\n",
        "\n"
      ]
    },
    {
      "cell_type": "code",
      "metadata": {
        "colab": {
          "base_uri": "https://localhost:8080/"
        },
        "id": "rqy3RyWdc6dc",
        "outputId": "44823c39-baa6-444c-d6a0-6094f76244ee"
      },
      "source": [
        "df.isnull().sum()"
      ],
      "execution_count": null,
      "outputs": [
        {
          "output_type": "execute_result",
          "data": {
            "text/plain": [
              "Accident_Index                                      0\n",
              "Location_Easting_OSGR                               0\n",
              "Location_Northing_OSGR                              0\n",
              "Longitude                                           0\n",
              "Latitude                                            0\n",
              "Police_Force                                        0\n",
              "Accident_Severity                                   0\n",
              "Number_of_Vehicles                                  0\n",
              "Number_of_Casualties                                0\n",
              "Date                                                0\n",
              "Day_of_Week                                         0\n",
              "Time                                               13\n",
              "Local_Authority_(District)                          0\n",
              "Local_Authority_(Highway)                           0\n",
              "1st_Road_Class                                      0\n",
              "1st_Road_Number                                     0\n",
              "Road_Type                                           0\n",
              "Speed_limit                                         0\n",
              "Junction_Detail                                464697\n",
              "Junction_Control                               178610\n",
              "2nd_Road_Class                                      0\n",
              "2nd_Road_Number                                     0\n",
              "Pedestrian_Crossing-Human_Control                   0\n",
              "Pedestrian_Crossing-Physical_Facilities             0\n",
              "Light_Conditions                                    0\n",
              "Weather_Conditions                                  0\n",
              "Road_Surface_Conditions                           755\n",
              "Special_Conditions_at_Site                          2\n",
              "Carriageway_Hazards                                 3\n",
              "Urban_or_Rural_Area                                 0\n",
              "Did_Police_Officer_Attend_Scene_of_Accident         2\n",
              "LSOA_of_Accident_Location                       28718\n",
              "Year                                                0\n",
              "dtype: int64"
            ]
          },
          "metadata": {},
          "execution_count": 7
        }
      ]
    },
    {
      "cell_type": "markdown",
      "metadata": {
        "id": "BVnRX8j73PWR"
      },
      "source": [
        "* Présence d'attributs ayant des valeurs NULL d'ou le passage à l'étape du cleaning \n",
        "# **2- Data preparation**\n",
        "## **2-1- Data cleaning**\n",
        "d'aprés la cellule précédente, les attributs Junction_Detail, Junction_Control et LSOA_of_Accident_Location posséde un grand nombre de valeurs nulles ( **Missing values** ) (de 10% jusqu'à 70% des valeurs des attributs sont nulles) donc il est nécessaire d'éliminer ces attributs \n",
        "\n",
        "\n"
      ]
    },
    {
      "cell_type": "code",
      "metadata": {
        "id": "zPL-PqnKc6dd"
      },
      "source": [
        "df.drop('Junction_Detail',axis=1,inplace = True)\n",
        "df.drop('Junction_Control',axis=1,inplace = True)\n",
        "df.drop('LSOA_of_Accident_Location',axis=1,inplace = True)       \n"
      ],
      "execution_count": null,
      "outputs": []
    },
    {
      "cell_type": "markdown",
      "metadata": {
        "id": "lBE8cFca5AVE"
      },
      "source": [
        "Certains attributs, d'àpres leurs description, sont considéres comme **irrelevent**. Dans notre cas, les attributs Accident_Index, Local_Authority_(District),Local_Authority_(Highway) et Did_Police_Officer_Attend_Scene_of_Accident ne contribue pas à la prédiction des accidents donc il est préferé de les supprimer. \\\\\n",
        "Pour les attributs Time et Date on parle de **redundant attributs** car Year et Day_of_Week donne les mm informations que ces attributs => Supprimer ces deux attributs"
      ]
    },
    {
      "cell_type": "code",
      "metadata": {
        "id": "zx6XGhzec6dd"
      },
      "source": [
        "Irrelevant=[\"Accident_Index\",\n",
        "                    \"Police_Force\",\n",
        "                    \"Local_Authority_(District)\",\n",
        "                    \"Local_Authority_(Highway)\",\n",
        "                    \"Did_Police_Officer_Attend_Scene_of_Accident\",\n",
        "                    \"Time\",\n",
        "                    \"Date\",\n",
        "                    \"1st_Road_Class\",\"2nd_Road_Class\"\n",
        "                   ]\n",
        "df.drop(Irrelevant,axis=1,inplace = True)       \n"
      ],
      "execution_count": null,
      "outputs": []
    },
    {
      "cell_type": "code",
      "metadata": {
        "colab": {
          "base_uri": "https://localhost:8080/"
        },
        "id": "zpeq2wvgc6dd",
        "outputId": "08b95683-c877-456d-e42a-1542a5e2439d"
      },
      "source": [
        "df.shape"
      ],
      "execution_count": null,
      "outputs": [
        {
          "output_type": "execute_result",
          "data": {
            "text/plain": [
              "(464697, 21)"
            ]
          },
          "metadata": {},
          "execution_count": 10
        }
      ]
    },
    {
      "cell_type": "markdown",
      "metadata": {
        "id": "XJISb1vy6IHy"
      },
      "source": [
        "Pour vérifier l'abscence de problemes au niveau des valeurs des attributs, il est nécessaire d'appliquer value_counts()"
      ]
    },
    {
      "cell_type": "code",
      "metadata": {
        "colab": {
          "base_uri": "https://localhost:8080/",
          "height": 326
        },
        "id": "RNypGPXHf2i3",
        "outputId": "fdebf998-2244-40c7-fcb5-c5f2b74b13a4"
      },
      "source": [
        "df.head()"
      ],
      "execution_count": null,
      "outputs": [
        {
          "output_type": "execute_result",
          "data": {
            "text/html": [
              "<div>\n",
              "<style scoped>\n",
              "    .dataframe tbody tr th:only-of-type {\n",
              "        vertical-align: middle;\n",
              "    }\n",
              "\n",
              "    .dataframe tbody tr th {\n",
              "        vertical-align: top;\n",
              "    }\n",
              "\n",
              "    .dataframe thead th {\n",
              "        text-align: right;\n",
              "    }\n",
              "</style>\n",
              "<table border=\"1\" class=\"dataframe\">\n",
              "  <thead>\n",
              "    <tr style=\"text-align: right;\">\n",
              "      <th></th>\n",
              "      <th>Location_Easting_OSGR</th>\n",
              "      <th>Location_Northing_OSGR</th>\n",
              "      <th>Longitude</th>\n",
              "      <th>Latitude</th>\n",
              "      <th>Accident_Severity</th>\n",
              "      <th>Number_of_Vehicles</th>\n",
              "      <th>Number_of_Casualties</th>\n",
              "      <th>Day_of_Week</th>\n",
              "      <th>1st_Road_Number</th>\n",
              "      <th>Road_Type</th>\n",
              "      <th>Speed_limit</th>\n",
              "      <th>2nd_Road_Number</th>\n",
              "      <th>Pedestrian_Crossing-Human_Control</th>\n",
              "      <th>Pedestrian_Crossing-Physical_Facilities</th>\n",
              "      <th>Light_Conditions</th>\n",
              "      <th>Weather_Conditions</th>\n",
              "      <th>Road_Surface_Conditions</th>\n",
              "      <th>Special_Conditions_at_Site</th>\n",
              "      <th>Carriageway_Hazards</th>\n",
              "      <th>Urban_or_Rural_Area</th>\n",
              "      <th>Year</th>\n",
              "    </tr>\n",
              "  </thead>\n",
              "  <tbody>\n",
              "    <tr>\n",
              "      <th>0</th>\n",
              "      <td>527200</td>\n",
              "      <td>178760</td>\n",
              "      <td>-0.169101</td>\n",
              "      <td>51.493429</td>\n",
              "      <td>3</td>\n",
              "      <td>2</td>\n",
              "      <td>1</td>\n",
              "      <td>5</td>\n",
              "      <td>308</td>\n",
              "      <td>Single carriageway</td>\n",
              "      <td>30</td>\n",
              "      <td>0</td>\n",
              "      <td>None within 50 metres</td>\n",
              "      <td>Pedestrian phase at traffic signal junction</td>\n",
              "      <td>Darkness: Street lights present and lit</td>\n",
              "      <td>Fine without high winds</td>\n",
              "      <td>Dry</td>\n",
              "      <td>None</td>\n",
              "      <td>None</td>\n",
              "      <td>1</td>\n",
              "      <td>2012</td>\n",
              "    </tr>\n",
              "    <tr>\n",
              "      <th>1</th>\n",
              "      <td>524930</td>\n",
              "      <td>181430</td>\n",
              "      <td>-0.200838</td>\n",
              "      <td>51.517931</td>\n",
              "      <td>3</td>\n",
              "      <td>2</td>\n",
              "      <td>1</td>\n",
              "      <td>4</td>\n",
              "      <td>412</td>\n",
              "      <td>Single carriageway</td>\n",
              "      <td>30</td>\n",
              "      <td>0</td>\n",
              "      <td>None within 50 metres</td>\n",
              "      <td>No physical crossing within 50 meters</td>\n",
              "      <td>Darkness: Street lights present and lit</td>\n",
              "      <td>Fine without high winds</td>\n",
              "      <td>Dry</td>\n",
              "      <td>None</td>\n",
              "      <td>None</td>\n",
              "      <td>1</td>\n",
              "      <td>2012</td>\n",
              "    </tr>\n",
              "    <tr>\n",
              "      <th>2</th>\n",
              "      <td>525860</td>\n",
              "      <td>178080</td>\n",
              "      <td>-0.188636</td>\n",
              "      <td>51.487618</td>\n",
              "      <td>3</td>\n",
              "      <td>2</td>\n",
              "      <td>1</td>\n",
              "      <td>3</td>\n",
              "      <td>3220</td>\n",
              "      <td>One way street</td>\n",
              "      <td>30</td>\n",
              "      <td>0</td>\n",
              "      <td>None within 50 metres</td>\n",
              "      <td>non-junction pedestrian crossing</td>\n",
              "      <td>Daylight: Street light present</td>\n",
              "      <td>Fine without high winds</td>\n",
              "      <td>Dry</td>\n",
              "      <td>None</td>\n",
              "      <td>None</td>\n",
              "      <td>1</td>\n",
              "      <td>2012</td>\n",
              "    </tr>\n",
              "    <tr>\n",
              "      <th>3</th>\n",
              "      <td>524980</td>\n",
              "      <td>181030</td>\n",
              "      <td>-0.200259</td>\n",
              "      <td>51.514325</td>\n",
              "      <td>3</td>\n",
              "      <td>1</td>\n",
              "      <td>1</td>\n",
              "      <td>4</td>\n",
              "      <td>0</td>\n",
              "      <td>Single carriageway</td>\n",
              "      <td>30</td>\n",
              "      <td>0</td>\n",
              "      <td>None within 50 metres</td>\n",
              "      <td>No physical crossing within 50 meters</td>\n",
              "      <td>Daylight: Street light present</td>\n",
              "      <td>Fine without high winds</td>\n",
              "      <td>Dry</td>\n",
              "      <td>None</td>\n",
              "      <td>None</td>\n",
              "      <td>1</td>\n",
              "      <td>2012</td>\n",
              "    </tr>\n",
              "    <tr>\n",
              "      <th>4</th>\n",
              "      <td>526170</td>\n",
              "      <td>179200</td>\n",
              "      <td>-0.183773</td>\n",
              "      <td>51.497614</td>\n",
              "      <td>3</td>\n",
              "      <td>1</td>\n",
              "      <td>1</td>\n",
              "      <td>3</td>\n",
              "      <td>325</td>\n",
              "      <td>Single carriageway</td>\n",
              "      <td>30</td>\n",
              "      <td>0</td>\n",
              "      <td>None within 50 metres</td>\n",
              "      <td>No physical crossing within 50 meters</td>\n",
              "      <td>Darkness: Street lights present and lit</td>\n",
              "      <td>Fine without high winds</td>\n",
              "      <td>Dry</td>\n",
              "      <td>None</td>\n",
              "      <td>None</td>\n",
              "      <td>1</td>\n",
              "      <td>2012</td>\n",
              "    </tr>\n",
              "  </tbody>\n",
              "</table>\n",
              "</div>"
            ],
            "text/plain": [
              "   Location_Easting_OSGR  Location_Northing_OSGR  ...  Urban_or_Rural_Area  Year\n",
              "0                 527200                  178760  ...                    1  2012\n",
              "1                 524930                  181430  ...                    1  2012\n",
              "2                 525860                  178080  ...                    1  2012\n",
              "3                 524980                  181030  ...                    1  2012\n",
              "4                 526170                  179200  ...                    1  2012\n",
              "\n",
              "[5 rows x 21 columns]"
            ]
          },
          "metadata": {},
          "execution_count": 11
        }
      ]
    },
    {
      "cell_type": "code",
      "metadata": {
        "colab": {
          "base_uri": "https://localhost:8080/",
          "height": 351
        },
        "id": "SThrgeILc6de",
        "outputId": "e6627bb3-1733-456d-c1fb-f1b6f938e3b5"
      },
      "source": [
        "sns.boxplot(df['Location_Easting_OSGR'])"
      ],
      "execution_count": null,
      "outputs": [
        {
          "output_type": "stream",
          "name": "stderr",
          "text": [
            "/usr/local/lib/python3.7/dist-packages/seaborn/_decorators.py:43: FutureWarning: Pass the following variable as a keyword arg: x. From version 0.12, the only valid positional argument will be `data`, and passing other arguments without an explicit keyword will result in an error or misinterpretation.\n",
            "  FutureWarning\n"
          ]
        },
        {
          "output_type": "execute_result",
          "data": {
            "text/plain": [
              "<matplotlib.axes._subplots.AxesSubplot at 0x7fb70caf9910>"
            ]
          },
          "metadata": {},
          "execution_count": 12
        },
        {
          "output_type": "display_data",
          "data": {
            "image/png": "[encoded data removed]",
            "text/plain": [
              "<Figure size 432x288 with 1 Axes>"
            ]
          },
          "metadata": {
            "needs_background": "light"
          }
        }
      ]
    },
    {
      "cell_type": "code",
      "metadata": {
        "colab": {
          "base_uri": "https://localhost:8080/"
        },
        "id": "Jo_fpnZAQFAm",
        "outputId": "542f7ee2-94ed-42f7-c411-5eca634aa6aa"
      },
      "source": [
        "df['Road_Type'].value_counts()"
      ],
      "execution_count": null,
      "outputs": [
        {
          "output_type": "execute_result",
          "data": {
            "text/plain": [
              "Single carriageway    351268\n",
              "Dual carriageway       65998\n",
              "Roundabout             31852\n",
              "One way street          9074\n",
              "Slip road               4827\n",
              "Unknown                 1678\n",
              "Name: Road_Type, dtype: int64"
            ]
          },
          "metadata": {},
          "execution_count": 13
        }
      ]
    },
    {
      "cell_type": "markdown",
      "metadata": {
        "id": "yapeapYxklpn"
      },
      "source": [
        "Les **valeurs aberrantes** présente 0.7% du dataset donc on peut supprimer ces observations"
      ]
    },
    {
      "cell_type": "code",
      "metadata": {
        "id": "A7Yz1ALTl2dn"
      },
      "source": [
        "df = df.loc[df['Location_Easting_OSGR'] >=200000]"
      ],
      "execution_count": null,
      "outputs": []
    },
    {
      "cell_type": "code",
      "metadata": {
        "colab": {
          "base_uri": "https://localhost:8080/"
        },
        "id": "PumDeQJcm_Zr",
        "outputId": "cdcb2476-22d4-4c73-91a1-1ab6e9ef4ad6"
      },
      "source": [
        "df.shape"
      ],
      "execution_count": null,
      "outputs": [
        {
          "output_type": "execute_result",
          "data": {
            "text/plain": [
              "(461359, 21)"
            ]
          },
          "metadata": {},
          "execution_count": 15
        }
      ]
    },
    {
      "cell_type": "code",
      "metadata": {
        "colab": {
          "base_uri": "https://localhost:8080/",
          "height": 351
        },
        "id": "-j2XCUZPhKNe",
        "outputId": "9ddedb25-a02d-4304-a773-79418d50aff7"
      },
      "source": [
        "sns.boxplot(df['Location_Northing_OSGR'])"
      ],
      "execution_count": null,
      "outputs": [
        {
          "output_type": "stream",
          "name": "stderr",
          "text": [
            "/usr/local/lib/python3.7/dist-packages/seaborn/_decorators.py:43: FutureWarning: Pass the following variable as a keyword arg: x. From version 0.12, the only valid positional argument will be `data`, and passing other arguments without an explicit keyword will result in an error or misinterpretation.\n",
            "  FutureWarning\n"
          ]
        },
        {
          "output_type": "execute_result",
          "data": {
            "text/plain": [
              "<matplotlib.axes._subplots.AxesSubplot at 0x7fb70e615d90>"
            ]
          },
          "metadata": {},
          "execution_count": 16
        },
        {
          "output_type": "display_data",
          "data": {
            "image/png": "[encoded data removed]",
            "text/plain": [
              "<Figure size 432x288 with 1 Axes>"
            ]
          },
          "metadata": {
            "needs_background": "light"
          }
        }
      ]
    },
    {
      "cell_type": "code",
      "metadata": {
        "colab": {
          "base_uri": "https://localhost:8080/"
        },
        "id": "qmURU5v5c6de",
        "outputId": "db91463a-3714-410a-eb96-08e2836c4641"
      },
      "source": [
        "dfa = df.copy()\n",
        "dfa = dfa.loc[dfa['Location_Northing_OSGR'] >750000]\n",
        "dfa.shape"
      ],
      "execution_count": null,
      "outputs": [
        {
          "output_type": "execute_result",
          "data": {
            "text/plain": [
              "(4400, 21)"
            ]
          },
          "metadata": {},
          "execution_count": 17
        }
      ]
    },
    {
      "cell_type": "markdown",
      "metadata": {
        "id": "oXLhXohwyljX"
      },
      "source": [
        "Les **valeurs aberrantes** présente 0.7% du dataset donc on peut supprimer ces observations"
      ]
    },
    {
      "cell_type": "code",
      "metadata": {
        "colab": {
          "base_uri": "https://localhost:8080/"
        },
        "id": "i-ceeITsxeyy",
        "outputId": "40c4c2c4-d0e8-4d49-c7f8-3f97478e63b9"
      },
      "source": [
        "df = df.loc[df['Location_Northing_OSGR'] <=750000]\n",
        "df.shape"
      ],
      "execution_count": null,
      "outputs": [
        {
          "output_type": "execute_result",
          "data": {
            "text/plain": [
              "(456959, 21)"
            ]
          },
          "metadata": {},
          "execution_count": 18
        }
      ]
    },
    {
      "cell_type": "code",
      "metadata": {
        "colab": {
          "base_uri": "https://localhost:8080/",
          "height": 350
        },
        "id": "2F7HYobgzjgI",
        "outputId": "dd8dfe60-ab5f-4e8f-9bcc-2f3a49085dbf"
      },
      "source": [
        "sns.boxplot(df['Longitude'])"
      ],
      "execution_count": null,
      "outputs": [
        {
          "output_type": "stream",
          "name": "stderr",
          "text": [
            "/usr/local/lib/python3.7/dist-packages/seaborn/_decorators.py:43: FutureWarning: Pass the following variable as a keyword arg: x. From version 0.12, the only valid positional argument will be `data`, and passing other arguments without an explicit keyword will result in an error or misinterpretation.\n",
            "  FutureWarning\n"
          ]
        },
        {
          "output_type": "execute_result",
          "data": {
            "text/plain": [
              "<matplotlib.axes._subplots.AxesSubplot at 0x7fb70d6449d0>"
            ]
          },
          "metadata": {},
          "execution_count": 19
        },
        {
          "output_type": "display_data",
          "data": {
            "image/png": "[encoded data removed]",
            "text/plain": [
              "<Figure size 432x288 with 1 Axes>"
            ]
          },
          "metadata": {
            "needs_background": "light"
          }
        }
      ]
    },
    {
      "cell_type": "markdown",
      "metadata": {
        "id": "-GPQqejNznTf"
      },
      "source": [
        "Pas de valeurs aberrantes pour l' attribut Longitude"
      ]
    },
    {
      "cell_type": "code",
      "metadata": {
        "colab": {
          "base_uri": "https://localhost:8080/",
          "height": 350
        },
        "id": "K4ea244fz-8N",
        "outputId": "21fc58dd-9456-49b3-fbb4-7b1c367786ca"
      },
      "source": [
        "sns.boxplot(df['Latitude'])"
      ],
      "execution_count": null,
      "outputs": [
        {
          "output_type": "stream",
          "name": "stderr",
          "text": [
            "/usr/local/lib/python3.7/dist-packages/seaborn/_decorators.py:43: FutureWarning: Pass the following variable as a keyword arg: x. From version 0.12, the only valid positional argument will be `data`, and passing other arguments without an explicit keyword will result in an error or misinterpretation.\n",
            "  FutureWarning\n"
          ]
        },
        {
          "output_type": "execute_result",
          "data": {
            "text/plain": [
              "<matplotlib.axes._subplots.AxesSubplot at 0x7fb703b17f50>"
            ]
          },
          "metadata": {},
          "execution_count": 20
        },
        {
          "output_type": "display_data",
          "data": {
            "image/png": "[encoded data removed]",
            "text/plain": [
              "<Figure size 432x288 with 1 Axes>"
            ]
          },
          "metadata": {
            "needs_background": "light"
          }
        }
      ]
    },
    {
      "cell_type": "code",
      "metadata": {
        "colab": {
          "base_uri": "https://localhost:8080/"
        },
        "id": "m6E6fYL90FMh",
        "outputId": "196f0323-69d4-4bc6-9b63-d3c9bd21cd56"
      },
      "source": [
        "df = df.loc[df['Latitude'] <=56]\n",
        "df.shape"
      ],
      "execution_count": null,
      "outputs": [
        {
          "output_type": "execute_result",
          "data": {
            "text/plain": [
              "(452450, 21)"
            ]
          },
          "metadata": {},
          "execution_count": 21
        }
      ]
    },
    {
      "cell_type": "code",
      "metadata": {
        "colab": {
          "base_uri": "https://localhost:8080/"
        },
        "id": "5pkF7F7Oc6df",
        "outputId": "a5502f9b-4436-4dd0-f283-e676e8659f16"
      },
      "source": [
        "df['Accident_Severity'].value_counts()"
      ],
      "execution_count": null,
      "outputs": [
        {
          "output_type": "execute_result",
          "data": {
            "text/plain": [
              "3    383162\n",
              "2     64304\n",
              "1      4984\n",
              "Name: Accident_Severity, dtype: int64"
            ]
          },
          "metadata": {},
          "execution_count": 22
        }
      ]
    },
    {
      "cell_type": "code",
      "metadata": {
        "colab": {
          "base_uri": "https://localhost:8080/"
        },
        "id": "skgziLXrc6df",
        "outputId": "a88e690d-75f6-471b-8170-8d48247201a7"
      },
      "source": [
        "df['Number_of_Vehicles'].value_counts() "
      ],
      "execution_count": null,
      "outputs": [
        {
          "output_type": "execute_result",
          "data": {
            "text/plain": [
              "2     272659\n",
              "1     135025\n",
              "3      34795\n",
              "4       7485\n",
              "5       1642\n",
              "6        510\n",
              "7        175\n",
              "8         87\n",
              "9         30\n",
              "10        23\n",
              "11         6\n",
              "13         4\n",
              "12         3\n",
              "18         2\n",
              "21         1\n",
              "16         1\n",
              "19         1\n",
              "67         1\n",
              "Name: Number_of_Vehicles, dtype: int64"
            ]
          },
          "metadata": {},
          "execution_count": 23
        }
      ]
    },
    {
      "cell_type": "code",
      "metadata": {
        "colab": {
          "base_uri": "https://localhost:8080/"
        },
        "id": "fkMpY0Gac6df",
        "outputId": "d6e11f68-a323-450f-9208-f45f97e0d636"
      },
      "source": [
        "df['Number_of_Casualties'].value_counts()"
      ],
      "execution_count": null,
      "outputs": [
        {
          "output_type": "execute_result",
          "data": {
            "text/plain": [
              "1     352038\n",
              "2      69054\n",
              "3      19881\n",
              "4       7143\n",
              "5       2635\n",
              "6       1010\n",
              "7        320\n",
              "8        155\n",
              "9         81\n",
              "10        40\n",
              "11        26\n",
              "12        14\n",
              "13        10\n",
              "14         7\n",
              "17         4\n",
              "16         4\n",
              "19         3\n",
              "15         3\n",
              "21         2\n",
              "24         2\n",
              "29         2\n",
              "25         2\n",
              "93         1\n",
              "87         1\n",
              "20         1\n",
              "22         1\n",
              "23         1\n",
              "26         1\n",
              "27         1\n",
              "33         1\n",
              "41         1\n",
              "42         1\n",
              "46         1\n",
              "54         1\n",
              "70         1\n",
              "18         1\n",
              "Name: Number_of_Casualties, dtype: int64"
            ]
          },
          "metadata": {},
          "execution_count": 24
        }
      ]
    },
    {
      "cell_type": "code",
      "metadata": {
        "colab": {
          "base_uri": "https://localhost:8080/"
        },
        "id": "dhJ661CKc6dg",
        "outputId": "94a9c0da-9449-4b9f-91ef-0c15a8ef9d51"
      },
      "source": [
        "df['Day_of_Week'].value_counts()"
      ],
      "execution_count": null,
      "outputs": [
        {
          "output_type": "execute_result",
          "data": {
            "text/plain": [
              "6    74086\n",
              "5    68844\n",
              "3    68519\n",
              "4    68051\n",
              "2    64959\n",
              "7    59097\n",
              "1    48894\n",
              "Name: Day_of_Week, dtype: int64"
            ]
          },
          "metadata": {},
          "execution_count": 25
        }
      ]
    },
    {
      "cell_type": "code",
      "metadata": {
        "colab": {
          "base_uri": "https://localhost:8080/",
          "height": 351
        },
        "id": "6r9squ3Gc6dg",
        "outputId": "dd2f7a95-b9d9-4bd4-ac2b-3eb648f72ebc"
      },
      "source": [
        "sns.boxplot(df['1st_Road_Number'])"
      ],
      "execution_count": null,
      "outputs": [
        {
          "output_type": "stream",
          "name": "stderr",
          "text": [
            "/usr/local/lib/python3.7/dist-packages/seaborn/_decorators.py:43: FutureWarning: Pass the following variable as a keyword arg: x. From version 0.12, the only valid positional argument will be `data`, and passing other arguments without an explicit keyword will result in an error or misinterpretation.\n",
            "  FutureWarning\n"
          ]
        },
        {
          "output_type": "execute_result",
          "data": {
            "text/plain": [
              "<matplotlib.axes._subplots.AxesSubplot at 0x7fb70d1ee710>"
            ]
          },
          "metadata": {},
          "execution_count": 26
        },
        {
          "output_type": "display_data",
          "data": {
            "image/png": "[encoded data removed]",
            "text/plain": [
              "<Figure size 432x288 with 1 Axes>"
            ]
          },
          "metadata": {
            "needs_background": "light"
          }
        }
      ]
    },
    {
      "cell_type": "code",
      "metadata": {
        "colab": {
          "base_uri": "https://localhost:8080/"
        },
        "id": "ejzK0dim7lYE",
        "outputId": "fde1aefb-ba3c-4ed5-c223-76f104fdd3af"
      },
      "source": [
        "dfa = df.copy()\n",
        "dfa = dfa.loc[dfa['1st_Road_Number'] >2000]\n",
        "dfa.shape"
      ],
      "execution_count": null,
      "outputs": [
        {
          "output_type": "execute_result",
          "data": {
            "text/plain": [
              "(82419, 21)"
            ]
          },
          "metadata": {},
          "execution_count": 27
        }
      ]
    },
    {
      "cell_type": "code",
      "metadata": {
        "id": "ZTD2Odk96UH6"
      },
      "source": [
        "df['1st_Road_Number'].loc[df['1st_Road_Number'] >= 2000] = df['1st_Road_Number'].median()\n"
      ],
      "execution_count": null,
      "outputs": []
    },
    {
      "cell_type": "code",
      "metadata": {
        "colab": {
          "base_uri": "https://localhost:8080/",
          "height": 626
        },
        "id": "4cyyuEXeKabR",
        "outputId": "2f85c859-e797-44ba-b56b-c7cec93e59d3"
      },
      "source": [
        "df"
      ],
      "execution_count": null,
      "outputs": [
        {
          "output_type": "execute_result",
          "data": {
            "text/html": [
              "<div>\n",
              "<style scoped>\n",
              "    .dataframe tbody tr th:only-of-type {\n",
              "        vertical-align: middle;\n",
              "    }\n",
              "\n",
              "    .dataframe tbody tr th {\n",
              "        vertical-align: top;\n",
              "    }\n",
              "\n",
              "    .dataframe thead th {\n",
              "        text-align: right;\n",
              "    }\n",
              "</style>\n",
              "<table border=\"1\" class=\"dataframe\">\n",
              "  <thead>\n",
              "    <tr style=\"text-align: right;\">\n",
              "      <th></th>\n",
              "      <th>Location_Easting_OSGR</th>\n",
              "      <th>Location_Northing_OSGR</th>\n",
              "      <th>Longitude</th>\n",
              "      <th>Latitude</th>\n",
              "      <th>Accident_Severity</th>\n",
              "      <th>Number_of_Vehicles</th>\n",
              "      <th>Number_of_Casualties</th>\n",
              "      <th>Day_of_Week</th>\n",
              "      <th>1st_Road_Number</th>\n",
              "      <th>Road_Type</th>\n",
              "      <th>Speed_limit</th>\n",
              "      <th>2nd_Road_Number</th>\n",
              "      <th>Pedestrian_Crossing-Human_Control</th>\n",
              "      <th>Pedestrian_Crossing-Physical_Facilities</th>\n",
              "      <th>Light_Conditions</th>\n",
              "      <th>Weather_Conditions</th>\n",
              "      <th>Road_Surface_Conditions</th>\n",
              "      <th>Special_Conditions_at_Site</th>\n",
              "      <th>Carriageway_Hazards</th>\n",
              "      <th>Urban_or_Rural_Area</th>\n",
              "      <th>Year</th>\n",
              "    </tr>\n",
              "  </thead>\n",
              "  <tbody>\n",
              "    <tr>\n",
              "      <th>0</th>\n",
              "      <td>527200</td>\n",
              "      <td>178760</td>\n",
              "      <td>-0.169101</td>\n",
              "      <td>51.493429</td>\n",
              "      <td>3</td>\n",
              "      <td>2</td>\n",
              "      <td>1</td>\n",
              "      <td>5</td>\n",
              "      <td>308</td>\n",
              "      <td>Single carriageway</td>\n",
              "      <td>30</td>\n",
              "      <td>0</td>\n",
              "      <td>None within 50 metres</td>\n",
              "      <td>Pedestrian phase at traffic signal junction</td>\n",
              "      <td>Darkness: Street lights present and lit</td>\n",
              "      <td>Fine without high winds</td>\n",
              "      <td>Dry</td>\n",
              "      <td>None</td>\n",
              "      <td>None</td>\n",
              "      <td>1</td>\n",
              "      <td>2012</td>\n",
              "    </tr>\n",
              "    <tr>\n",
              "      <th>1</th>\n",
              "      <td>524930</td>\n",
              "      <td>181430</td>\n",
              "      <td>-0.200838</td>\n",
              "      <td>51.517931</td>\n",
              "      <td>3</td>\n",
              "      <td>2</td>\n",
              "      <td>1</td>\n",
              "      <td>4</td>\n",
              "      <td>412</td>\n",
              "      <td>Single carriageway</td>\n",
              "      <td>30</td>\n",
              "      <td>0</td>\n",
              "      <td>None within 50 metres</td>\n",
              "      <td>No physical crossing within 50 meters</td>\n",
              "      <td>Darkness: Street lights present and lit</td>\n",
              "      <td>Fine without high winds</td>\n",
              "      <td>Dry</td>\n",
              "      <td>None</td>\n",
              "      <td>None</td>\n",
              "      <td>1</td>\n",
              "      <td>2012</td>\n",
              "    </tr>\n",
              "    <tr>\n",
              "      <th>2</th>\n",
              "      <td>525860</td>\n",
              "      <td>178080</td>\n",
              "      <td>-0.188636</td>\n",
              "      <td>51.487618</td>\n",
              "      <td>3</td>\n",
              "      <td>2</td>\n",
              "      <td>1</td>\n",
              "      <td>3</td>\n",
              "      <td>148</td>\n",
              "      <td>One way street</td>\n",
              "      <td>30</td>\n",
              "      <td>0</td>\n",
              "      <td>None within 50 metres</td>\n",
              "      <td>non-junction pedestrian crossing</td>\n",
              "      <td>Daylight: Street light present</td>\n",
              "      <td>Fine without high winds</td>\n",
              "      <td>Dry</td>\n",
              "      <td>None</td>\n",
              "      <td>None</td>\n",
              "      <td>1</td>\n",
              "      <td>2012</td>\n",
              "    </tr>\n",
              "    <tr>\n",
              "      <th>3</th>\n",
              "      <td>524980</td>\n",
              "      <td>181030</td>\n",
              "      <td>-0.200259</td>\n",
              "      <td>51.514325</td>\n",
              "      <td>3</td>\n",
              "      <td>1</td>\n",
              "      <td>1</td>\n",
              "      <td>4</td>\n",
              "      <td>0</td>\n",
              "      <td>Single carriageway</td>\n",
              "      <td>30</td>\n",
              "      <td>0</td>\n",
              "      <td>None within 50 metres</td>\n",
              "      <td>No physical crossing within 50 meters</td>\n",
              "      <td>Daylight: Street light present</td>\n",
              "      <td>Fine without high winds</td>\n",
              "      <td>Dry</td>\n",
              "      <td>None</td>\n",
              "      <td>None</td>\n",
              "      <td>1</td>\n",
              "      <td>2012</td>\n",
              "    </tr>\n",
              "    <tr>\n",
              "      <th>4</th>\n",
              "      <td>526170</td>\n",
              "      <td>179200</td>\n",
              "      <td>-0.183773</td>\n",
              "      <td>51.497614</td>\n",
              "      <td>3</td>\n",
              "      <td>1</td>\n",
              "      <td>1</td>\n",
              "      <td>3</td>\n",
              "      <td>325</td>\n",
              "      <td>Single carriageway</td>\n",
              "      <td>30</td>\n",
              "      <td>0</td>\n",
              "      <td>None within 50 metres</td>\n",
              "      <td>No physical crossing within 50 meters</td>\n",
              "      <td>Darkness: Street lights present and lit</td>\n",
              "      <td>Fine without high winds</td>\n",
              "      <td>Dry</td>\n",
              "      <td>None</td>\n",
              "      <td>None</td>\n",
              "      <td>1</td>\n",
              "      <td>2012</td>\n",
              "    </tr>\n",
              "    <tr>\n",
              "      <th>...</th>\n",
              "      <td>...</td>\n",
              "      <td>...</td>\n",
              "      <td>...</td>\n",
              "      <td>...</td>\n",
              "      <td>...</td>\n",
              "      <td>...</td>\n",
              "      <td>...</td>\n",
              "      <td>...</td>\n",
              "      <td>...</td>\n",
              "      <td>...</td>\n",
              "      <td>...</td>\n",
              "      <td>...</td>\n",
              "      <td>...</td>\n",
              "      <td>...</td>\n",
              "      <td>...</td>\n",
              "      <td>...</td>\n",
              "      <td>...</td>\n",
              "      <td>...</td>\n",
              "      <td>...</td>\n",
              "      <td>...</td>\n",
              "      <td>...</td>\n",
              "    </tr>\n",
              "    <tr>\n",
              "      <th>464692</th>\n",
              "      <td>310037</td>\n",
              "      <td>597647</td>\n",
              "      <td>-3.417278</td>\n",
              "      <td>55.264773</td>\n",
              "      <td>2</td>\n",
              "      <td>2</td>\n",
              "      <td>1</td>\n",
              "      <td>1</td>\n",
              "      <td>74</td>\n",
              "      <td>Dual carriageway</td>\n",
              "      <td>70</td>\n",
              "      <td>0</td>\n",
              "      <td>None within 50 metres</td>\n",
              "      <td>No physical crossing within 50 meters</td>\n",
              "      <td>Darkeness: No street lighting</td>\n",
              "      <td>Snowing without high winds</td>\n",
              "      <td>Snow</td>\n",
              "      <td>None</td>\n",
              "      <td>None</td>\n",
              "      <td>2</td>\n",
              "      <td>2014</td>\n",
              "    </tr>\n",
              "    <tr>\n",
              "      <th>464693</th>\n",
              "      <td>321509</td>\n",
              "      <td>574063</td>\n",
              "      <td>-3.230255</td>\n",
              "      <td>55.054855</td>\n",
              "      <td>3</td>\n",
              "      <td>2</td>\n",
              "      <td>2</td>\n",
              "      <td>5</td>\n",
              "      <td>74</td>\n",
              "      <td>Dual carriageway</td>\n",
              "      <td>70</td>\n",
              "      <td>0</td>\n",
              "      <td>None within 50 metres</td>\n",
              "      <td>No physical crossing within 50 meters</td>\n",
              "      <td>Darkeness: No street lighting</td>\n",
              "      <td>Fine without high winds</td>\n",
              "      <td>Snow</td>\n",
              "      <td>None</td>\n",
              "      <td>None</td>\n",
              "      <td>2</td>\n",
              "      <td>2014</td>\n",
              "    </tr>\n",
              "    <tr>\n",
              "      <th>464694</th>\n",
              "      <td>321337</td>\n",
              "      <td>566365</td>\n",
              "      <td>-3.230826</td>\n",
              "      <td>54.985668</td>\n",
              "      <td>3</td>\n",
              "      <td>1</td>\n",
              "      <td>1</td>\n",
              "      <td>3</td>\n",
              "      <td>721</td>\n",
              "      <td>Single carriageway</td>\n",
              "      <td>40</td>\n",
              "      <td>0</td>\n",
              "      <td>None within 50 metres</td>\n",
              "      <td>No physical crossing within 50 meters</td>\n",
              "      <td>Darkness: Street lights present and lit</td>\n",
              "      <td>Fine without high winds</td>\n",
              "      <td>Frost/Ice</td>\n",
              "      <td>None</td>\n",
              "      <td>None</td>\n",
              "      <td>2</td>\n",
              "      <td>2014</td>\n",
              "    </tr>\n",
              "    <tr>\n",
              "      <th>464695</th>\n",
              "      <td>323869</td>\n",
              "      <td>566853</td>\n",
              "      <td>-3.191397</td>\n",
              "      <td>54.990446</td>\n",
              "      <td>2</td>\n",
              "      <td>3</td>\n",
              "      <td>2</td>\n",
              "      <td>4</td>\n",
              "      <td>75</td>\n",
              "      <td>Single carriageway</td>\n",
              "      <td>60</td>\n",
              "      <td>43</td>\n",
              "      <td>None within 50 metres</td>\n",
              "      <td>No physical crossing within 50 meters</td>\n",
              "      <td>Darkeness: No street lighting</td>\n",
              "      <td>Raining without high winds</td>\n",
              "      <td>Wet/Damp</td>\n",
              "      <td>None</td>\n",
              "      <td>None</td>\n",
              "      <td>2</td>\n",
              "      <td>2014</td>\n",
              "    </tr>\n",
              "    <tr>\n",
              "      <th>464696</th>\n",
              "      <td>314072</td>\n",
              "      <td>579971</td>\n",
              "      <td>-3.348426</td>\n",
              "      <td>55.106700</td>\n",
              "      <td>3</td>\n",
              "      <td>2</td>\n",
              "      <td>2</td>\n",
              "      <td>4</td>\n",
              "      <td>723</td>\n",
              "      <td>Single carriageway</td>\n",
              "      <td>60</td>\n",
              "      <td>7076</td>\n",
              "      <td>None within 50 metres</td>\n",
              "      <td>No physical crossing within 50 meters</td>\n",
              "      <td>Daylight: Street light present</td>\n",
              "      <td>Fine without high winds</td>\n",
              "      <td>Wet/Damp</td>\n",
              "      <td>None</td>\n",
              "      <td>None</td>\n",
              "      <td>2</td>\n",
              "      <td>2014</td>\n",
              "    </tr>\n",
              "  </tbody>\n",
              "</table>\n",
              "<p>452450 rows × 21 columns</p>\n",
              "</div>"
            ],
            "text/plain": [
              "        Location_Easting_OSGR  ...  Year\n",
              "0                      527200  ...  2012\n",
              "1                      524930  ...  2012\n",
              "2                      525860  ...  2012\n",
              "3                      524980  ...  2012\n",
              "4                      526170  ...  2012\n",
              "...                       ...  ...   ...\n",
              "464692                 310037  ...  2014\n",
              "464693                 321509  ...  2014\n",
              "464694                 321337  ...  2014\n",
              "464695                 323869  ...  2014\n",
              "464696                 314072  ...  2014\n",
              "\n",
              "[452450 rows x 21 columns]"
            ]
          },
          "metadata": {},
          "execution_count": 29
        }
      ]
    },
    {
      "cell_type": "code",
      "metadata": {
        "colab": {
          "base_uri": "https://localhost:8080/"
        },
        "id": "ecSlofRnREBA",
        "outputId": "166a5984-5550-4f19-80de-1a01b2145a43"
      },
      "source": [
        "df['Road_Type'].value_counts()"
      ],
      "execution_count": null,
      "outputs": [
        {
          "output_type": "execute_result",
          "data": {
            "text/plain": [
              "Single carriageway    341222\n",
              "Dual carriageway       64823\n",
              "Roundabout             31217\n",
              "One way street          8861\n",
              "Slip road               4763\n",
              "Unknown                 1564\n",
              "Name: Road_Type, dtype: int64"
            ]
          },
          "metadata": {},
          "execution_count": 30
        }
      ]
    },
    {
      "cell_type": "markdown",
      "metadata": {
        "id": "_hmx6wZP_xle"
      },
      "source": [
        "Présence d'une classe unknown qui représente 0.3% du dataset => Suppression des observations relaives \\\\\n",
        " ça sera appliqué pour les differents attributs"
      ]
    },
    {
      "cell_type": "code",
      "metadata": {
        "colab": {
          "base_uri": "https://localhost:8080/"
        },
        "id": "onyBMs9Kc6dh",
        "outputId": "e57e29bc-0558-46db-b6a4-cd2265373f4c"
      },
      "source": [
        "df = df.loc[df['Road_Type'] != 'Unknown']\n",
        "df['Road_Type'].value_counts()"
      ],
      "execution_count": null,
      "outputs": [
        {
          "output_type": "execute_result",
          "data": {
            "text/plain": [
              "Single carriageway    341222\n",
              "Dual carriageway       64823\n",
              "Roundabout             31217\n",
              "One way street          8861\n",
              "Slip road               4763\n",
              "Name: Road_Type, dtype: int64"
            ]
          },
          "metadata": {},
          "execution_count": 31
        }
      ]
    },
    {
      "cell_type": "code",
      "metadata": {
        "id": "WGJ9RGtz4nWG"
      },
      "source": [
        "df = df.loc[df['Light_Conditions'] != 'Darkness: Street lighting unknown']"
      ],
      "execution_count": null,
      "outputs": []
    },
    {
      "cell_type": "code",
      "metadata": {
        "colab": {
          "base_uri": "https://localhost:8080/"
        },
        "id": "viNvV4Pbc6dj",
        "outputId": "c8f6e446-80d1-4edc-ab9b-5cba13c90770"
      },
      "source": [
        "df['Weather_Conditions'].value_counts()"
      ],
      "execution_count": null,
      "outputs": [
        {
          "output_type": "execute_result",
          "data": {
            "text/plain": [
              "Fine without high winds       358020\n",
              "Raining without high winds     54361\n",
              "Other                           7887\n",
              "Unknown                         7012\n",
              "Raining with high winds         6730\n",
              "Fine with high winds            4763\n",
              "Snowing without high winds      2450\n",
              "Fog or mist                     2253\n",
              "Snowing with high winds          662\n",
              "Name: Weather_Conditions, dtype: int64"
            ]
          },
          "metadata": {},
          "execution_count": 33
        }
      ]
    },
    {
      "cell_type": "code",
      "metadata": {
        "id": "XT5_tCosSuBO"
      },
      "source": [
        "df = df.loc[df['Weather_Conditions'] != 'Unknown']\n",
        "df = df.loc[df['Weather_Conditions'] != 'Other']\n",
        "\n"
      ],
      "execution_count": null,
      "outputs": []
    },
    {
      "cell_type": "code",
      "metadata": {
        "colab": {
          "base_uri": "https://localhost:8080/"
        },
        "id": "_jEmrBCuTgak",
        "outputId": "000f2e3c-96f7-46c9-9ecc-07a65095d359"
      },
      "source": [
        "df['Weather_Conditions'].value_counts()"
      ],
      "execution_count": null,
      "outputs": [
        {
          "output_type": "execute_result",
          "data": {
            "text/plain": [
              "Fine without high winds       358020\n",
              "Raining without high winds     54361\n",
              "Raining with high winds         6730\n",
              "Fine with high winds            4763\n",
              "Snowing without high winds      2450\n",
              "Fog or mist                     2253\n",
              "Snowing with high winds          662\n",
              "Name: Weather_Conditions, dtype: int64"
            ]
          },
          "metadata": {},
          "execution_count": 35
        }
      ]
    },
    {
      "cell_type": "code",
      "metadata": {
        "colab": {
          "base_uri": "https://localhost:8080/"
        },
        "id": "6xcrrGFvc6dk",
        "outputId": "6babe9d0-3cdb-4219-960f-5b1675078726"
      },
      "source": [
        "df['Carriageway_Hazards'].value_counts()"
      ],
      "execution_count": null,
      "outputs": [
        {
          "output_type": "execute_result",
          "data": {
            "text/plain": [
              "None                                       422224\n",
              "Other object in carriageway                  2800\n",
              "Any animal (except a ridden horse)           2092\n",
              "Pedestrian in carriageway (not injured)      1152\n",
              "Involvement with previous accident            542\n",
              "Dislodged vehicle load in carriageway         428\n",
              "Name: Carriageway_Hazards, dtype: int64"
            ]
          },
          "metadata": {},
          "execution_count": 36
        }
      ]
    },
    {
      "cell_type": "code",
      "metadata": {
        "id": "OWcXj2HyTuSk"
      },
      "source": [
        "df = df.loc[df['Carriageway_Hazards'] != 'Other object in carriageway']"
      ],
      "execution_count": null,
      "outputs": []
    },
    {
      "cell_type": "code",
      "metadata": {
        "colab": {
          "base_uri": "https://localhost:8080/"
        },
        "id": "VgMc97wEc6dn",
        "outputId": "1254c6ad-4319-466b-99c1-17c0848a9fc6"
      },
      "source": [
        "df.isnull().sum()"
      ],
      "execution_count": null,
      "outputs": [
        {
          "output_type": "execute_result",
          "data": {
            "text/plain": [
              "Location_Easting_OSGR                        0\n",
              "Location_Northing_OSGR                       0\n",
              "Longitude                                    0\n",
              "Latitude                                     0\n",
              "Accident_Severity                            0\n",
              "Number_of_Vehicles                           0\n",
              "Number_of_Casualties                         0\n",
              "Day_of_Week                                  0\n",
              "1st_Road_Number                              0\n",
              "Road_Type                                    0\n",
              "Speed_limit                                  0\n",
              "2nd_Road_Number                              0\n",
              "Pedestrian_Crossing-Human_Control            0\n",
              "Pedestrian_Crossing-Physical_Facilities      0\n",
              "Light_Conditions                             0\n",
              "Weather_Conditions                           0\n",
              "Road_Surface_Conditions                    170\n",
              "Special_Conditions_at_Site                   1\n",
              "Carriageway_Hazards                          1\n",
              "Urban_or_Rural_Area                          0\n",
              "Year                                         0\n",
              "dtype: int64"
            ]
          },
          "metadata": {},
          "execution_count": 38
        }
      ]
    },
    {
      "cell_type": "code",
      "metadata": {
        "id": "v6FsTGI76ooY"
      },
      "source": [
        "df.dropna(inplace=True)"
      ],
      "execution_count": null,
      "outputs": []
    },
    {
      "cell_type": "code",
      "metadata": {
        "colab": {
          "base_uri": "https://localhost:8080/"
        },
        "id": "0-_nT-DkBZgS",
        "outputId": "8d0befe8-d4a7-42a1-e015-7eb5555029b3"
      },
      "source": [
        "df.isnull().sum()"
      ],
      "execution_count": null,
      "outputs": [
        {
          "output_type": "execute_result",
          "data": {
            "text/plain": [
              "Location_Easting_OSGR                      0\n",
              "Location_Northing_OSGR                     0\n",
              "Longitude                                  0\n",
              "Latitude                                   0\n",
              "Accident_Severity                          0\n",
              "Number_of_Vehicles                         0\n",
              "Number_of_Casualties                       0\n",
              "Day_of_Week                                0\n",
              "1st_Road_Number                            0\n",
              "Road_Type                                  0\n",
              "Speed_limit                                0\n",
              "2nd_Road_Number                            0\n",
              "Pedestrian_Crossing-Human_Control          0\n",
              "Pedestrian_Crossing-Physical_Facilities    0\n",
              "Light_Conditions                           0\n",
              "Weather_Conditions                         0\n",
              "Road_Surface_Conditions                    0\n",
              "Special_Conditions_at_Site                 0\n",
              "Carriageway_Hazards                        0\n",
              "Urban_or_Rural_Area                        0\n",
              "Year                                       0\n",
              "dtype: int64"
            ]
          },
          "metadata": {},
          "execution_count": 40
        }
      ]
    },
    {
      "cell_type": "code",
      "metadata": {
        "colab": {
          "base_uri": "https://localhost:8080/"
        },
        "id": "LrEui6eBc6dt",
        "outputId": "acd2c0fa-3395-4bcd-8be2-9a088bfedeb1"
      },
      "source": [
        "df.shape"
      ],
      "execution_count": null,
      "outputs": [
        {
          "output_type": "execute_result",
          "data": {
            "text/plain": [
              "(426268, 21)"
            ]
          },
          "metadata": {},
          "execution_count": 41
        }
      ]
    },
    {
      "cell_type": "code",
      "metadata": {
        "id": "lVCnOPnDc6dt"
      },
      "source": [
        "df.drop_duplicates(keep = 'first', inplace=True)"
      ],
      "execution_count": null,
      "outputs": []
    },
    {
      "cell_type": "code",
      "metadata": {
        "colab": {
          "base_uri": "https://localhost:8080/"
        },
        "id": "zX0s1XPkNh-N",
        "outputId": "20367e2b-0784-4c80-a25d-7f1be581d9db"
      },
      "source": [
        "df.shape"
      ],
      "execution_count": null,
      "outputs": [
        {
          "output_type": "execute_result",
          "data": {
            "text/plain": [
              "(393770, 21)"
            ]
          },
          "metadata": {},
          "execution_count": 43
        }
      ]
    },
    {
      "cell_type": "markdown",
      "metadata": {
        "id": "tE54Sdth1wxB"
      },
      "source": [
        "## **2-2- Feature engineering**\n",
        "### **2-2-1 - Categories regrouping**\n"
      ]
    },
    {
      "cell_type": "code",
      "metadata": {
        "colab": {
          "base_uri": "https://localhost:8080/"
        },
        "id": "akZjCXRac6dg",
        "outputId": "9b5c97e2-b288-4dd8-badd-9fbea8979e4f"
      },
      "source": [
        "df['Road_Type'].value_counts()"
      ],
      "execution_count": null,
      "outputs": [
        {
          "output_type": "execute_result",
          "data": {
            "text/plain": [
              "Single carriageway    297529\n",
              "Dual carriageway       56592\n",
              "Roundabout             27662\n",
              "One way street          7773\n",
              "Slip road               4214\n",
              "Name: Road_Type, dtype: int64"
            ]
          },
          "metadata": {},
          "execution_count": 44
        }
      ]
    },
    {
      "cell_type": "markdown",
      "metadata": {
        "id": "ybIV_KFi64CX"
      },
      "source": [
        "Dans le cas du Road_Type les deux valeurs Single carriageway et One way street correspondent au meme sens => possibilité de réunir ces deux classes.\n",
        "Présence d'une classe unknown qui représente 0.3% du dataset => Suppression des observations relaives\n",
        " ça sera appliqué pour les differents attributs"
      ]
    },
    {
      "cell_type": "code",
      "metadata": {
        "id": "A163KLuLc6dh"
      },
      "source": [
        "df.replace(to_replace =\"One way street\",  \n",
        "                 value = \"Single carriageway\",  \n",
        "                  inplace = True)"
      ],
      "execution_count": null,
      "outputs": []
    },
    {
      "cell_type": "code",
      "metadata": {
        "colab": {
          "base_uri": "https://localhost:8080/"
        },
        "id": "YP33CU3Cc6dh",
        "outputId": "f35b4aa3-a4e6-4dff-87c0-308d718b0203"
      },
      "source": [
        "df['Speed_limit'].value_counts()"
      ],
      "execution_count": null,
      "outputs": [
        {
          "output_type": "execute_result",
          "data": {
            "text/plain": [
              "30    258184\n",
              "60     52929\n",
              "40     32479\n",
              "70     27426\n",
              "50     15255\n",
              "20      7496\n",
              "10         1\n",
              "Name: Speed_limit, dtype: int64"
            ]
          },
          "metadata": {},
          "execution_count": 46
        }
      ]
    },
    {
      "cell_type": "code",
      "metadata": {
        "colab": {
          "base_uri": "https://localhost:8080/"
        },
        "id": "_0E-uFOEc6di",
        "outputId": "68947f0b-71a2-4144-8b68-76e3cbf740a8"
      },
      "source": [
        "df['Pedestrian_Crossing-Human_Control'].value_counts()"
      ],
      "execution_count": null,
      "outputs": [
        {
          "output_type": "execute_result",
          "data": {
            "text/plain": [
              "None within 50 metres                 391628\n",
              "Control by other authorised person      1224\n",
              "Control by school crossing patrol        918\n",
              "Name: Pedestrian_Crossing-Human_Control, dtype: int64"
            ]
          },
          "metadata": {},
          "execution_count": 47
        }
      ]
    },
    {
      "cell_type": "code",
      "metadata": {
        "id": "GCdNxf28c6di"
      },
      "source": [
        "df.replace(to_replace =\"Control by school crossing patrol\",  \n",
        "                 value = \"Control by other authorised person\",  \n",
        "                  inplace = True)"
      ],
      "execution_count": null,
      "outputs": []
    },
    {
      "cell_type": "code",
      "metadata": {
        "colab": {
          "base_uri": "https://localhost:8080/"
        },
        "id": "0oBdRY6qc6di",
        "outputId": "b24e1ffc-58e7-4b75-f608-1534596a0e55"
      },
      "source": [
        "df['Pedestrian_Crossing-Human_Control'].value_counts()"
      ],
      "execution_count": null,
      "outputs": [
        {
          "output_type": "execute_result",
          "data": {
            "text/plain": [
              "None within 50 metres                 391628\n",
              "Control by other authorised person      2142\n",
              "Name: Pedestrian_Crossing-Human_Control, dtype: int64"
            ]
          },
          "metadata": {},
          "execution_count": 49
        }
      ]
    },
    {
      "cell_type": "code",
      "metadata": {
        "colab": {
          "base_uri": "https://localhost:8080/"
        },
        "id": "DKOV6tkZc6di",
        "outputId": "101b6ac3-8352-4db0-c538-23e97562d695"
      },
      "source": [
        "df['Pedestrian_Crossing-Physical_Facilities'].value_counts()"
      ],
      "execution_count": null,
      "outputs": [
        {
          "output_type": "execute_result",
          "data": {
            "text/plain": [
              "No physical crossing within 50 meters          318086\n",
              "Pedestrian phase at traffic signal junction     30337\n",
              "non-junction pedestrian crossing                23019\n",
              "Zebra crossing                                  12055\n",
              "Central refuge                                   8947\n",
              "Footbridge or subway                             1326\n",
              "Name: Pedestrian_Crossing-Physical_Facilities, dtype: int64"
            ]
          },
          "metadata": {},
          "execution_count": 50
        }
      ]
    },
    {
      "cell_type": "code",
      "metadata": {
        "colab": {
          "base_uri": "https://localhost:8080/"
        },
        "id": "L945KKB1c6dj",
        "outputId": "eafb9fb5-9ce2-4fa5-f928-d5eb9c7ce446"
      },
      "source": [
        "df['Light_Conditions'].value_counts()"
      ],
      "execution_count": null,
      "outputs": [
        {
          "output_type": "execute_result",
          "data": {
            "text/plain": [
              "Daylight: Street light present               294282\n",
              "Darkness: Street lights present and lit       77989\n",
              "Darkeness: No street lighting                 19291\n",
              "Darkness: Street lights present but unlit      2208\n",
              "Name: Light_Conditions, dtype: int64"
            ]
          },
          "metadata": {},
          "execution_count": 51
        }
      ]
    },
    {
      "cell_type": "code",
      "metadata": {
        "id": "tC37EXaVc6dj"
      },
      "source": [
        "df.replace(to_replace =\"Darkness: Street lights present but unlit\",  \n",
        "                 value = \"Darkeness: No street lighting\",  \n",
        "                  inplace = True)"
      ],
      "execution_count": null,
      "outputs": []
    },
    {
      "cell_type": "code",
      "metadata": {
        "colab": {
          "base_uri": "https://localhost:8080/"
        },
        "id": "zLNXcTfbc6dj",
        "outputId": "bed51f96-9e0e-45f8-e5b3-72e5156d36c8"
      },
      "source": [
        "df['Light_Conditions'].value_counts()"
      ],
      "execution_count": null,
      "outputs": [
        {
          "output_type": "execute_result",
          "data": {
            "text/plain": [
              "Daylight: Street light present             294282\n",
              "Darkness: Street lights present and lit     77989\n",
              "Darkeness: No street lighting               21499\n",
              "Name: Light_Conditions, dtype: int64"
            ]
          },
          "metadata": {},
          "execution_count": 53
        }
      ]
    },
    {
      "cell_type": "code",
      "metadata": {
        "colab": {
          "base_uri": "https://localhost:8080/"
        },
        "id": "PHRu34J5c6dj",
        "outputId": "6fe84fbf-4cf3-4db6-8e69-b18bc2d0b22c"
      },
      "source": [
        "df['Road_Surface_Conditions'].value_counts()"
      ],
      "execution_count": null,
      "outputs": [
        {
          "output_type": "execute_result",
          "data": {
            "text/plain": [
              "Dry                          275591\n",
              "Wet/Damp                     109913\n",
              "Frost/Ice                      5296\n",
              "Snow                           2277\n",
              "Flood (Over 3cm of water)       693\n",
              "Name: Road_Surface_Conditions, dtype: int64"
            ]
          },
          "metadata": {},
          "execution_count": 54
        }
      ]
    },
    {
      "cell_type": "code",
      "metadata": {
        "colab": {
          "base_uri": "https://localhost:8080/"
        },
        "id": "ilSlWhtec6dj",
        "outputId": "7e68bb13-42d0-4abe-c7eb-ea9e9852ab16"
      },
      "source": [
        "df['Special_Conditions_at_Site'].value_counts()"
      ],
      "execution_count": null,
      "outputs": [
        {
          "output_type": "execute_result",
          "data": {
            "text/plain": [
              "None                                               385438\n",
              "Roadworks                                            3875\n",
              "Mud                                                  1125\n",
              "Ol or diesel                                         1116\n",
              "Road surface defective                                881\n",
              "Auto traffic singal out                               642\n",
              "Permanent sign or marking defective or obscured       525\n",
              "Auto traffic signal partly defective                  168\n",
              "Name: Special_Conditions_at_Site, dtype: int64"
            ]
          },
          "metadata": {},
          "execution_count": 55
        }
      ]
    },
    {
      "cell_type": "code",
      "metadata": {
        "colab": {
          "base_uri": "https://localhost:8080/"
        },
        "id": "hqlSAK9Zc6dk",
        "outputId": "faa42543-987c-4fef-fd7a-e7049b830ec2"
      },
      "source": [
        "df['Urban_or_Rural_Area'].value_counts()"
      ],
      "execution_count": null,
      "outputs": [
        {
          "output_type": "execute_result",
          "data": {
            "text/plain": [
              "1    261212\n",
              "2    132558\n",
              "Name: Urban_or_Rural_Area, dtype: int64"
            ]
          },
          "metadata": {},
          "execution_count": 56
        }
      ]
    },
    {
      "cell_type": "code",
      "metadata": {
        "colab": {
          "base_uri": "https://localhost:8080/"
        },
        "id": "p6gzw0YNc6dl",
        "outputId": "0f2efc8d-da6b-4203-96d9-a3b1dded470e"
      },
      "source": [
        "df['Year'].value_counts()"
      ],
      "execution_count": null,
      "outputs": [
        {
          "output_type": "execute_result",
          "data": {
            "text/plain": [
              "2014    135059\n",
              "2012    132054\n",
              "2013    126657\n",
              "Name: Year, dtype: int64"
            ]
          },
          "metadata": {},
          "execution_count": 57
        }
      ]
    },
    {
      "cell_type": "code",
      "metadata": {
        "id": "NMexgK2Pc6do"
      },
      "source": [
        "df['Pedestrian_Crossing-Human_Control'] = df['Pedestrian_Crossing-Human_Control'].astype('category')"
      ],
      "execution_count": null,
      "outputs": []
    },
    {
      "cell_type": "code",
      "metadata": {
        "id": "bUB0nFsXc6do"
      },
      "source": [
        "df['Pedestrian_Crossing-Physical_Facilities'] = df['Pedestrian_Crossing-Physical_Facilities'].astype('category')\n",
        "df['Light_Conditions'] = df['Light_Conditions'].astype('category')\n",
        "df['Weather_Conditions'] = df['Weather_Conditions'].astype('category')\n",
        "df['Road_Surface_Conditions'] = df['Road_Surface_Conditions'].astype('category')\n",
        "df['Special_Conditions_at_Site'] = df['Special_Conditions_at_Site'].astype('category')\n",
        "df['Carriageway_Hazards'] = df['Carriageway_Hazards'].astype('category')\n",
        "df['Urban_or_Rural_Area'] = df['Urban_or_Rural_Area'].astype('category')\n",
        "df['Year'] = df['Year'].astype('category')"
      ],
      "execution_count": null,
      "outputs": []
    },
    {
      "cell_type": "code",
      "metadata": {
        "id": "NjAXU3wBc6do"
      },
      "source": [
        "df['Road_Type'] = df['Road_Type'].astype('category')\n"
      ],
      "execution_count": null,
      "outputs": []
    },
    {
      "cell_type": "code",
      "metadata": {
        "colab": {
          "base_uri": "https://localhost:8080/",
          "height": 326
        },
        "id": "UlBsGLCbQnQq",
        "outputId": "58ebdb82-5ac5-4f75-f4d4-1192b2e42a06"
      },
      "source": [
        "df.head()"
      ],
      "execution_count": null,
      "outputs": [
        {
          "output_type": "execute_result",
          "data": {
            "text/html": [
              "<div>\n",
              "<style scoped>\n",
              "    .dataframe tbody tr th:only-of-type {\n",
              "        vertical-align: middle;\n",
              "    }\n",
              "\n",
              "    .dataframe tbody tr th {\n",
              "        vertical-align: top;\n",
              "    }\n",
              "\n",
              "    .dataframe thead th {\n",
              "        text-align: right;\n",
              "    }\n",
              "</style>\n",
              "<table border=\"1\" class=\"dataframe\">\n",
              "  <thead>\n",
              "    <tr style=\"text-align: right;\">\n",
              "      <th></th>\n",
              "      <th>Location_Easting_OSGR</th>\n",
              "      <th>Location_Northing_OSGR</th>\n",
              "      <th>Longitude</th>\n",
              "      <th>Latitude</th>\n",
              "      <th>Accident_Severity</th>\n",
              "      <th>Number_of_Vehicles</th>\n",
              "      <th>Number_of_Casualties</th>\n",
              "      <th>Day_of_Week</th>\n",
              "      <th>1st_Road_Number</th>\n",
              "      <th>Road_Type</th>\n",
              "      <th>Speed_limit</th>\n",
              "      <th>2nd_Road_Number</th>\n",
              "      <th>Pedestrian_Crossing-Human_Control</th>\n",
              "      <th>Pedestrian_Crossing-Physical_Facilities</th>\n",
              "      <th>Light_Conditions</th>\n",
              "      <th>Weather_Conditions</th>\n",
              "      <th>Road_Surface_Conditions</th>\n",
              "      <th>Special_Conditions_at_Site</th>\n",
              "      <th>Carriageway_Hazards</th>\n",
              "      <th>Urban_or_Rural_Area</th>\n",
              "      <th>Year</th>\n",
              "    </tr>\n",
              "  </thead>\n",
              "  <tbody>\n",
              "    <tr>\n",
              "      <th>0</th>\n",
              "      <td>527200</td>\n",
              "      <td>178760</td>\n",
              "      <td>-0.169101</td>\n",
              "      <td>51.493429</td>\n",
              "      <td>3</td>\n",
              "      <td>2</td>\n",
              "      <td>1</td>\n",
              "      <td>5</td>\n",
              "      <td>308</td>\n",
              "      <td>Single carriageway</td>\n",
              "      <td>30</td>\n",
              "      <td>0</td>\n",
              "      <td>None within 50 metres</td>\n",
              "      <td>Pedestrian phase at traffic signal junction</td>\n",
              "      <td>Darkness: Street lights present and lit</td>\n",
              "      <td>Fine without high winds</td>\n",
              "      <td>Dry</td>\n",
              "      <td>None</td>\n",
              "      <td>None</td>\n",
              "      <td>1</td>\n",
              "      <td>2012</td>\n",
              "    </tr>\n",
              "    <tr>\n",
              "      <th>1</th>\n",
              "      <td>524930</td>\n",
              "      <td>181430</td>\n",
              "      <td>-0.200838</td>\n",
              "      <td>51.517931</td>\n",
              "      <td>3</td>\n",
              "      <td>2</td>\n",
              "      <td>1</td>\n",
              "      <td>4</td>\n",
              "      <td>412</td>\n",
              "      <td>Single carriageway</td>\n",
              "      <td>30</td>\n",
              "      <td>0</td>\n",
              "      <td>None within 50 metres</td>\n",
              "      <td>No physical crossing within 50 meters</td>\n",
              "      <td>Darkness: Street lights present and lit</td>\n",
              "      <td>Fine without high winds</td>\n",
              "      <td>Dry</td>\n",
              "      <td>None</td>\n",
              "      <td>None</td>\n",
              "      <td>1</td>\n",
              "      <td>2012</td>\n",
              "    </tr>\n",
              "    <tr>\n",
              "      <th>2</th>\n",
              "      <td>525860</td>\n",
              "      <td>178080</td>\n",
              "      <td>-0.188636</td>\n",
              "      <td>51.487618</td>\n",
              "      <td>3</td>\n",
              "      <td>2</td>\n",
              "      <td>1</td>\n",
              "      <td>3</td>\n",
              "      <td>148</td>\n",
              "      <td>Single carriageway</td>\n",
              "      <td>30</td>\n",
              "      <td>0</td>\n",
              "      <td>None within 50 metres</td>\n",
              "      <td>non-junction pedestrian crossing</td>\n",
              "      <td>Daylight: Street light present</td>\n",
              "      <td>Fine without high winds</td>\n",
              "      <td>Dry</td>\n",
              "      <td>None</td>\n",
              "      <td>None</td>\n",
              "      <td>1</td>\n",
              "      <td>2012</td>\n",
              "    </tr>\n",
              "    <tr>\n",
              "      <th>3</th>\n",
              "      <td>524980</td>\n",
              "      <td>181030</td>\n",
              "      <td>-0.200259</td>\n",
              "      <td>51.514325</td>\n",
              "      <td>3</td>\n",
              "      <td>1</td>\n",
              "      <td>1</td>\n",
              "      <td>4</td>\n",
              "      <td>0</td>\n",
              "      <td>Single carriageway</td>\n",
              "      <td>30</td>\n",
              "      <td>0</td>\n",
              "      <td>None within 50 metres</td>\n",
              "      <td>No physical crossing within 50 meters</td>\n",
              "      <td>Daylight: Street light present</td>\n",
              "      <td>Fine without high winds</td>\n",
              "      <td>Dry</td>\n",
              "      <td>None</td>\n",
              "      <td>None</td>\n",
              "      <td>1</td>\n",
              "      <td>2012</td>\n",
              "    </tr>\n",
              "    <tr>\n",
              "      <th>4</th>\n",
              "      <td>526170</td>\n",
              "      <td>179200</td>\n",
              "      <td>-0.183773</td>\n",
              "      <td>51.497614</td>\n",
              "      <td>3</td>\n",
              "      <td>1</td>\n",
              "      <td>1</td>\n",
              "      <td>3</td>\n",
              "      <td>325</td>\n",
              "      <td>Single carriageway</td>\n",
              "      <td>30</td>\n",
              "      <td>0</td>\n",
              "      <td>None within 50 metres</td>\n",
              "      <td>No physical crossing within 50 meters</td>\n",
              "      <td>Darkness: Street lights present and lit</td>\n",
              "      <td>Fine without high winds</td>\n",
              "      <td>Dry</td>\n",
              "      <td>None</td>\n",
              "      <td>None</td>\n",
              "      <td>1</td>\n",
              "      <td>2012</td>\n",
              "    </tr>\n",
              "  </tbody>\n",
              "</table>\n",
              "</div>"
            ],
            "text/plain": [
              "   Location_Easting_OSGR  Location_Northing_OSGR  ...  Urban_or_Rural_Area  Year\n",
              "0                 527200                  178760  ...                    1  2012\n",
              "1                 524930                  181430  ...                    1  2012\n",
              "2                 525860                  178080  ...                    1  2012\n",
              "3                 524980                  181030  ...                    1  2012\n",
              "4                 526170                  179200  ...                    1  2012\n",
              "\n",
              "[5 rows x 21 columns]"
            ]
          },
          "metadata": {},
          "execution_count": 61
        }
      ]
    },
    {
      "cell_type": "markdown",
      "metadata": {
        "id": "UAKbDzqCCeze"
      },
      "source": [
        "### **2-2-2 - One hot encoding for categorical attributes**\n"
      ]
    },
    {
      "cell_type": "code",
      "metadata": {
        "id": "hl6n3oIqChcu"
      },
      "source": [
        "df = pd.get_dummies(df, columns=['Road_Type'])\n",
        "df = pd.get_dummies(df, columns=['Pedestrian_Crossing-Human_Control'])\n",
        "df = pd.get_dummies(df, columns=['Pedestrian_Crossing-Physical_Facilities'])\n",
        "df = pd.get_dummies(df, columns=['Light_Conditions'])\n",
        "df = pd.get_dummies(df, columns=['Weather_Conditions'])\n",
        "df = pd.get_dummies(df, columns=['Road_Surface_Conditions'])\n",
        "df = pd.get_dummies(df, columns=['Special_Conditions_at_Site'])\n",
        "df = pd.get_dummies(df, columns=['Carriageway_Hazards'])\n"
      ],
      "execution_count": null,
      "outputs": []
    },
    {
      "cell_type": "code",
      "metadata": {
        "colab": {
          "base_uri": "https://localhost:8080/"
        },
        "id": "Jhbp4kgcc6dt",
        "outputId": "ec3146e1-e9ed-4bf0-d3dc-4b18f84a50c4"
      },
      "source": [
        "df.shape"
      ],
      "execution_count": null,
      "outputs": [
        {
          "output_type": "execute_result",
          "data": {
            "text/plain": [
              "(393770, 53)"
            ]
          },
          "metadata": {},
          "execution_count": 63
        }
      ]
    },
    {
      "cell_type": "code",
      "metadata": {
        "colab": {
          "base_uri": "https://localhost:8080/"
        },
        "id": "xL0G2JVoDe3A",
        "outputId": "57855559-23c5-4ed3-acd4-c46bd4b63875"
      },
      "source": [
        "df.head()"
      ],
      "execution_count": null,
      "outputs": [
        {
          "output_type": "execute_result",
          "data": {
            "text/html": [
              "<div>\n",
              "<style scoped>\n",
              "    .dataframe tbody tr th:only-of-type {\n",
              "        vertical-align: middle;\n",
              "    }\n",
              "\n",
              "    .dataframe tbody tr th {\n",
              "        vertical-align: top;\n",
              "    }\n",
              "\n",
              "    .dataframe thead th {\n",
              "        text-align: right;\n",
              "    }\n",
              "</style>\n",
              "<table border=\"1\" class=\"dataframe\">\n",
              "  <thead>\n",
              "    <tr style=\"text-align: right;\">\n",
              "      <th></th>\n",
              "      <th>Location_Easting_OSGR</th>\n",
              "      <th>Location_Northing_OSGR</th>\n",
              "      <th>Longitude</th>\n",
              "      <th>Latitude</th>\n",
              "      <th>Accident_Severity</th>\n",
              "      <th>Number_of_Vehicles</th>\n",
              "      <th>Number_of_Casualties</th>\n",
              "      <th>Day_of_Week</th>\n",
              "      <th>1st_Road_Number</th>\n",
              "      <th>Speed_limit</th>\n",
              "      <th>2nd_Road_Number</th>\n",
              "      <th>Urban_or_Rural_Area</th>\n",
              "      <th>Year</th>\n",
              "      <th>Road_Type_Dual carriageway</th>\n",
              "      <th>Road_Type_Roundabout</th>\n",
              "      <th>Road_Type_Single carriageway</th>\n",
              "      <th>Road_Type_Slip road</th>\n",
              "      <th>Pedestrian_Crossing-Human_Control_Control by other authorised person</th>\n",
              "      <th>Pedestrian_Crossing-Human_Control_None within 50 metres</th>\n",
              "      <th>Pedestrian_Crossing-Physical_Facilities_Central refuge</th>\n",
              "      <th>Pedestrian_Crossing-Physical_Facilities_Footbridge or subway</th>\n",
              "      <th>Pedestrian_Crossing-Physical_Facilities_No physical crossing within 50 meters</th>\n",
              "      <th>Pedestrian_Crossing-Physical_Facilities_Pedestrian phase at traffic signal junction</th>\n",
              "      <th>Pedestrian_Crossing-Physical_Facilities_Zebra crossing</th>\n",
              "      <th>Pedestrian_Crossing-Physical_Facilities_non-junction pedestrian crossing</th>\n",
              "      <th>Light_Conditions_Darkeness: No street lighting</th>\n",
              "      <th>Light_Conditions_Darkness: Street lights present and lit</th>\n",
              "      <th>Light_Conditions_Daylight: Street light present</th>\n",
              "      <th>Weather_Conditions_Fine with high winds</th>\n",
              "      <th>Weather_Conditions_Fine without high winds</th>\n",
              "      <th>Weather_Conditions_Fog or mist</th>\n",
              "      <th>Weather_Conditions_Raining with high winds</th>\n",
              "      <th>Weather_Conditions_Raining without high winds</th>\n",
              "      <th>Weather_Conditions_Snowing with high winds</th>\n",
              "      <th>Weather_Conditions_Snowing without high winds</th>\n",
              "      <th>Road_Surface_Conditions_Dry</th>\n",
              "      <th>Road_Surface_Conditions_Flood (Over 3cm of water)</th>\n",
              "      <th>Road_Surface_Conditions_Frost/Ice</th>\n",
              "      <th>Road_Surface_Conditions_Snow</th>\n",
              "      <th>Road_Surface_Conditions_Wet/Damp</th>\n",
              "      <th>Special_Conditions_at_Site_Auto traffic signal partly defective</th>\n",
              "      <th>Special_Conditions_at_Site_Auto traffic singal out</th>\n",
              "      <th>Special_Conditions_at_Site_Mud</th>\n",
              "      <th>Special_Conditions_at_Site_None</th>\n",
              "      <th>Special_Conditions_at_Site_Ol or diesel</th>\n",
              "      <th>Special_Conditions_at_Site_Permanent sign or marking defective or obscured</th>\n",
              "      <th>Special_Conditions_at_Site_Road surface defective</th>\n",
              "      <th>Special_Conditions_at_Site_Roadworks</th>\n",
              "      <th>Carriageway_Hazards_Any animal (except a ridden horse)</th>\n",
              "      <th>Carriageway_Hazards_Dislodged vehicle load in carriageway</th>\n",
              "      <th>Carriageway_Hazards_Involvement with previous accident</th>\n",
              "      <th>Carriageway_Hazards_None</th>\n",
              "      <th>Carriageway_Hazards_Pedestrian in carriageway (not injured)</th>\n",
              "    </tr>\n",
              "  </thead>\n",
              "  <tbody>\n",
              "    <tr>\n",
              "      <th>0</th>\n",
              "      <td>527200</td>\n",
              "      <td>178760</td>\n",
              "      <td>-0.169101</td>\n",
              "      <td>51.493429</td>\n",
              "      <td>3</td>\n",
              "      <td>2</td>\n",
              "      <td>1</td>\n",
              "      <td>5</td>\n",
              "      <td>308</td>\n",
              "      <td>30</td>\n",
              "      <td>0</td>\n",
              "      <td>1</td>\n",
              "      <td>2012</td>\n",
              "      <td>0</td>\n",
              "      <td>0</td>\n",
              "      <td>1</td>\n",
              "      <td>0</td>\n",
              "      <td>0</td>\n",
              "      <td>1</td>\n",
              "      <td>0</td>\n",
              "      <td>0</td>\n",
              "      <td>0</td>\n",
              "      <td>1</td>\n",
              "      <td>0</td>\n",
              "      <td>0</td>\n",
              "      <td>0</td>\n",
              "      <td>1</td>\n",
              "      <td>0</td>\n",
              "      <td>0</td>\n",
              "      <td>1</td>\n",
              "      <td>0</td>\n",
              "      <td>0</td>\n",
              "      <td>0</td>\n",
              "      <td>0</td>\n",
              "      <td>0</td>\n",
              "      <td>1</td>\n",
              "      <td>0</td>\n",
              "      <td>0</td>\n",
              "      <td>0</td>\n",
              "      <td>0</td>\n",
              "      <td>0</td>\n",
              "      <td>0</td>\n",
              "      <td>0</td>\n",
              "      <td>1</td>\n",
              "      <td>0</td>\n",
              "      <td>0</td>\n",
              "      <td>0</td>\n",
              "      <td>0</td>\n",
              "      <td>0</td>\n",
              "      <td>0</td>\n",
              "      <td>0</td>\n",
              "      <td>1</td>\n",
              "      <td>0</td>\n",
              "    </tr>\n",
              "    <tr>\n",
              "      <th>1</th>\n",
              "      <td>524930</td>\n",
              "      <td>181430</td>\n",
              "      <td>-0.200838</td>\n",
              "      <td>51.517931</td>\n",
              "      <td>3</td>\n",
              "      <td>2</td>\n",
              "      <td>1</td>\n",
              "      <td>4</td>\n",
              "      <td>412</td>\n",
              "      <td>30</td>\n",
              "      <td>0</td>\n",
              "      <td>1</td>\n",
              "      <td>2012</td>\n",
              "      <td>0</td>\n",
              "      <td>0</td>\n",
              "      <td>1</td>\n",
              "      <td>0</td>\n",
              "      <td>0</td>\n",
              "      <td>1</td>\n",
              "      <td>0</td>\n",
              "      <td>0</td>\n",
              "      <td>1</td>\n",
              "      <td>0</td>\n",
              "      <td>0</td>\n",
              "      <td>0</td>\n",
              "      <td>0</td>\n",
              "      <td>1</td>\n",
              "      <td>0</td>\n",
              "      <td>0</td>\n",
              "      <td>1</td>\n",
              "      <td>0</td>\n",
              "      <td>0</td>\n",
              "      <td>0</td>\n",
              "      <td>0</td>\n",
              "      <td>0</td>\n",
              "      <td>1</td>\n",
              "      <td>0</td>\n",
              "      <td>0</td>\n",
              "      <td>0</td>\n",
              "      <td>0</td>\n",
              "      <td>0</td>\n",
              "      <td>0</td>\n",
              "      <td>0</td>\n",
              "      <td>1</td>\n",
              "      <td>0</td>\n",
              "      <td>0</td>\n",
              "      <td>0</td>\n",
              "      <td>0</td>\n",
              "      <td>0</td>\n",
              "      <td>0</td>\n",
              "      <td>0</td>\n",
              "      <td>1</td>\n",
              "      <td>0</td>\n",
              "    </tr>\n",
              "    <tr>\n",
              "      <th>2</th>\n",
              "      <td>525860</td>\n",
              "      <td>178080</td>\n",
              "      <td>-0.188636</td>\n",
              "      <td>51.487618</td>\n",
              "      <td>3</td>\n",
              "      <td>2</td>\n",
              "      <td>1</td>\n",
              "      <td>3</td>\n",
              "      <td>148</td>\n",
              "      <td>30</td>\n",
              "      <td>0</td>\n",
              "      <td>1</td>\n",
              "      <td>2012</td>\n",
              "      <td>0</td>\n",
              "      <td>0</td>\n",
              "      <td>1</td>\n",
              "      <td>0</td>\n",
              "      <td>0</td>\n",
              "      <td>1</td>\n",
              "      <td>0</td>\n",
              "      <td>0</td>\n",
              "      <td>0</td>\n",
              "      <td>0</td>\n",
              "      <td>0</td>\n",
              "      <td>1</td>\n",
              "      <td>0</td>\n",
              "      <td>0</td>\n",
              "      <td>1</td>\n",
              "      <td>0</td>\n",
              "      <td>1</td>\n",
              "      <td>0</td>\n",
              "      <td>0</td>\n",
              "      <td>0</td>\n",
              "      <td>0</td>\n",
              "      <td>0</td>\n",
              "      <td>1</td>\n",
              "      <td>0</td>\n",
              "      <td>0</td>\n",
              "      <td>0</td>\n",
              "      <td>0</td>\n",
              "      <td>0</td>\n",
              "      <td>0</td>\n",
              "      <td>0</td>\n",
              "      <td>1</td>\n",
              "      <td>0</td>\n",
              "      <td>0</td>\n",
              "      <td>0</td>\n",
              "      <td>0</td>\n",
              "      <td>0</td>\n",
              "      <td>0</td>\n",
              "      <td>0</td>\n",
              "      <td>1</td>\n",
              "      <td>0</td>\n",
              "    </tr>\n",
              "    <tr>\n",
              "      <th>3</th>\n",
              "      <td>524980</td>\n",
              "      <td>181030</td>\n",
              "      <td>-0.200259</td>\n",
              "      <td>51.514325</td>\n",
              "      <td>3</td>\n",
              "      <td>1</td>\n",
              "      <td>1</td>\n",
              "      <td>4</td>\n",
              "      <td>0</td>\n",
              "      <td>30</td>\n",
              "      <td>0</td>\n",
              "      <td>1</td>\n",
              "      <td>2012</td>\n",
              "      <td>0</td>\n",
              "      <td>0</td>\n",
              "      <td>1</td>\n",
              "      <td>0</td>\n",
              "      <td>0</td>\n",
              "      <td>1</td>\n",
              "      <td>0</td>\n",
              "      <td>0</td>\n",
              "      <td>1</td>\n",
              "      <td>0</td>\n",
              "      <td>0</td>\n",
              "      <td>0</td>\n",
              "      <td>0</td>\n",
              "      <td>0</td>\n",
              "      <td>1</td>\n",
              "      <td>0</td>\n",
              "      <td>1</td>\n",
              "      <td>0</td>\n",
              "      <td>0</td>\n",
              "      <td>0</td>\n",
              "      <td>0</td>\n",
              "      <td>0</td>\n",
              "      <td>1</td>\n",
              "      <td>0</td>\n",
              "      <td>0</td>\n",
              "      <td>0</td>\n",
              "      <td>0</td>\n",
              "      <td>0</td>\n",
              "      <td>0</td>\n",
              "      <td>0</td>\n",
              "      <td>1</td>\n",
              "      <td>0</td>\n",
              "      <td>0</td>\n",
              "      <td>0</td>\n",
              "      <td>0</td>\n",
              "      <td>0</td>\n",
              "      <td>0</td>\n",
              "      <td>0</td>\n",
              "      <td>1</td>\n",
              "      <td>0</td>\n",
              "    </tr>\n",
              "    <tr>\n",
              "      <th>4</th>\n",
              "      <td>526170</td>\n",
              "      <td>179200</td>\n",
              "      <td>-0.183773</td>\n",
              "      <td>51.497614</td>\n",
              "      <td>3</td>\n",
              "      <td>1</td>\n",
              "      <td>1</td>\n",
              "      <td>3</td>\n",
              "      <td>325</td>\n",
              "      <td>30</td>\n",
              "      <td>0</td>\n",
              "      <td>1</td>\n",
              "      <td>2012</td>\n",
              "      <td>0</td>\n",
              "      <td>0</td>\n",
              "      <td>1</td>\n",
              "      <td>0</td>\n",
              "      <td>0</td>\n",
              "      <td>1</td>\n",
              "      <td>0</td>\n",
              "      <td>0</td>\n",
              "      <td>1</td>\n",
              "      <td>0</td>\n",
              "      <td>0</td>\n",
              "      <td>0</td>\n",
              "      <td>0</td>\n",
              "      <td>1</td>\n",
              "      <td>0</td>\n",
              "      <td>0</td>\n",
              "      <td>1</td>\n",
              "      <td>0</td>\n",
              "      <td>0</td>\n",
              "      <td>0</td>\n",
              "      <td>0</td>\n",
              "      <td>0</td>\n",
              "      <td>1</td>\n",
              "      <td>0</td>\n",
              "      <td>0</td>\n",
              "      <td>0</td>\n",
              "      <td>0</td>\n",
              "      <td>0</td>\n",
              "      <td>0</td>\n",
              "      <td>0</td>\n",
              "      <td>1</td>\n",
              "      <td>0</td>\n",
              "      <td>0</td>\n",
              "      <td>0</td>\n",
              "      <td>0</td>\n",
              "      <td>0</td>\n",
              "      <td>0</td>\n",
              "      <td>0</td>\n",
              "      <td>1</td>\n",
              "      <td>0</td>\n",
              "    </tr>\n",
              "  </tbody>\n",
              "</table>\n",
              "</div>"
            ],
            "text/plain": [
              "   Location_Easting_OSGR  ...  Carriageway_Hazards_Pedestrian in carriageway (not injured)\n",
              "0                 527200  ...                                                  0          \n",
              "1                 524930  ...                                                  0          \n",
              "2                 525860  ...                                                  0          \n",
              "3                 524980  ...                                                  0          \n",
              "4                 526170  ...                                                  0          \n",
              "\n",
              "[5 rows x 53 columns]"
            ]
          },
          "metadata": {},
          "execution_count": 64
        }
      ]
    },
    {
      "cell_type": "markdown",
      "metadata": {
        "id": "xT6w6A8ms2HT"
      },
      "source": [
        "### **2-2-3 - Scaling and normalization**\n"
      ]
    },
    {
      "cell_type": "markdown",
      "metadata": {
        "id": "d2aWHHFquZiw"
      },
      "source": [
        "Au niveau de cette etape si l'histogramme montre une symétrie on passe à la normalisation minmax() si non on passe au log puis minmax"
      ]
    },
    {
      "cell_type": "code",
      "metadata": {
        "colab": {
          "base_uri": "https://localhost:8080/"
        },
        "id": "YcIGzN8MtTlF",
        "outputId": "3d53fff5-c55b-4253-e1d2-827a8606aae9"
      },
      "source": [
        "fig = df['Location_Easting_OSGR'].plot.hist(rot=50)\n",
        "fig = plt.xlabel('Location_Easting_OSGR')"
      ],
      "execution_count": null,
      "outputs": [
        {
          "output_type": "display_data",
          "data": {
            "image/png": "[encoded data removed]",
            "text/plain": [
              "<Figure size 432x288 with 1 Axes>"
            ]
          },
          "metadata": {
            "needs_background": "light"
          }
        }
      ]
    },
    {
      "cell_type": "code",
      "metadata": {
        "colab": {
          "base_uri": "https://localhost:8080/"
        },
        "id": "d-XQkTSPtrLi",
        "outputId": "e410e2b1-6744-47c4-ad5d-a1941381c937"
      },
      "source": [
        "fig = df['Longitude'].plot.hist(rot=50)\n",
        "fig = plt.xlabel('Longitude')"
      ],
      "execution_count": null,
      "outputs": [
        {
          "output_type": "display_data",
          "data": {
            "image/png": "[encoded data removed]",
            "text/plain": [
              "<Figure size 432x288 with 1 Axes>"
            ]
          },
          "metadata": {
            "needs_background": "light"
          }
        }
      ]
    },
    {
      "cell_type": "code",
      "metadata": {
        "colab": {
          "base_uri": "https://localhost:8080/"
        },
        "id": "wU0MzvyIu9vA",
        "outputId": "220e1c05-75fb-4ad0-ba02-f8c75917cbf6"
      },
      "source": [
        "fig = df['Latitude'].plot.hist(rot=50)\n",
        "fig = plt.xlabel('Latitude')"
      ],
      "execution_count": null,
      "outputs": [
        {
          "output_type": "display_data",
          "data": {
            "image/png": "[encoded data removed]",
            "text/plain": [
              "<Figure size 432x288 with 1 Axes>"
            ]
          },
          "metadata": {
            "needs_background": "light"
          }
        }
      ]
    },
    {
      "cell_type": "code",
      "metadata": {
        "id": "UZBDYnvBZEZQ"
      },
      "source": [
        "from sklearn.preprocessing import MinMaxScaler\n",
        "mms = MinMaxScaler()"
      ],
      "execution_count": null,
      "outputs": []
    },
    {
      "cell_type": "code",
      "metadata": {
        "id": "mT7Czlg3ZS7r"
      },
      "source": [
        "df['Location_Easting_OSGR'] = mms.fit_transform(df[['Location_Easting_OSGR']])\n",
        "df['Location_Northing_OSGR'] = mms.fit_transform(df[['Location_Northing_OSGR']])\n",
        "df['Longitude'] = mms.fit_transform(df[['Longitude']])\n",
        "df['Latitude'] = mms.fit_transform(df[['Latitude']])\n",
        "df['Number_of_Vehicles'] = mms.fit_transform(df[['Number_of_Vehicles']])\n",
        "df['Number_of_Casualties'] = mms.fit_transform(df[['Number_of_Casualties']])\n",
        "\n",
        "df['Day_of_Week'] = mms.fit_transform(df[['Day_of_Week']])\n",
        "df['1st_Road_Number'] = mms.fit_transform(df[['1st_Road_Number']])\n",
        "df['Speed_limit'] = mms.fit_transform(df[['Speed_limit']])\n",
        "df['2nd_Road_Number'] = mms.fit_transform(df[['2nd_Road_Number']])\n",
        "df['Year'] = mms.fit_transform(df[['Year']])\n",
        "\n"
      ],
      "execution_count": null,
      "outputs": []
    },
    {
      "cell_type": "code",
      "metadata": {
        "id": "gyWDccNtRlRw"
      },
      "source": [
        "df['Urban_or_Rural_Area'] = mms.fit_transform(df[['Urban_or_Rural_Area']])\n"
      ],
      "execution_count": null,
      "outputs": []
    },
    {
      "cell_type": "code",
      "metadata": {
        "colab": {
          "base_uri": "https://localhost:8080/"
        },
        "id": "HuCcao28cGWf",
        "outputId": "1ff530ef-4f16-4097-b798-119710a8a3f5"
      },
      "source": [
        "df"
      ],
      "execution_count": null,
      "outputs": [
        {
          "output_type": "execute_result",
          "data": {
            "text/html": [
              "<div>\n",
              "<style scoped>\n",
              "    .dataframe tbody tr th:only-of-type {\n",
              "        vertical-align: middle;\n",
              "    }\n",
              "\n",
              "    .dataframe tbody tr th {\n",
              "        vertical-align: top;\n",
              "    }\n",
              "\n",
              "    .dataframe thead th {\n",
              "        text-align: right;\n",
              "    }\n",
              "</style>\n",
              "<table border=\"1\" class=\"dataframe\">\n",
              "  <thead>\n",
              "    <tr style=\"text-align: right;\">\n",
              "      <th></th>\n",
              "      <th>Location_Easting_OSGR</th>\n",
              "      <th>Location_Northing_OSGR</th>\n",
              "      <th>Longitude</th>\n",
              "      <th>Latitude</th>\n",
              "      <th>Accident_Severity</th>\n",
              "      <th>Number_of_Vehicles</th>\n",
              "      <th>Number_of_Casualties</th>\n",
              "      <th>Day_of_Week</th>\n",
              "      <th>1st_Road_Number</th>\n",
              "      <th>Speed_limit</th>\n",
              "      <th>2nd_Road_Number</th>\n",
              "      <th>Urban_or_Rural_Area</th>\n",
              "      <th>Year</th>\n",
              "      <th>Road_Type_Dual carriageway</th>\n",
              "      <th>Road_Type_Roundabout</th>\n",
              "      <th>Road_Type_Single carriageway</th>\n",
              "      <th>Road_Type_Slip road</th>\n",
              "      <th>Pedestrian_Crossing-Human_Control_Control by other authorised person</th>\n",
              "      <th>Pedestrian_Crossing-Human_Control_None within 50 metres</th>\n",
              "      <th>Pedestrian_Crossing-Physical_Facilities_Central refuge</th>\n",
              "      <th>Pedestrian_Crossing-Physical_Facilities_Footbridge or subway</th>\n",
              "      <th>Pedestrian_Crossing-Physical_Facilities_No physical crossing within 50 meters</th>\n",
              "      <th>Pedestrian_Crossing-Physical_Facilities_Pedestrian phase at traffic signal junction</th>\n",
              "      <th>Pedestrian_Crossing-Physical_Facilities_Zebra crossing</th>\n",
              "      <th>Pedestrian_Crossing-Physical_Facilities_non-junction pedestrian crossing</th>\n",
              "      <th>Light_Conditions_Darkeness: No street lighting</th>\n",
              "      <th>Light_Conditions_Darkness: Street lights present and lit</th>\n",
              "      <th>Light_Conditions_Daylight: Street light present</th>\n",
              "      <th>Weather_Conditions_Fine with high winds</th>\n",
              "      <th>Weather_Conditions_Fine without high winds</th>\n",
              "      <th>Weather_Conditions_Fog or mist</th>\n",
              "      <th>Weather_Conditions_Raining with high winds</th>\n",
              "      <th>Weather_Conditions_Raining without high winds</th>\n",
              "      <th>Weather_Conditions_Snowing with high winds</th>\n",
              "      <th>Weather_Conditions_Snowing without high winds</th>\n",
              "      <th>Road_Surface_Conditions_Dry</th>\n",
              "      <th>Road_Surface_Conditions_Flood (Over 3cm of water)</th>\n",
              "      <th>Road_Surface_Conditions_Frost/Ice</th>\n",
              "      <th>Road_Surface_Conditions_Snow</th>\n",
              "      <th>Road_Surface_Conditions_Wet/Damp</th>\n",
              "      <th>Special_Conditions_at_Site_Auto traffic signal partly defective</th>\n",
              "      <th>Special_Conditions_at_Site_Auto traffic singal out</th>\n",
              "      <th>Special_Conditions_at_Site_Mud</th>\n",
              "      <th>Special_Conditions_at_Site_None</th>\n",
              "      <th>Special_Conditions_at_Site_Ol or diesel</th>\n",
              "      <th>Special_Conditions_at_Site_Permanent sign or marking defective or obscured</th>\n",
              "      <th>Special_Conditions_at_Site_Road surface defective</th>\n",
              "      <th>Special_Conditions_at_Site_Roadworks</th>\n",
              "      <th>Carriageway_Hazards_Any animal (except a ridden horse)</th>\n",
              "      <th>Carriageway_Hazards_Dislodged vehicle load in carriageway</th>\n",
              "      <th>Carriageway_Hazards_Involvement with previous accident</th>\n",
              "      <th>Carriageway_Hazards_None</th>\n",
              "      <th>Carriageway_Hazards_Pedestrian in carriageway (not injured)</th>\n",
              "    </tr>\n",
              "  </thead>\n",
              "  <tbody>\n",
              "    <tr>\n",
              "      <th>0</th>\n",
              "      <td>0.718481</td>\n",
              "      <td>0.218786</td>\n",
              "      <td>0.723184</td>\n",
              "      <td>0.219725</td>\n",
              "      <td>3</td>\n",
              "      <td>0.015152</td>\n",
              "      <td>0.00000</td>\n",
              "      <td>0.666667</td>\n",
              "      <td>0.154077</td>\n",
              "      <td>0.333333</td>\n",
              "      <td>0.0001</td>\n",
              "      <td>0.0</td>\n",
              "      <td>0.0</td>\n",
              "      <td>0</td>\n",
              "      <td>0</td>\n",
              "      <td>1</td>\n",
              "      <td>0</td>\n",
              "      <td>0</td>\n",
              "      <td>1</td>\n",
              "      <td>0</td>\n",
              "      <td>0</td>\n",
              "      <td>0</td>\n",
              "      <td>1</td>\n",
              "      <td>0</td>\n",
              "      <td>0</td>\n",
              "      <td>0</td>\n",
              "      <td>1</td>\n",
              "      <td>0</td>\n",
              "      <td>0</td>\n",
              "      <td>1</td>\n",
              "      <td>0</td>\n",
              "      <td>0</td>\n",
              "      <td>0</td>\n",
              "      <td>0</td>\n",
              "      <td>0</td>\n",
              "      <td>1</td>\n",
              "      <td>0</td>\n",
              "      <td>0</td>\n",
              "      <td>0</td>\n",
              "      <td>0</td>\n",
              "      <td>0</td>\n",
              "      <td>0</td>\n",
              "      <td>0</td>\n",
              "      <td>1</td>\n",
              "      <td>0</td>\n",
              "      <td>0</td>\n",
              "      <td>0</td>\n",
              "      <td>0</td>\n",
              "      <td>0</td>\n",
              "      <td>0</td>\n",
              "      <td>0</td>\n",
              "      <td>1</td>\n",
              "      <td>0</td>\n",
              "    </tr>\n",
              "    <tr>\n",
              "      <th>1</th>\n",
              "      <td>0.713495</td>\n",
              "      <td>0.222923</td>\n",
              "      <td>0.718628</td>\n",
              "      <td>0.223967</td>\n",
              "      <td>3</td>\n",
              "      <td>0.015152</td>\n",
              "      <td>0.00000</td>\n",
              "      <td>0.500000</td>\n",
              "      <td>0.206103</td>\n",
              "      <td>0.333333</td>\n",
              "      <td>0.0001</td>\n",
              "      <td>0.0</td>\n",
              "      <td>0.0</td>\n",
              "      <td>0</td>\n",
              "      <td>0</td>\n",
              "      <td>1</td>\n",
              "      <td>0</td>\n",
              "      <td>0</td>\n",
              "      <td>1</td>\n",
              "      <td>0</td>\n",
              "      <td>0</td>\n",
              "      <td>1</td>\n",
              "      <td>0</td>\n",
              "      <td>0</td>\n",
              "      <td>0</td>\n",
              "      <td>0</td>\n",
              "      <td>1</td>\n",
              "      <td>0</td>\n",
              "      <td>0</td>\n",
              "      <td>1</td>\n",
              "      <td>0</td>\n",
              "      <td>0</td>\n",
              "      <td>0</td>\n",
              "      <td>0</td>\n",
              "      <td>0</td>\n",
              "      <td>1</td>\n",
              "      <td>0</td>\n",
              "      <td>0</td>\n",
              "      <td>0</td>\n",
              "      <td>0</td>\n",
              "      <td>0</td>\n",
              "      <td>0</td>\n",
              "      <td>0</td>\n",
              "      <td>1</td>\n",
              "      <td>0</td>\n",
              "      <td>0</td>\n",
              "      <td>0</td>\n",
              "      <td>0</td>\n",
              "      <td>0</td>\n",
              "      <td>0</td>\n",
              "      <td>0</td>\n",
              "      <td>1</td>\n",
              "      <td>0</td>\n",
              "    </tr>\n",
              "    <tr>\n",
              "      <th>2</th>\n",
              "      <td>0.715538</td>\n",
              "      <td>0.217732</td>\n",
              "      <td>0.720380</td>\n",
              "      <td>0.218719</td>\n",
              "      <td>3</td>\n",
              "      <td>0.015152</td>\n",
              "      <td>0.00000</td>\n",
              "      <td>0.333333</td>\n",
              "      <td>0.074037</td>\n",
              "      <td>0.333333</td>\n",
              "      <td>0.0001</td>\n",
              "      <td>0.0</td>\n",
              "      <td>0.0</td>\n",
              "      <td>0</td>\n",
              "      <td>0</td>\n",
              "      <td>1</td>\n",
              "      <td>0</td>\n",
              "      <td>0</td>\n",
              "      <td>1</td>\n",
              "      <td>0</td>\n",
              "      <td>0</td>\n",
              "      <td>0</td>\n",
              "      <td>0</td>\n",
              "      <td>0</td>\n",
              "      <td>1</td>\n",
              "      <td>0</td>\n",
              "      <td>0</td>\n",
              "      <td>1</td>\n",
              "      <td>0</td>\n",
              "      <td>1</td>\n",
              "      <td>0</td>\n",
              "      <td>0</td>\n",
              "      <td>0</td>\n",
              "      <td>0</td>\n",
              "      <td>0</td>\n",
              "      <td>1</td>\n",
              "      <td>0</td>\n",
              "      <td>0</td>\n",
              "      <td>0</td>\n",
              "      <td>0</td>\n",
              "      <td>0</td>\n",
              "      <td>0</td>\n",
              "      <td>0</td>\n",
              "      <td>1</td>\n",
              "      <td>0</td>\n",
              "      <td>0</td>\n",
              "      <td>0</td>\n",
              "      <td>0</td>\n",
              "      <td>0</td>\n",
              "      <td>0</td>\n",
              "      <td>0</td>\n",
              "      <td>1</td>\n",
              "      <td>0</td>\n",
              "    </tr>\n",
              "    <tr>\n",
              "      <th>3</th>\n",
              "      <td>0.713605</td>\n",
              "      <td>0.222303</td>\n",
              "      <td>0.718711</td>\n",
              "      <td>0.223343</td>\n",
              "      <td>3</td>\n",
              "      <td>0.000000</td>\n",
              "      <td>0.00000</td>\n",
              "      <td>0.500000</td>\n",
              "      <td>0.000000</td>\n",
              "      <td>0.333333</td>\n",
              "      <td>0.0001</td>\n",
              "      <td>0.0</td>\n",
              "      <td>0.0</td>\n",
              "      <td>0</td>\n",
              "      <td>0</td>\n",
              "      <td>1</td>\n",
              "      <td>0</td>\n",
              "      <td>0</td>\n",
              "      <td>1</td>\n",
              "      <td>0</td>\n",
              "      <td>0</td>\n",
              "      <td>1</td>\n",
              "      <td>0</td>\n",
              "      <td>0</td>\n",
              "      <td>0</td>\n",
              "      <td>0</td>\n",
              "      <td>0</td>\n",
              "      <td>1</td>\n",
              "      <td>0</td>\n",
              "      <td>1</td>\n",
              "      <td>0</td>\n",
              "      <td>0</td>\n",
              "      <td>0</td>\n",
              "      <td>0</td>\n",
              "      <td>0</td>\n",
              "      <td>1</td>\n",
              "      <td>0</td>\n",
              "      <td>0</td>\n",
              "      <td>0</td>\n",
              "      <td>0</td>\n",
              "      <td>0</td>\n",
              "      <td>0</td>\n",
              "      <td>0</td>\n",
              "      <td>1</td>\n",
              "      <td>0</td>\n",
              "      <td>0</td>\n",
              "      <td>0</td>\n",
              "      <td>0</td>\n",
              "      <td>0</td>\n",
              "      <td>0</td>\n",
              "      <td>0</td>\n",
              "      <td>1</td>\n",
              "      <td>0</td>\n",
              "    </tr>\n",
              "    <tr>\n",
              "      <th>4</th>\n",
              "      <td>0.716219</td>\n",
              "      <td>0.219468</td>\n",
              "      <td>0.721078</td>\n",
              "      <td>0.220449</td>\n",
              "      <td>3</td>\n",
              "      <td>0.000000</td>\n",
              "      <td>0.00000</td>\n",
              "      <td>0.333333</td>\n",
              "      <td>0.162581</td>\n",
              "      <td>0.333333</td>\n",
              "      <td>0.0001</td>\n",
              "      <td>0.0</td>\n",
              "      <td>0.0</td>\n",
              "      <td>0</td>\n",
              "      <td>0</td>\n",
              "      <td>1</td>\n",
              "      <td>0</td>\n",
              "      <td>0</td>\n",
              "      <td>1</td>\n",
              "      <td>0</td>\n",
              "      <td>0</td>\n",
              "      <td>1</td>\n",
              "      <td>0</td>\n",
              "      <td>0</td>\n",
              "      <td>0</td>\n",
              "      <td>0</td>\n",
              "      <td>1</td>\n",
              "      <td>0</td>\n",
              "      <td>0</td>\n",
              "      <td>1</td>\n",
              "      <td>0</td>\n",
              "      <td>0</td>\n",
              "      <td>0</td>\n",
              "      <td>0</td>\n",
              "      <td>0</td>\n",
              "      <td>1</td>\n",
              "      <td>0</td>\n",
              "      <td>0</td>\n",
              "      <td>0</td>\n",
              "      <td>0</td>\n",
              "      <td>0</td>\n",
              "      <td>0</td>\n",
              "      <td>0</td>\n",
              "      <td>1</td>\n",
              "      <td>0</td>\n",
              "      <td>0</td>\n",
              "      <td>0</td>\n",
              "      <td>0</td>\n",
              "      <td>0</td>\n",
              "      <td>0</td>\n",
              "      <td>0</td>\n",
              "      <td>1</td>\n",
              "      <td>0</td>\n",
              "    </tr>\n",
              "    <tr>\n",
              "      <th>...</th>\n",
              "      <td>...</td>\n",
              "      <td>...</td>\n",
              "      <td>...</td>\n",
              "      <td>...</td>\n",
              "      <td>...</td>\n",
              "      <td>...</td>\n",
              "      <td>...</td>\n",
              "      <td>...</td>\n",
              "      <td>...</td>\n",
              "      <td>...</td>\n",
              "      <td>...</td>\n",
              "      <td>...</td>\n",
              "      <td>...</td>\n",
              "      <td>...</td>\n",
              "      <td>...</td>\n",
              "      <td>...</td>\n",
              "      <td>...</td>\n",
              "      <td>...</td>\n",
              "      <td>...</td>\n",
              "      <td>...</td>\n",
              "      <td>...</td>\n",
              "      <td>...</td>\n",
              "      <td>...</td>\n",
              "      <td>...</td>\n",
              "      <td>...</td>\n",
              "      <td>...</td>\n",
              "      <td>...</td>\n",
              "      <td>...</td>\n",
              "      <td>...</td>\n",
              "      <td>...</td>\n",
              "      <td>...</td>\n",
              "      <td>...</td>\n",
              "      <td>...</td>\n",
              "      <td>...</td>\n",
              "      <td>...</td>\n",
              "      <td>...</td>\n",
              "      <td>...</td>\n",
              "      <td>...</td>\n",
              "      <td>...</td>\n",
              "      <td>...</td>\n",
              "      <td>...</td>\n",
              "      <td>...</td>\n",
              "      <td>...</td>\n",
              "      <td>...</td>\n",
              "      <td>...</td>\n",
              "      <td>...</td>\n",
              "      <td>...</td>\n",
              "      <td>...</td>\n",
              "      <td>...</td>\n",
              "      <td>...</td>\n",
              "      <td>...</td>\n",
              "      <td>...</td>\n",
              "      <td>...</td>\n",
              "    </tr>\n",
              "    <tr>\n",
              "      <th>464692</th>\n",
              "      <td>0.241493</td>\n",
              "      <td>0.867905</td>\n",
              "      <td>0.256938</td>\n",
              "      <td>0.872702</td>\n",
              "      <td>2</td>\n",
              "      <td>0.015152</td>\n",
              "      <td>0.00000</td>\n",
              "      <td>0.000000</td>\n",
              "      <td>0.037019</td>\n",
              "      <td>1.000000</td>\n",
              "      <td>0.0001</td>\n",
              "      <td>1.0</td>\n",
              "      <td>1.0</td>\n",
              "      <td>1</td>\n",
              "      <td>0</td>\n",
              "      <td>0</td>\n",
              "      <td>0</td>\n",
              "      <td>0</td>\n",
              "      <td>1</td>\n",
              "      <td>0</td>\n",
              "      <td>0</td>\n",
              "      <td>1</td>\n",
              "      <td>0</td>\n",
              "      <td>0</td>\n",
              "      <td>0</td>\n",
              "      <td>1</td>\n",
              "      <td>0</td>\n",
              "      <td>0</td>\n",
              "      <td>0</td>\n",
              "      <td>0</td>\n",
              "      <td>0</td>\n",
              "      <td>0</td>\n",
              "      <td>0</td>\n",
              "      <td>0</td>\n",
              "      <td>1</td>\n",
              "      <td>0</td>\n",
              "      <td>0</td>\n",
              "      <td>0</td>\n",
              "      <td>1</td>\n",
              "      <td>0</td>\n",
              "      <td>0</td>\n",
              "      <td>0</td>\n",
              "      <td>0</td>\n",
              "      <td>1</td>\n",
              "      <td>0</td>\n",
              "      <td>0</td>\n",
              "      <td>0</td>\n",
              "      <td>0</td>\n",
              "      <td>0</td>\n",
              "      <td>0</td>\n",
              "      <td>0</td>\n",
              "      <td>1</td>\n",
              "      <td>0</td>\n",
              "    </tr>\n",
              "    <tr>\n",
              "      <th>464693</th>\n",
              "      <td>0.266691</td>\n",
              "      <td>0.831359</td>\n",
              "      <td>0.283783</td>\n",
              "      <td>0.836356</td>\n",
              "      <td>3</td>\n",
              "      <td>0.015152</td>\n",
              "      <td>0.01087</td>\n",
              "      <td>0.666667</td>\n",
              "      <td>0.037019</td>\n",
              "      <td>1.000000</td>\n",
              "      <td>0.0001</td>\n",
              "      <td>1.0</td>\n",
              "      <td>1.0</td>\n",
              "      <td>1</td>\n",
              "      <td>0</td>\n",
              "      <td>0</td>\n",
              "      <td>0</td>\n",
              "      <td>0</td>\n",
              "      <td>1</td>\n",
              "      <td>0</td>\n",
              "      <td>0</td>\n",
              "      <td>1</td>\n",
              "      <td>0</td>\n",
              "      <td>0</td>\n",
              "      <td>0</td>\n",
              "      <td>1</td>\n",
              "      <td>0</td>\n",
              "      <td>0</td>\n",
              "      <td>0</td>\n",
              "      <td>1</td>\n",
              "      <td>0</td>\n",
              "      <td>0</td>\n",
              "      <td>0</td>\n",
              "      <td>0</td>\n",
              "      <td>0</td>\n",
              "      <td>0</td>\n",
              "      <td>0</td>\n",
              "      <td>0</td>\n",
              "      <td>1</td>\n",
              "      <td>0</td>\n",
              "      <td>0</td>\n",
              "      <td>0</td>\n",
              "      <td>0</td>\n",
              "      <td>1</td>\n",
              "      <td>0</td>\n",
              "      <td>0</td>\n",
              "      <td>0</td>\n",
              "      <td>0</td>\n",
              "      <td>0</td>\n",
              "      <td>0</td>\n",
              "      <td>0</td>\n",
              "      <td>1</td>\n",
              "      <td>0</td>\n",
              "    </tr>\n",
              "    <tr>\n",
              "      <th>464694</th>\n",
              "      <td>0.266313</td>\n",
              "      <td>0.819430</td>\n",
              "      <td>0.283701</td>\n",
              "      <td>0.824377</td>\n",
              "      <td>3</td>\n",
              "      <td>0.000000</td>\n",
              "      <td>0.00000</td>\n",
              "      <td>0.333333</td>\n",
              "      <td>0.360680</td>\n",
              "      <td>0.500000</td>\n",
              "      <td>0.0001</td>\n",
              "      <td>1.0</td>\n",
              "      <td>1.0</td>\n",
              "      <td>0</td>\n",
              "      <td>0</td>\n",
              "      <td>1</td>\n",
              "      <td>0</td>\n",
              "      <td>0</td>\n",
              "      <td>1</td>\n",
              "      <td>0</td>\n",
              "      <td>0</td>\n",
              "      <td>1</td>\n",
              "      <td>0</td>\n",
              "      <td>0</td>\n",
              "      <td>0</td>\n",
              "      <td>0</td>\n",
              "      <td>1</td>\n",
              "      <td>0</td>\n",
              "      <td>0</td>\n",
              "      <td>1</td>\n",
              "      <td>0</td>\n",
              "      <td>0</td>\n",
              "      <td>0</td>\n",
              "      <td>0</td>\n",
              "      <td>0</td>\n",
              "      <td>0</td>\n",
              "      <td>0</td>\n",
              "      <td>1</td>\n",
              "      <td>0</td>\n",
              "      <td>0</td>\n",
              "      <td>0</td>\n",
              "      <td>0</td>\n",
              "      <td>0</td>\n",
              "      <td>1</td>\n",
              "      <td>0</td>\n",
              "      <td>0</td>\n",
              "      <td>0</td>\n",
              "      <td>0</td>\n",
              "      <td>0</td>\n",
              "      <td>0</td>\n",
              "      <td>0</td>\n",
              "      <td>1</td>\n",
              "      <td>0</td>\n",
              "    </tr>\n",
              "    <tr>\n",
              "      <th>464695</th>\n",
              "      <td>0.271874</td>\n",
              "      <td>0.820186</td>\n",
              "      <td>0.289361</td>\n",
              "      <td>0.825204</td>\n",
              "      <td>2</td>\n",
              "      <td>0.030303</td>\n",
              "      <td>0.01087</td>\n",
              "      <td>0.500000</td>\n",
              "      <td>0.037519</td>\n",
              "      <td>0.833333</td>\n",
              "      <td>0.0044</td>\n",
              "      <td>1.0</td>\n",
              "      <td>1.0</td>\n",
              "      <td>0</td>\n",
              "      <td>0</td>\n",
              "      <td>1</td>\n",
              "      <td>0</td>\n",
              "      <td>0</td>\n",
              "      <td>1</td>\n",
              "      <td>0</td>\n",
              "      <td>0</td>\n",
              "      <td>1</td>\n",
              "      <td>0</td>\n",
              "      <td>0</td>\n",
              "      <td>0</td>\n",
              "      <td>1</td>\n",
              "      <td>0</td>\n",
              "      <td>0</td>\n",
              "      <td>0</td>\n",
              "      <td>0</td>\n",
              "      <td>0</td>\n",
              "      <td>0</td>\n",
              "      <td>1</td>\n",
              "      <td>0</td>\n",
              "      <td>0</td>\n",
              "      <td>0</td>\n",
              "      <td>0</td>\n",
              "      <td>0</td>\n",
              "      <td>0</td>\n",
              "      <td>1</td>\n",
              "      <td>0</td>\n",
              "      <td>0</td>\n",
              "      <td>0</td>\n",
              "      <td>1</td>\n",
              "      <td>0</td>\n",
              "      <td>0</td>\n",
              "      <td>0</td>\n",
              "      <td>0</td>\n",
              "      <td>0</td>\n",
              "      <td>0</td>\n",
              "      <td>0</td>\n",
              "      <td>1</td>\n",
              "      <td>0</td>\n",
              "    </tr>\n",
              "    <tr>\n",
              "      <th>464696</th>\n",
              "      <td>0.250356</td>\n",
              "      <td>0.840514</td>\n",
              "      <td>0.266821</td>\n",
              "      <td>0.845333</td>\n",
              "      <td>3</td>\n",
              "      <td>0.015152</td>\n",
              "      <td>0.01087</td>\n",
              "      <td>0.500000</td>\n",
              "      <td>0.361681</td>\n",
              "      <td>0.833333</td>\n",
              "      <td>0.7077</td>\n",
              "      <td>1.0</td>\n",
              "      <td>1.0</td>\n",
              "      <td>0</td>\n",
              "      <td>0</td>\n",
              "      <td>1</td>\n",
              "      <td>0</td>\n",
              "      <td>0</td>\n",
              "      <td>1</td>\n",
              "      <td>0</td>\n",
              "      <td>0</td>\n",
              "      <td>1</td>\n",
              "      <td>0</td>\n",
              "      <td>0</td>\n",
              "      <td>0</td>\n",
              "      <td>0</td>\n",
              "      <td>0</td>\n",
              "      <td>1</td>\n",
              "      <td>0</td>\n",
              "      <td>1</td>\n",
              "      <td>0</td>\n",
              "      <td>0</td>\n",
              "      <td>0</td>\n",
              "      <td>0</td>\n",
              "      <td>0</td>\n",
              "      <td>0</td>\n",
              "      <td>0</td>\n",
              "      <td>0</td>\n",
              "      <td>0</td>\n",
              "      <td>1</td>\n",
              "      <td>0</td>\n",
              "      <td>0</td>\n",
              "      <td>0</td>\n",
              "      <td>1</td>\n",
              "      <td>0</td>\n",
              "      <td>0</td>\n",
              "      <td>0</td>\n",
              "      <td>0</td>\n",
              "      <td>0</td>\n",
              "      <td>0</td>\n",
              "      <td>0</td>\n",
              "      <td>1</td>\n",
              "      <td>0</td>\n",
              "    </tr>\n",
              "  </tbody>\n",
              "</table>\n",
              "<p>393770 rows × 53 columns</p>\n",
              "</div>"
            ],
            "text/plain": [
              "        Location_Easting_OSGR  ...  Carriageway_Hazards_Pedestrian in carriageway (not injured)\n",
              "0                    0.718481  ...                                                  0          \n",
              "1                    0.713495  ...                                                  0          \n",
              "2                    0.715538  ...                                                  0          \n",
              "3                    0.713605  ...                                                  0          \n",
              "4                    0.716219  ...                                                  0          \n",
              "...                       ...  ...                                                ...          \n",
              "464692               0.241493  ...                                                  0          \n",
              "464693               0.266691  ...                                                  0          \n",
              "464694               0.266313  ...                                                  0          \n",
              "464695               0.271874  ...                                                  0          \n",
              "464696               0.250356  ...                                                  0          \n",
              "\n",
              "[393770 rows x 53 columns]"
            ]
          },
          "metadata": {},
          "execution_count": 71
        }
      ]
    },
    {
      "cell_type": "code",
      "metadata": {
        "colab": {
          "base_uri": "https://localhost:8080/"
        },
        "id": "tcTU2ymud-uv",
        "outputId": "c27947a0-e94a-48c7-b421-e791221c2140"
      },
      "source": [
        "df.isnull().sum()"
      ],
      "execution_count": null,
      "outputs": [
        {
          "output_type": "execute_result",
          "data": {
            "text/plain": [
              "Location_Easting_OSGR                                                                  0\n",
              "Location_Northing_OSGR                                                                 0\n",
              "Longitude                                                                              0\n",
              "Latitude                                                                               0\n",
              "Accident_Severity                                                                      0\n",
              "Number_of_Vehicles                                                                     0\n",
              "Number_of_Casualties                                                                   0\n",
              "Day_of_Week                                                                            0\n",
              "1st_Road_Number                                                                        0\n",
              "Speed_limit                                                                            0\n",
              "2nd_Road_Number                                                                        0\n",
              "Urban_or_Rural_Area                                                                    0\n",
              "Year                                                                                   0\n",
              "Road_Type_Dual carriageway                                                             0\n",
              "Road_Type_Roundabout                                                                   0\n",
              "Road_Type_Single carriageway                                                           0\n",
              "Road_Type_Slip road                                                                    0\n",
              "Pedestrian_Crossing-Human_Control_Control by other authorised person                   0\n",
              "Pedestrian_Crossing-Human_Control_None within 50 metres                                0\n",
              "Pedestrian_Crossing-Physical_Facilities_Central refuge                                 0\n",
              "Pedestrian_Crossing-Physical_Facilities_Footbridge or subway                           0\n",
              "Pedestrian_Crossing-Physical_Facilities_No physical crossing within 50 meters          0\n",
              "Pedestrian_Crossing-Physical_Facilities_Pedestrian phase at traffic signal junction    0\n",
              "Pedestrian_Crossing-Physical_Facilities_Zebra crossing                                 0\n",
              "Pedestrian_Crossing-Physical_Facilities_non-junction pedestrian crossing               0\n",
              "Light_Conditions_Darkeness: No street lighting                                         0\n",
              "Light_Conditions_Darkness: Street lights present and lit                               0\n",
              "Light_Conditions_Daylight: Street light present                                        0\n",
              "Weather_Conditions_Fine with high winds                                                0\n",
              "Weather_Conditions_Fine without high winds                                             0\n",
              "Weather_Conditions_Fog or mist                                                         0\n",
              "Weather_Conditions_Raining with high winds                                             0\n",
              "Weather_Conditions_Raining without high winds                                          0\n",
              "Weather_Conditions_Snowing with high winds                                             0\n",
              "Weather_Conditions_Snowing without high winds                                          0\n",
              "Road_Surface_Conditions_Dry                                                            0\n",
              "Road_Surface_Conditions_Flood (Over 3cm of water)                                      0\n",
              "Road_Surface_Conditions_Frost/Ice                                                      0\n",
              "Road_Surface_Conditions_Snow                                                           0\n",
              "Road_Surface_Conditions_Wet/Damp                                                       0\n",
              "Special_Conditions_at_Site_Auto traffic signal partly defective                        0\n",
              "Special_Conditions_at_Site_Auto traffic singal out                                     0\n",
              "Special_Conditions_at_Site_Mud                                                         0\n",
              "Special_Conditions_at_Site_None                                                        0\n",
              "Special_Conditions_at_Site_Ol or diesel                                                0\n",
              "Special_Conditions_at_Site_Permanent sign or marking defective or obscured             0\n",
              "Special_Conditions_at_Site_Road surface defective                                      0\n",
              "Special_Conditions_at_Site_Roadworks                                                   0\n",
              "Carriageway_Hazards_Any animal (except a ridden horse)                                 0\n",
              "Carriageway_Hazards_Dislodged vehicle load in carriageway                              0\n",
              "Carriageway_Hazards_Involvement with previous accident                                 0\n",
              "Carriageway_Hazards_None                                                               0\n",
              "Carriageway_Hazards_Pedestrian in carriageway (not injured)                            0\n",
              "dtype: int64"
            ]
          },
          "metadata": {},
          "execution_count": 72
        }
      ]
    },
    {
      "cell_type": "markdown",
      "metadata": {
        "id": "acEJqzB-978l"
      },
      "source": [
        "### **2-2-4 - Data balancing**\n"
      ]
    },
    {
      "cell_type": "code",
      "metadata": {
        "colab": {
          "base_uri": "https://localhost:8080/",
          "height": 313
        },
        "id": "zMZXORSYc6du",
        "outputId": "c0192c24-acd9-42b5-fb4b-7eb8524c8f29"
      },
      "source": [
        "class_distribution = df['Accident_Severity'].value_counts()\n",
        "\n",
        "sns.countplot(x='Accident_Severity',data= df)\n",
        "plt.title ('Accident severity')"
      ],
      "execution_count": null,
      "outputs": [
        {
          "output_type": "execute_result",
          "data": {
            "text/plain": [
              "Text(0.5, 1.0, 'Accident severity')"
            ]
          },
          "metadata": {},
          "execution_count": 73
        },
        {
          "output_type": "display_data",
          "data": {
            "image/png": "[encoded data removed]",
            "text/plain": [
              "<Figure size 432x288 with 1 Axes>"
            ]
          },
          "metadata": {
            "needs_background": "light"
          }
        }
      ]
    },
    {
      "cell_type": "code",
      "metadata": {
        "colab": {
          "base_uri": "https://localhost:8080/"
        },
        "id": "WtQ6e9qNq_nK",
        "outputId": "6c72c03f-bad0-4da1-a072-501ac0890465"
      },
      "source": [
        "df['Accident_Severity'].value_counts()\n"
      ],
      "execution_count": null,
      "outputs": [
        {
          "output_type": "execute_result",
          "data": {
            "text/plain": [
              "3    333825\n",
              "2     55562\n",
              "1      4383\n",
              "Name: Accident_Severity, dtype: int64"
            ]
          },
          "metadata": {},
          "execution_count": 74
        }
      ]
    },
    {
      "cell_type": "code",
      "metadata": {
        "id": "JCCItSzM681g"
      },
      "source": [
        "df1 = df.loc[df['Accident_Severity'] == 1]\n",
        "df2 = df.loc[df['Accident_Severity'] == 2]\n",
        "df3 = df.loc[df['Accident_Severity'] == 3]\n"
      ],
      "execution_count": null,
      "outputs": []
    },
    {
      "cell_type": "code",
      "metadata": {
        "id": "yI7ZsP-Z7xhx"
      },
      "source": [
        "df2 = df2[:12000]\n",
        "df3 = df3[:12000]"
      ],
      "execution_count": null,
      "outputs": []
    },
    {
      "cell_type": "code",
      "metadata": {
        "id": "YBD5yxNb8Z3C"
      },
      "source": [
        "df = pd.concat([df1,df2,df3])\n",
        "df = df.sample(frac=1, axis=1).reset_index(drop=True)\n"
      ],
      "execution_count": null,
      "outputs": []
    },
    {
      "cell_type": "code",
      "metadata": {
        "colab": {
          "base_uri": "https://localhost:8080/"
        },
        "id": "XW2WWI-vc6du",
        "outputId": "7010a37d-1f25-4265-e1c1-57c5ba64ee9a"
      },
      "source": [
        "import imblearn\n",
        "from imblearn.over_sampling import SMOTE \n",
        "sm = SMOTE(random_state=42)"
      ],
      "execution_count": null,
      "outputs": [
        {
          "output_type": "stream",
          "name": "stderr",
          "text": [
            "/usr/local/lib/python3.7/dist-packages/sklearn/externals/six.py:31: FutureWarning: The module is deprecated in version 0.21 and will be removed in version 0.23 since we've dropped support for Python 2.7. Please rely on the official version of six (https://pypi.org/project/six/).\n",
            "  \"(https://pypi.org/project/six/).\", FutureWarning)\n",
            "/usr/local/lib/python3.7/dist-packages/sklearn/utils/deprecation.py:144: FutureWarning: The sklearn.neighbors.base module is  deprecated in version 0.22 and will be removed in version 0.24. The corresponding classes / functions should instead be imported from sklearn.neighbors. Anything that cannot be imported from sklearn.neighbors is now part of the private API.\n",
            "  warnings.warn(message, FutureWarning)\n"
          ]
        }
      ]
    },
    {
      "cell_type": "code",
      "metadata": {
        "id": "M5HDslZfc6du"
      },
      "source": [
        "X = df.drop(['Accident_Severity'],axis = 1).values\n",
        "y = df['Accident_Severity'].values"
      ],
      "execution_count": null,
      "outputs": []
    },
    {
      "cell_type": "code",
      "metadata": {
        "colab": {
          "base_uri": "https://localhost:8080/"
        },
        "id": "CV-CyfUId0TI",
        "outputId": "3faafd30-b992-482b-9471-7d1755735988"
      },
      "source": [
        "X, y = sm.fit_resample(X, y)"
      ],
      "execution_count": null,
      "outputs": [
        {
          "output_type": "stream",
          "name": "stderr",
          "text": [
            "/usr/local/lib/python3.7/dist-packages/sklearn/utils/deprecation.py:87: FutureWarning: Function safe_indexing is deprecated; safe_indexing is deprecated in version 0.22 and will be removed in version 0.24.\n",
            "  warnings.warn(msg, category=FutureWarning)\n"
          ]
        }
      ]
    },
    {
      "cell_type": "code",
      "metadata": {
        "colab": {
          "base_uri": "https://localhost:8080/"
        },
        "id": "BVX6UV_Jc6dv",
        "outputId": "2e5652f5-e8ce-433e-ea3b-8e040b860e39"
      },
      "source": [
        "from collections import Counter\n",
        "Counter(y)"
      ],
      "execution_count": null,
      "outputs": [
        {
          "output_type": "execute_result",
          "data": {
            "text/plain": [
              "Counter({1: 12000, 2: 12000, 3: 12000})"
            ]
          },
          "metadata": {},
          "execution_count": 81
        }
      ]
    },
    {
      "cell_type": "markdown",
      "metadata": {
        "id": "4qmHI4X8c6dw"
      },
      "source": [
        "# **3- Training and Evaluating Machine Learning Model**\n"
      ]
    },
    {
      "cell_type": "code",
      "metadata": {
        "colab": {
          "base_uri": "https://localhost:8080/"
        },
        "id": "4dJq9KL7c6dv",
        "outputId": "e28d0805-1073-4282-c69e-27fa96d67c2b"
      },
      "source": [
        "#Split_train_test_validation\n",
        "from sklearn.model_selection import train_test_split\n",
        "\n",
        "\n",
        "X_train, X_test, y_train, y_test = train_test_split(X, y, test_size=0.25, random_state=42 , shuffle =True)\n",
        "\n",
        "X_train, X_val, y_train, y_val = train_test_split(X_train, y_train, test_size=0.2, random_state=42,shuffle =True)\n",
        "\n",
        "X_train.shape,X_val.shape,X_test.shape,y_train.shape,y_val.shape,y_test.shape"
      ],
      "execution_count": null,
      "outputs": [
        {
          "output_type": "execute_result",
          "data": {
            "text/plain": [
              "((21600, 52), (5400, 52), (9000, 52), (21600,), (5400,), (9000,))"
            ]
          },
          "metadata": {},
          "execution_count": 82
        }
      ]
    },
    {
      "cell_type": "markdown",
      "metadata": {
        "id": "iUbg-zl6c6dw"
      },
      "source": [
        "### **3-1 - KNN classifier**\n",
        "### **3-1-1 - Training**\n"
      ]
    },
    {
      "cell_type": "code",
      "metadata": {
        "id": "MkavGjvoinSZ"
      },
      "source": [
        "from sklearn.model_selection import GridSearchCV\n",
        "from sklearn.neighbors import KNeighborsClassifier\n",
        "from sklearn.metrics import make_scorer,recall_score,"
      ],
      "execution_count": null,
      "outputs": []
    },
    {
      "cell_type": "code",
      "metadata": {
        "colab": {
          "base_uri": "https://localhost:8080/"
        },
        "id": "KVYokI66c6dx",
        "outputId": "a7890da5-12b9-41e7-aede-585b278a8fe4"
      },
      "source": [
        "\n",
        "knn = KNeighborsClassifier()\n",
        "knn_params = {'n_neighbors' : range(1,20)}\n",
        "scorer = make_scorer(recall_score, average = 'weighted')\n",
        "knn_classifier = GridSearchCV(knn,knn_params,cv=10,scoring=scorer)\n",
        "knn_classifier.fit(X_train,y_train)"
      ],
      "execution_count": null,
      "outputs": [
        {
          "output_type": "execute_result",
          "data": {
            "text/plain": [
              "GridSearchCV(cv=10, error_score=nan,\n",
              "             estimator=KNeighborsClassifier(algorithm='auto', leaf_size=30,\n",
              "                                            metric='minkowski',\n",
              "                                            metric_params=None, n_jobs=None,\n",
              "                                            n_neighbors=5, p=2,\n",
              "                                            weights='uniform'),\n",
              "             iid='deprecated', n_jobs=None,\n",
              "             param_grid={'n_neighbors': range(1, 20)}, pre_dispatch='2*n_jobs',\n",
              "             refit=True, return_train_score=False,\n",
              "             scoring=make_scorer(recall_score, average=weighted), verbose=0)"
            ]
          },
          "metadata": {},
          "execution_count": 174
        }
      ]
    },
    {
      "cell_type": "code",
      "metadata": {
        "colab": {
          "base_uri": "https://localhost:8080/"
        },
        "id": "i5eQoRW4eR2p",
        "outputId": "51b4efe6-c685-4988-a46b-db1e2338e138"
      },
      "source": [
        "knn_classifier.best_params_,knn_classifier.best_score_"
      ],
      "execution_count": null,
      "outputs": [
        {
          "output_type": "execute_result",
          "data": {
            "text/plain": [
              "({'n_neighbors': 3}, 0.8099537037037037)"
            ]
          },
          "metadata": {},
          "execution_count": 175
        }
      ]
    },
    {
      "cell_type": "code",
      "metadata": {
        "colab": {
          "base_uri": "https://localhost:8080/"
        },
        "id": "socFP4SNs1C-",
        "outputId": "f4cf5fb7-53c5-483e-edbc-f3ecdcccc249"
      },
      "source": [
        "from sklearn.metrics import confusion_matrix , classification_report\n",
        "\n",
        "best_knn = KNeighborsClassifier(n_neighbors = 3)\n",
        "best_knn.fit(X_train,y_train)"
      ],
      "execution_count": null,
      "outputs": [
        {
          "output_type": "execute_result",
          "data": {
            "text/plain": [
              "KNeighborsClassifier(algorithm='auto', leaf_size=30, metric='minkowski',\n",
              "                     metric_params=None, n_jobs=None, n_neighbors=3, p=2,\n",
              "                     weights='uniform')"
            ]
          },
          "metadata": {},
          "execution_count": 85
        }
      ]
    },
    {
      "cell_type": "markdown",
      "metadata": {
        "id": "WRqq6tnN-o26"
      },
      "source": [
        "### **3-1-2 - Evaluation**\n"
      ]
    },
    {
      "cell_type": "code",
      "metadata": {
        "colab": {
          "base_uri": "https://localhost:8080/",
          "height": 486
        },
        "id": "UNCptn8xixXF",
        "outputId": "5627e840-9b7e-4220-ab13-13cf6f837ab2"
      },
      "source": [
        "knn_predict = best_knn.predict(X_train)\n",
        "cmG = confusion_matrix(y_train,knn_predict)\n",
        "sns.heatmap(cmG,annot=True)\n",
        "\n",
        "print(classification_report(y_train,knn_predict))\n",
        "print(confusion_matrix(y_train,knn_predict))"
      ],
      "execution_count": null,
      "outputs": [
        {
          "output_type": "stream",
          "name": "stdout",
          "text": [
            "              precision    recall  f1-score   support\n",
            "\n",
            "           1       0.93      0.94      0.94      7223\n",
            "           2       0.92      0.78      0.84      7134\n",
            "           3       0.85      0.96      0.90      7243\n",
            "\n",
            "    accuracy                           0.90     21600\n",
            "   macro avg       0.90      0.89      0.89     21600\n",
            "weighted avg       0.90      0.90      0.89     21600\n",
            "\n",
            "[[6816  304  103]\n",
            " [ 438 5554 1142]\n",
            " [  73  201 6969]]\n"
          ]
        },
        {
          "output_type": "display_data",
          "data": {
            "image/png": "[encoded data removed]",
            "text/plain": [
              "<Figure size 432x288 with 2 Axes>"
            ]
          },
          "metadata": {
            "needs_background": "light"
          }
        }
      ]
    },
    {
      "cell_type": "code",
      "metadata": {
        "colab": {
          "base_uri": "https://localhost:8080/",
          "height": 486
        },
        "id": "zcfvTxqFc6dx",
        "outputId": "6686e437-e188-45de-8045-686f38486e61"
      },
      "source": [
        "\n",
        "knn_predict = best_knn.predict(X_val)\n",
        "cmG_val = confusion_matrix(y_val,knn_predict)\n",
        "sns.heatmap(cmG,annot=True)\n",
        "\n",
        "print(classification_report(y_val,knn_predict))\n",
        "print(cmG_val)"
      ],
      "execution_count": null,
      "outputs": [
        {
          "output_type": "stream",
          "name": "stdout",
          "text": [
            "              precision    recall  f1-score   support\n",
            "\n",
            "           1       0.87      0.87      0.87      1751\n",
            "           2       0.80      0.67      0.73      1838\n",
            "           3       0.78      0.90      0.84      1811\n",
            "\n",
            "    accuracy                           0.81      5400\n",
            "   macro avg       0.82      0.82      0.81      5400\n",
            "weighted avg       0.81      0.81      0.81      5400\n",
            "\n",
            "[[1532  168   51]\n",
            " [ 205 1227  406]\n",
            " [  28  147 1636]]\n"
          ]
        },
        {
          "output_type": "display_data",
          "data": {
            "image/png": "[encoded data removed]",
            "text/plain": [
              "<Figure size 432x288 with 2 Axes>"
            ]
          },
          "metadata": {
            "needs_background": "light"
          }
        }
      ]
    },
    {
      "cell_type": "code",
      "metadata": {
        "colab": {
          "base_uri": "https://localhost:8080/",
          "height": 486
        },
        "id": "KN6_plcpxjMk",
        "outputId": "a4d68e59-015f-496a-9554-e28d4c952953"
      },
      "source": [
        "\n",
        "knn_predict = best_knn.predict(X_test)\n",
        "cmG_test = confusion_matrix(y_test,knn_predict)\n",
        "sns.heatmap(cmG_test,annot=True)\n",
        "\n",
        "print(classification_report(y_test,knn_predict))\n",
        "print(cmG_test)"
      ],
      "execution_count": null,
      "outputs": [
        {
          "output_type": "stream",
          "name": "stdout",
          "text": [
            "              precision    recall  f1-score   support\n",
            "\n",
            "           1       0.86      0.88      0.87      3026\n",
            "           2       0.79      0.65      0.71      3028\n",
            "           3       0.78      0.91      0.84      2946\n",
            "\n",
            "    accuracy                           0.81      9000\n",
            "   macro avg       0.81      0.81      0.81      9000\n",
            "weighted avg       0.81      0.81      0.81      9000\n",
            "\n",
            "[[2654  298   74]\n",
            " [ 370 1957  701]\n",
            " [  55  218 2673]]\n"
          ]
        },
        {
          "output_type": "display_data",
          "data": {
            "image/png": "[encoded data removed]",
            "text/plain": [
              "<Figure size 432x288 with 2 Axes>"
            ]
          },
          "metadata": {
            "needs_background": "light"
          }
        }
      ]
    },
    {
      "cell_type": "code",
      "metadata": {
        "id": "3_QZWorc23Nz"
      },
      "source": [
        "y_scores_val = best_knn.predict_proba(X_val)"
      ],
      "execution_count": null,
      "outputs": []
    },
    {
      "cell_type": "code",
      "metadata": {
        "colab": {
          "base_uri": "https://localhost:8080/"
        },
        "id": "IEcqLE-x2_Qs",
        "outputId": "8ce8ac26-4848-48de-a0aa-e396bae78a86"
      },
      "source": [
        "y_scores_val"
      ],
      "execution_count": null,
      "outputs": [
        {
          "output_type": "execute_result",
          "data": {
            "text/plain": [
              "array([[1.        , 0.        , 0.        ],\n",
              "       [0.        , 0.        , 1.        ],\n",
              "       [0.        , 0.33333333, 0.66666667],\n",
              "       ...,\n",
              "       [1.        , 0.        , 0.        ],\n",
              "       [0.33333333, 0.        , 0.66666667],\n",
              "       [0.66666667, 0.33333333, 0.        ]])"
            ]
          },
          "metadata": {},
          "execution_count": 104
        }
      ]
    },
    {
      "cell_type": "code",
      "metadata": {
        "id": "GfWxzh5HmgyH"
      },
      "source": [
        "y_scores = best_knn.predict_proba(X_test)"
      ],
      "execution_count": null,
      "outputs": []
    },
    {
      "cell_type": "code",
      "metadata": {
        "colab": {
          "base_uri": "https://localhost:8080/"
        },
        "id": "haszujrEx3zH",
        "outputId": "f0f952da-eeea-4ebb-d004-3fc43324d109"
      },
      "source": [
        "y_scores"
      ],
      "execution_count": null,
      "outputs": [
        {
          "output_type": "execute_result",
          "data": {
            "text/plain": [
              "array([[0.        , 0.        , 1.        ],\n",
              "       [0.        , 0.33333333, 0.66666667],\n",
              "       [0.        , 0.        , 1.        ],\n",
              "       ...,\n",
              "       [0.33333333, 0.66666667, 0.        ],\n",
              "       [1.        , 0.        , 0.        ],\n",
              "       [0.33333333, 0.66666667, 0.        ]])"
            ]
          },
          "metadata": {},
          "execution_count": 88
        }
      ]
    },
    {
      "cell_type": "markdown",
      "metadata": {
        "id": "jkcV1pRZ0iYr"
      },
      "source": [
        "A partir de l'évaluation il s'est avéré que l'accuracy est de 81% => bonne mais on peut l'améliorer parce que à partir de la matrice de confusion il y'a des accidents severes qui sont déclarés comme non sévere ce qui peut donner des résultats fauuses pour l'analyse des risques des accidents.\n",
        "Aussi qu'à partir des résultats des probas il y'a des observations ou la certitude est egale à 0.67 ce qui n'est pas optimal"
      ]
    },
    {
      "cell_type": "code",
      "metadata": {
        "id": "KUzYr11we8Sg"
      },
      "source": [
        "# save model \n",
        "import pickle\n",
        "pickle.dump(best_knn, open('model_3nn.pickle', 'wb')) "
      ],
      "execution_count": null,
      "outputs": []
    },
    {
      "cell_type": "markdown",
      "metadata": {
        "id": "_QJOYSt--x1W"
      },
      "source": [
        "### **3-2 - SVM**\n",
        "### **3-2-1 - Training and evaluation**\n",
        "#### **3-2-1-1 -RBF Kernel**\n"
      ]
    },
    {
      "cell_type": "code",
      "metadata": {
        "id": "purlj35xc6dx"
      },
      "source": [
        "from sklearn.svm import SVC \n",
        "from sklearn.model_selection import GridSearchCV"
      ],
      "execution_count": null,
      "outputs": []
    },
    {
      "cell_type": "code",
      "metadata": {
        "colab": {
          "base_uri": "https://localhost:8080/"
        },
        "id": "oLK4xFYvc6dx",
        "outputId": "3fa64f3e-9bdd-4816-ba9f-10e1e3106a6e"
      },
      "source": [
        "svc_model =SVC()\n",
        "svc_params = {\"C\":[0.1,1,5,10],\"gamma\":[0.01,0.1,1,10,100,1000],\"kernel\":['rbf']}\n",
        "scorer = make_scorer(recall_score, average = 'weighted')\n",
        "svc_classifier = GridSearchCV(svc_model,svc_params,cv=10,scoring=scorer)\n",
        "svc_classifier.fit(X_train,y_train)\n",
        "\n",
        "svc_classifier.best_params_,knn_classifier.best_score_"
      ],
      "execution_count": null,
      "outputs": [
        {
          "output_type": "execute_result",
          "data": {
            "text/plain": [
              "({'C': 10, 'gamma': 0.1, 'kernel': 'rbf'}, 0.8099537037037037)"
            ]
          },
          "metadata": {},
          "execution_count": 177
        }
      ]
    },
    {
      "cell_type": "code",
      "metadata": {
        "colab": {
          "base_uri": "https://localhost:8080/"
        },
        "id": "EjDq8N7OiStS",
        "outputId": "7e7487dd-1647-4f97-a836-d6e3bc17d1b3"
      },
      "source": [
        "svc_model =SVC(C=10,gamma=0.1,kernel='rbf',probability=True)\n",
        "svc_model.fit(X_train,y_train)"
      ],
      "execution_count": null,
      "outputs": [
        {
          "output_type": "execute_result",
          "data": {
            "text/plain": [
              "SVC(C=10, break_ties=False, cache_size=200, class_weight=None, coef0=0.0,\n",
              "    decision_function_shape='ovr', degree=3, gamma=0.1, kernel='rbf',\n",
              "    max_iter=-1, probability=True, random_state=None, shrinking=True, tol=0.001,\n",
              "    verbose=False)"
            ]
          },
          "metadata": {},
          "execution_count": 180
        }
      ]
    },
    {
      "cell_type": "code",
      "metadata": {
        "colab": {
          "base_uri": "https://localhost:8080/",
          "height": 439
        },
        "id": "t1YVhHWqiKkc",
        "outputId": "a9d72516-3fac-4eda-b815-0430f5d56f85"
      },
      "source": [
        "y_predict = svc_model.predict(X_val)\n",
        "cmG = confusion_matrix(y_val,y_predict)\n",
        "sns.heatmap(cmG,annot=True)\n",
        "print(classification_report(y_val,y_predict))"
      ],
      "execution_count": null,
      "outputs": [
        {
          "output_type": "stream",
          "name": "stdout",
          "text": [
            "              precision    recall  f1-score   support\n",
            "\n",
            "           1       0.95      0.79      0.86      1751\n",
            "           2       0.82      0.73      0.77      1838\n",
            "           3       0.78      0.99      0.87      1811\n",
            "\n",
            "    accuracy                           0.84      5400\n",
            "   macro avg       0.85      0.84      0.84      5400\n",
            "weighted avg       0.85      0.84      0.84      5400\n",
            "\n"
          ]
        },
        {
          "output_type": "display_data",
          "data": {
            "image/png": "[encoded data removed]",
            "text/plain": [
              "<Figure size 432x288 with 2 Axes>"
            ]
          },
          "metadata": {
            "needs_background": "light"
          }
        }
      ]
    },
    {
      "cell_type": "code",
      "metadata": {
        "colab": {
          "base_uri": "https://localhost:8080/",
          "height": 435
        },
        "id": "rLKXvm5Ic6dy",
        "outputId": "54b29a1b-ffef-4c48-93e8-e8183e5fbf87"
      },
      "source": [
        "y_predict = svc_model.predict(X_test)\n",
        "cmG = confusion_matrix(y_test,y_predict)\n",
        "sns.heatmap(cmG,annot=True)\n",
        "print(classification_report(y_test,y_predict))"
      ],
      "execution_count": null,
      "outputs": [
        {
          "output_type": "stream",
          "name": "stdout",
          "text": [
            "              precision    recall  f1-score   support\n",
            "\n",
            "           1       0.96      0.79      0.87      3026\n",
            "           2       0.81      0.72      0.76      3028\n",
            "           3       0.77      0.99      0.87      2946\n",
            "\n",
            "    accuracy                           0.83      9000\n",
            "   macro avg       0.85      0.83      0.83      9000\n",
            "weighted avg       0.85      0.83      0.83      9000\n",
            "\n"
          ]
        },
        {
          "output_type": "display_data",
          "data": {
            "image/png": "[encoded data removed]",
            "text/plain": [
              "<Figure size 432x288 with 2 Axes>"
            ]
          },
          "metadata": {
            "needs_background": "light"
          }
        }
      ]
    },
    {
      "cell_type": "code",
      "metadata": {
        "colab": {
          "base_uri": "https://localhost:8080/"
        },
        "id": "oCQHraEm3sQF",
        "outputId": "db9c6d15-b656-42bf-a11e-aaf6b5368771"
      },
      "source": [
        "y_scores_test = svc_model.predict_proba(X_test)\n",
        "y_scores_test"
      ],
      "execution_count": null,
      "outputs": [
        {
          "output_type": "execute_result",
          "data": {
            "text/plain": [
              "array([[1.21133604e-01, 3.28678400e-01, 5.50187996e-01],\n",
              "       [2.68535526e-02, 1.68280607e-01, 8.04865840e-01],\n",
              "       [2.05119023e-02, 1.76977596e-01, 8.02510502e-01],\n",
              "       ...,\n",
              "       [1.49777723e-01, 8.50147527e-01, 7.47505601e-05],\n",
              "       [9.99999752e-01, 1.97087260e-07, 5.06556620e-08],\n",
              "       [1.40714167e-01, 8.59236089e-01, 4.97438615e-05]])"
            ]
          },
          "metadata": {},
          "execution_count": 183
        }
      ]
    },
    {
      "cell_type": "code",
      "metadata": {
        "colab": {
          "base_uri": "https://localhost:8080/"
        },
        "id": "wYt73H-w36Ie",
        "outputId": "9d2608a2-81f9-4554-af0e-15facfbf1bde"
      },
      "source": [
        "y_scores_val = svc_model.predict_proba(X_test)\n",
        "y_scores_val"
      ],
      "execution_count": null,
      "outputs": [
        {
          "output_type": "execute_result",
          "data": {
            "text/plain": [
              "array([[1.21133604e-01, 3.28678400e-01, 5.50187996e-01],\n",
              "       [2.68535526e-02, 1.68280607e-01, 8.04865840e-01],\n",
              "       [2.05119023e-02, 1.76977596e-01, 8.02510502e-01],\n",
              "       ...,\n",
              "       [1.49777723e-01, 8.50147527e-01, 7.47505601e-05],\n",
              "       [9.99999752e-01, 1.97087260e-07, 5.06556620e-08],\n",
              "       [1.40714167e-01, 8.59236089e-01, 4.97438615e-05]])"
            ]
          },
          "metadata": {},
          "execution_count": 184
        }
      ]
    },
    {
      "cell_type": "code",
      "metadata": {
        "id": "i20X4GJrVWAp"
      },
      "source": [
        "import pickle\n",
        "pickle.dump(best_knn, open('model_svm_rbf.pickle', 'wb')) "
      ],
      "execution_count": null,
      "outputs": []
    },
    {
      "cell_type": "markdown",
      "metadata": {
        "id": "ZFdGHyfhjZWP"
      },
      "source": [
        "#### **3-2-1-2 -Polynomial Kernel**\n"
      ]
    },
    {
      "cell_type": "code",
      "metadata": {
        "colab": {
          "base_uri": "https://localhost:8080/"
        },
        "id": "XtCBkO4dc6dy",
        "outputId": "40a19281-68b8-464e-b1df-d0a738cf51a8"
      },
      "source": [
        "svc_model =SVC()\n",
        "svc_params = {\"C\":[0.1,1,5,10],\"degree\":[2,3,4],\"kernel\":['poly']}\n",
        "scorer = make_scorer(recall_score, average = 'weighted')\n",
        "svc_classifier = GridSearchCV(svc_model,svc_params,cv=10,scoring=scorer)\n",
        "svc_classifier.fit(X_train,y_train)\n",
        "\n",
        "svc_classifier.best_params_,knn_classifier.best_score_"
      ],
      "execution_count": null,
      "outputs": [
        {
          "output_type": "execute_result",
          "data": {
            "text/plain": [
              "({'C': 5, 'degree': 3, 'kernel': 'poly'}, 0.8099537037037037)"
            ]
          },
          "metadata": {},
          "execution_count": 186
        }
      ]
    },
    {
      "cell_type": "code",
      "metadata": {
        "id": "S6WZT6uHjjZK",
        "colab": {
          "base_uri": "https://localhost:8080/"
        },
        "outputId": "a8613c0c-783e-48d8-8ca3-14149e7a866c"
      },
      "source": [
        "svc_model =SVC(C=5,degree=3,kernel='poly',probability=True)\n",
        "svc_model.fit(X_train,y_train)"
      ],
      "execution_count": null,
      "outputs": [
        {
          "output_type": "execute_result",
          "data": {
            "text/plain": [
              "SVC(C=5, break_ties=False, cache_size=200, class_weight=None, coef0=0.0,\n",
              "    decision_function_shape='ovr', degree=3, gamma='scale', kernel='poly',\n",
              "    max_iter=-1, probability=True, random_state=None, shrinking=True, tol=0.001,\n",
              "    verbose=False)"
            ]
          },
          "metadata": {},
          "execution_count": 188
        }
      ]
    },
    {
      "cell_type": "code",
      "metadata": {
        "colab": {
          "base_uri": "https://localhost:8080/",
          "height": 486
        },
        "id": "ZSDY245kjgGW",
        "outputId": "14eb4747-60a0-4f10-95a7-b5e537362a9d"
      },
      "source": [
        "y_predict = svc_model.predict(X_val)\n",
        "cmG = confusion_matrix(y_val,y_predict)\n",
        "sns.heatmap(cmG,annot=True)\n",
        "\n",
        "print(classification_report(y_val,y_predict))\n",
        "print(confusion_matrix(y_val,y_predict))"
      ],
      "execution_count": null,
      "outputs": [
        {
          "output_type": "stream",
          "name": "stdout",
          "text": [
            "              precision    recall  f1-score   support\n",
            "\n",
            "           1       0.95      0.79      0.86      1751\n",
            "           2       0.82      0.73      0.77      1838\n",
            "           3       0.78      0.99      0.87      1811\n",
            "\n",
            "    accuracy                           0.84      5400\n",
            "   macro avg       0.85      0.84      0.83      5400\n",
            "weighted avg       0.85      0.84      0.83      5400\n",
            "\n",
            "[[1378  297   76]\n",
            " [  71 1338  429]\n",
            " [   8    5 1798]]\n"
          ]
        },
        {
          "output_type": "display_data",
          "data": {
            "image/png": "[encoded data removed]",
            "text/plain": [
              "<Figure size 432x288 with 2 Axes>"
            ]
          },
          "metadata": {
            "needs_background": "light"
          }
        }
      ]
    },
    {
      "cell_type": "code",
      "metadata": {
        "colab": {
          "base_uri": "https://localhost:8080/",
          "height": 486
        },
        "id": "avEVUPu9c6dy",
        "outputId": "4a688ce5-5aba-4021-e53c-9d3d41b198cd"
      },
      "source": [
        "\n",
        "y_predict = svc_model.predict(X_test)\n",
        "cmG = confusion_matrix(y_test,y_predict)\n",
        "sns.heatmap(cmG,annot=True)\n",
        "\n",
        "print(classification_report(y_test,y_predict))\n",
        "print(confusion_matrix(y_test,y_predict))"
      ],
      "execution_count": null,
      "outputs": [
        {
          "output_type": "stream",
          "name": "stdout",
          "text": [
            "              precision    recall  f1-score   support\n",
            "\n",
            "           1       0.96      0.79      0.87      3026\n",
            "           2       0.81      0.72      0.76      3028\n",
            "           3       0.77      0.99      0.87      2946\n",
            "\n",
            "    accuracy                           0.83      9000\n",
            "   macro avg       0.84      0.83      0.83      9000\n",
            "weighted avg       0.85      0.83      0.83      9000\n",
            "\n",
            "[[2399  495  132]\n",
            " [ 100 2180  748]\n",
            " [  12   13 2921]]\n"
          ]
        },
        {
          "output_type": "display_data",
          "data": {
            "image/png": "[encoded data removed]",
            "text/plain": [
              "<Figure size 432x288 with 2 Axes>"
            ]
          },
          "metadata": {
            "needs_background": "light"
          }
        }
      ]
    },
    {
      "cell_type": "code",
      "metadata": {
        "colab": {
          "base_uri": "https://localhost:8080/"
        },
        "id": "b_HdNK6iIcbk",
        "outputId": "22a28725-4b3e-4405-f137-f3c79d19ed47"
      },
      "source": [
        "y_scores_val = svc_model.predict_proba(X_test)\n",
        "y_scores_val"
      ],
      "execution_count": null,
      "outputs": [
        {
          "output_type": "execute_result",
          "data": {
            "text/plain": [
              "array([[1.17913243e-01, 3.38950333e-01, 5.43136424e-01],\n",
              "       [2.76330339e-02, 1.68458001e-01, 8.03908966e-01],\n",
              "       [1.88250160e-02, 1.75281932e-01, 8.05893052e-01],\n",
              "       ...,\n",
              "       [5.64264227e-02, 9.43536250e-01, 3.73268615e-05],\n",
              "       [9.99999850e-01, 9.99986321e-08, 5.03722106e-08],\n",
              "       [1.45181834e-01, 8.54761040e-01, 5.71259197e-05]])"
            ]
          },
          "metadata": {},
          "execution_count": 190
        }
      ]
    },
    {
      "cell_type": "markdown",
      "metadata": {
        "id": "649hM_f38XnH"
      },
      "source": [
        "Il s'est avéré que le probléme à traiter dans notre cas est \n",
        "- Avoir des probabilité > 0.8 pour dire que le modéle est sur de lui\n",
        "- Minimiser les fautes de prédiction entre : - 0 et 1 /  - 1 et 2"
      ]
    },
    {
      "cell_type": "markdown",
      "metadata": {
        "id": "174xhabv844U"
      },
      "source": [
        "Il est à noter que l SVC est plus performant que le KNN en terme d'accuracy, recall et precision . \\\\\n",
        "Au niveau du SVC celui du polynomial est plus performant car il a mieux traiter la minimisation des fautes de prédictions entre 0-1 et 1-2"
      ]
    },
    {
      "cell_type": "code",
      "metadata": {
        "id": "2HliiqRvkGfY"
      },
      "source": [
        "pickle.dump(best_knn, open('model_svm_poly.pickle', 'wb')) "
      ],
      "execution_count": null,
      "outputs": []
    },
    {
      "cell_type": "markdown",
      "metadata": {
        "id": "5yg7mEq7c6dy"
      },
      "source": [
        "### **3-3 - MLP classifier**\n"
      ]
    },
    {
      "cell_type": "code",
      "metadata": {
        "id": "Ahfc6WZr93oA"
      },
      "source": [
        "from sklearn.neural_network import MLPClassifier"
      ],
      "execution_count": null,
      "outputs": []
    },
    {
      "cell_type": "code",
      "metadata": {
        "colab": {
          "base_uri": "https://localhost:8080/"
        },
        "id": "oFeo8EKakwXC",
        "outputId": "e7e970f1-8d35-4280-e29a-837faa845be6"
      },
      "source": [
        "\n",
        "mlp = MLPClassifier(max_iter=75)\n",
        "scorer = make_scorer(recall_score, average = 'weighted')\n",
        "parameter_space = {\n",
        "    'hidden_layer_sizes':[(50,50,50),(50,100,50),(100,)],\n",
        "    'activation':['tanh','relu'],\n",
        "    'alpha':[0.0001,0.05]\n",
        "}\n",
        "clf= GridSearchCV(mlp,parameter_space,n_jobs=-1,cv=10,scoring=scorer)\n",
        "clf.fit(X_train,y_train)\n",
        "print('bestparameters found :\\n',clf.best_params_)"
      ],
      "execution_count": null,
      "outputs": [
        {
          "output_type": "stream",
          "name": "stdout",
          "text": [
            "bestparameters found :\n",
            " {'activation': 'tanh', 'alpha': 0.0001, 'hidden_layer_sizes': (50, 50, 50)}\n"
          ]
        },
        {
          "output_type": "stream",
          "name": "stderr",
          "text": [
            "/usr/local/lib/python3.7/dist-packages/sklearn/neural_network/_multilayer_perceptron.py:571: ConvergenceWarning: Stochastic Optimizer: Maximum iterations (75) reached and the optimization hasn't converged yet.\n",
            "  % self.max_iter, ConvergenceWarning)\n"
          ]
        }
      ]
    },
    {
      "cell_type": "code",
      "metadata": {
        "colab": {
          "base_uri": "https://localhost:8080/"
        },
        "id": "N5Jvb8ZC0MC3",
        "outputId": "ddb9baca-714f-4f54-9f88-b77d20a8b3d0"
      },
      "source": [
        "best_mlp = MLPClassifier(max_iter=200,activation='relu',alpha=0.0001,hidden_layer_sizes=(50,50,50))\n",
        "best_mlp.fit(X_train,y_train)\n",
        "\n"
      ],
      "execution_count": null,
      "outputs": [
        {
          "output_type": "execute_result",
          "data": {
            "text/plain": [
              "MLPClassifier(activation='relu', alpha=0.0001, batch_size='auto', beta_1=0.9,\n",
              "              beta_2=0.999, early_stopping=False, epsilon=1e-08,\n",
              "              hidden_layer_sizes=(50, 50, 50), learning_rate='constant',\n",
              "              learning_rate_init=0.001, max_fun=15000, max_iter=200,\n",
              "              momentum=0.9, n_iter_no_change=10, nesterovs_momentum=True,\n",
              "              power_t=0.5, random_state=None, shuffle=True, solver='adam',\n",
              "              tol=0.0001, validation_fraction=0.1, verbose=False,\n",
              "              warm_start=False)"
            ]
          },
          "metadata": {},
          "execution_count": 194
        }
      ]
    },
    {
      "cell_type": "code",
      "metadata": {
        "colab": {
          "base_uri": "https://localhost:8080/",
          "height": 486
        },
        "id": "QsRZQ5s7IBy9",
        "outputId": "dd71e116-9c99-451c-839e-989cf9de5aae"
      },
      "source": [
        "y_predict = best_mlp.predict(X_val)\n",
        "cmG = confusion_matrix(y_val,y_predict)\n",
        "sns.heatmap(cmG,annot=True)\n",
        "\n",
        "print(classification_report(y_val,y_predict))\n",
        "print(confusion_matrix(y_val,y_predict))"
      ],
      "execution_count": null,
      "outputs": [
        {
          "output_type": "stream",
          "name": "stdout",
          "text": [
            "              precision    recall  f1-score   support\n",
            "\n",
            "           1       0.94      0.81      0.87      1751\n",
            "           2       0.78      0.79      0.79      1838\n",
            "           3       0.83      0.93      0.88      1811\n",
            "\n",
            "    accuracy                           0.84      5400\n",
            "   macro avg       0.85      0.84      0.85      5400\n",
            "weighted avg       0.85      0.84      0.84      5400\n",
            "\n",
            "[[1422  284   45]\n",
            " [  78 1449  311]\n",
            " [   5  115 1691]]\n"
          ]
        },
        {
          "output_type": "display_data",
          "data": {
            "image/png": "[encoded data removed]",
            "text/plain": [
              "<Figure size 432x288 with 2 Axes>"
            ]
          },
          "metadata": {
            "needs_background": "light"
          }
        }
      ]
    },
    {
      "cell_type": "code",
      "metadata": {
        "colab": {
          "base_uri": "https://localhost:8080/",
          "height": 486
        },
        "id": "3IkZdliu9z7C",
        "outputId": "b0ff107d-4d9b-429e-8296-a0a52279c7b9"
      },
      "source": [
        "y_predict = best_mlp.predict(X_test)\n",
        "cmG = confusion_matrix(y_test,y_predict)\n",
        "sns.heatmap(cmG,annot=True)\n",
        "\n",
        "print(classification_report(y_test,y_predict))\n",
        "print(confusion_matrix(y_test,y_predict))"
      ],
      "execution_count": null,
      "outputs": [
        {
          "output_type": "stream",
          "name": "stdout",
          "text": [
            "              precision    recall  f1-score   support\n",
            "\n",
            "           1       0.95      0.82      0.88      3026\n",
            "           2       0.78      0.78      0.78      3028\n",
            "           3       0.82      0.94      0.87      2946\n",
            "\n",
            "    accuracy                           0.84      9000\n",
            "   macro avg       0.85      0.85      0.85      9000\n",
            "weighted avg       0.85      0.84      0.84      9000\n",
            "\n",
            "[[2485  480   61]\n",
            " [ 118 2350  560]\n",
            " [   5  172 2769]]\n"
          ]
        },
        {
          "output_type": "display_data",
          "data": {
            "image/png": "[encoded data removed]",
            "text/plain": [
              "<Figure size 432x288 with 2 Axes>"
            ]
          },
          "metadata": {
            "needs_background": "light"
          }
        }
      ]
    },
    {
      "cell_type": "code",
      "metadata": {
        "colab": {
          "base_uri": "https://localhost:8080/"
        },
        "id": "RKTZgl9EIUNU",
        "outputId": "a393e31e-5d8a-4f2d-f871-8370637d06a4"
      },
      "source": [
        "dupl"
      ],
      "execution_count": null,
      "outputs": [
        {
          "output_type": "execute_result",
          "data": {
            "text/plain": [
              "array([[2.43674960e-002, 3.03851131e-001, 6.71781373e-001],\n",
              "       [9.44910055e-003, 9.65687362e-002, 8.93982163e-001],\n",
              "       [1.73681673e-003, 6.69882494e-002, 9.31274934e-001],\n",
              "       ...,\n",
              "       [2.79066603e-014, 1.00000000e+000, 9.23183856e-037],\n",
              "       [1.00000000e+000, 6.05395278e-141, 2.00407976e-223],\n",
              "       [8.23739454e-002, 9.17626055e-001, 5.45318758e-036]])"
            ]
          },
          "metadata": {},
          "execution_count": 197
        }
      ]
    },
    {
      "cell_type": "markdown",
      "metadata": {
        "id": "Jyn8PtGjc6dz"
      },
      "source": [
        "### **3-4 - Random forest**\n"
      ]
    },
    {
      "cell_type": "code",
      "metadata": {
        "colab": {
          "base_uri": "https://localhost:8080/"
        },
        "id": "AkgkE0RI3hkQ",
        "outputId": "b1b77135-7aca-41eb-b1ce-5dd39110aa90"
      },
      "source": [
        "from sklearn.ensemble import RandomForestClassifier\n",
        "rf =RandomForestClassifier()\n",
        "\n",
        "from pprint import pprint\n",
        "print('parameters currently in use : \\n')\n",
        "pprint(rf.get_params())"
      ],
      "execution_count": null,
      "outputs": [
        {
          "output_type": "stream",
          "name": "stdout",
          "text": [
            "parameters currently in use : \n",
            "\n",
            "{'bootstrap': True,\n",
            " 'ccp_alpha': 0.0,\n",
            " 'class_weight': None,\n",
            " 'criterion': 'gini',\n",
            " 'max_depth': None,\n",
            " 'max_features': 'auto',\n",
            " 'max_leaf_nodes': None,\n",
            " 'max_samples': None,\n",
            " 'min_impurity_decrease': 0.0,\n",
            " 'min_impurity_split': None,\n",
            " 'min_samples_leaf': 1,\n",
            " 'min_samples_split': 2,\n",
            " 'min_weight_fraction_leaf': 0.0,\n",
            " 'n_estimators': 100,\n",
            " 'n_jobs': None,\n",
            " 'oob_score': False,\n",
            " 'random_state': None,\n",
            " 'verbose': 0,\n",
            " 'warm_start': False}\n"
          ]
        }
      ]
    },
    {
      "cell_type": "code",
      "metadata": {
        "colab": {
          "base_uri": "https://localhost:8080/"
        },
        "id": "ePEccM713t4E",
        "outputId": "9e52839f-93c7-4b33-9b13-544a021572b6"
      },
      "source": [
        "n_estimators = [200,300]\n",
        "max_features = [3,5]\n",
        "max_depth = [2,4]\n",
        "min_samples_split = [2,5]\n",
        "min_samples_leaf=[1,4]\n",
        "bootstrap = [True,False]\n",
        "param_grid = {'n_estimators':n_estimators,\n",
        "              'max_features':max_features,\n",
        "              'max_depth':max_depth,\n",
        "              'min_samples_split':min_samples_split,\n",
        "              'min_samples_leaf':min_samples_leaf,\n",
        "              'bootstrap':bootstrap\n",
        "\n",
        "             }\n",
        "print(param_grid)"
      ],
      "execution_count": null,
      "outputs": [
        {
          "output_type": "stream",
          "name": "stdout",
          "text": [
            "{'n_estimators': [200, 300], 'max_features': [3, 5], 'max_depth': [2, 4], 'min_samples_split': [2, 5], 'min_samples_leaf': [1, 4], 'bootstrap': [True, False]}\n"
          ]
        }
      ]
    },
    {
      "cell_type": "code",
      "metadata": {
        "colab": {
          "base_uri": "https://localhost:8080/"
        },
        "id": "oQzBXQxb35_K",
        "outputId": "df4f6560-f840-4711-a667-8d99da938bcc"
      },
      "source": [
        "from sklearn.model_selection import GridSearchCV\n",
        "grid_search = GridSearchCV(rf,param_grid,cv=3,n_jobs=-1)\n",
        "grid_search.fit(X_train,y_train)\n",
        "grid_search.best_params_"
      ],
      "execution_count": null,
      "outputs": [
        {
          "output_type": "execute_result",
          "data": {
            "text/plain": [
              "{'bootstrap': False,\n",
              " 'max_depth': 4,\n",
              " 'max_features': 5,\n",
              " 'min_samples_leaf': 1,\n",
              " 'min_samples_split': 2,\n",
              " 'n_estimators': 300}"
            ]
          },
          "metadata": {},
          "execution_count": 200
        }
      ]
    },
    {
      "cell_type": "code",
      "metadata": {
        "id": "5zqAAraZZo4L"
      },
      "source": [
        "rf =RandomForestClassifier(n_estimators=300,max_depth=4,min_samples_split=2,min_samples_leaf=1,max_features=5,bootstrap=False)"
      ],
      "execution_count": null,
      "outputs": []
    },
    {
      "cell_type": "code",
      "metadata": {
        "colab": {
          "base_uri": "https://localhost:8080/"
        },
        "id": "Cy243K5NaGsY",
        "outputId": "a86a0f02-beec-4e14-b9b5-0de1b922abd3"
      },
      "source": [
        "rf.fit(X_train,y_train)\n"
      ],
      "execution_count": null,
      "outputs": [
        {
          "output_type": "execute_result",
          "data": {
            "text/plain": [
              "RandomForestClassifier(bootstrap=False, ccp_alpha=0.0, class_weight=None,\n",
              "                       criterion='gini', max_depth=4, max_features=5,\n",
              "                       max_leaf_nodes=None, max_samples=None,\n",
              "                       min_impurity_decrease=0.0, min_impurity_split=None,\n",
              "                       min_samples_leaf=1, min_samples_split=2,\n",
              "                       min_weight_fraction_leaf=0.0, n_estimators=300,\n",
              "                       n_jobs=None, oob_score=False, random_state=None,\n",
              "                       verbose=0, warm_start=False)"
            ]
          },
          "metadata": {},
          "execution_count": 202
        }
      ]
    },
    {
      "cell_type": "code",
      "metadata": {
        "colab": {
          "base_uri": "https://localhost:8080/",
          "height": 486
        },
        "id": "KQcLKmyjaLsq",
        "outputId": "11372351-a31b-4d71-f1a8-cbad251fd001"
      },
      "source": [
        "from sklearn.metrics import confusion_matrix , classification_report\n",
        "rf_predict = rf.predict(X_val)\n",
        "cmG = confusion_matrix(y_val,rf_predict)\n",
        "sns.heatmap(cmG,annot=True)\n",
        "print(classification_report(y_val,rf_predict))\n",
        "print(confusion_matrix(y_val,rf_predict))"
      ],
      "execution_count": null,
      "outputs": [
        {
          "output_type": "stream",
          "name": "stdout",
          "text": [
            "              precision    recall  f1-score   support\n",
            "\n",
            "           1       0.88      0.82      0.85      1751\n",
            "           2       0.86      0.69      0.76      1838\n",
            "           3       0.78      1.00      0.88      1811\n",
            "\n",
            "    accuracy                           0.83      5400\n",
            "   macro avg       0.84      0.83      0.83      5400\n",
            "weighted avg       0.84      0.83      0.83      5400\n",
            "\n",
            "[[1435  201  115]\n",
            " [ 184 1261  393]\n",
            " [   4    3 1804]]\n"
          ]
        },
        {
          "output_type": "display_data",
          "data": {
            "image/png": "[encoded data removed]",
            "text/plain": [
              "<Figure size 432x288 with 2 Axes>"
            ]
          },
          "metadata": {
            "needs_background": "light"
          }
        }
      ]
    },
    {
      "cell_type": "code",
      "metadata": {
        "colab": {
          "base_uri": "https://localhost:8080/",
          "height": 486
        },
        "id": "SW1sTxPwa4u0",
        "outputId": "56d6bb23-9e00-42d1-a82a-854a6c01f729"
      },
      "source": [
        "from sklearn.metrics import confusion_matrix , classification_report\n",
        "rf_predict = rf.predict(X_test)\n",
        "cmG = confusion_matrix(y_test,rf_predict)\n",
        "sns.heatmap(cmG,annot=True)\n",
        "print(classification_report(y_test,rf_predict))\n",
        "print(confusion_matrix(y_test,rf_predict))"
      ],
      "execution_count": null,
      "outputs": [
        {
          "output_type": "stream",
          "name": "stdout",
          "text": [
            "              precision    recall  f1-score   support\n",
            "\n",
            "           1       0.89      0.81      0.85      3026\n",
            "           2       0.85      0.68      0.75      3028\n",
            "           3       0.77      1.00      0.87      2946\n",
            "\n",
            "    accuracy                           0.83      9000\n",
            "   macro avg       0.84      0.83      0.82      9000\n",
            "weighted avg       0.84      0.83      0.82      9000\n",
            "\n",
            "[[2462  365  199]\n",
            " [ 286 2057  685]\n",
            " [   7    4 2935]]\n"
          ]
        },
        {
          "output_type": "display_data",
          "data": {
            "image/png": "[encoded data removed]",
            "text/plain": [
              "<Figure size 432x288 with 2 Axes>"
            ]
          },
          "metadata": {
            "needs_background": "light"
          }
        }
      ]
    },
    {
      "cell_type": "code",
      "metadata": {
        "colab": {
          "base_uri": "https://localhost:8080/"
        },
        "id": "g6PTtx3tHJ7_",
        "outputId": "c97b5292-2e0d-4b51-cf41-4d3d05f8f50c"
      },
      "source": [
        "y_scores_val = rf.predict_proba(X_test)\n",
        "y_scores_val"
      ],
      "execution_count": null,
      "outputs": [
        {
          "output_type": "execute_result",
          "data": {
            "text/plain": [
              "array([[0.1720947 , 0.23253585, 0.59536945],\n",
              "       [0.09287811, 0.20987051, 0.69725138],\n",
              "       [0.07432791, 0.19307302, 0.73259908],\n",
              "       ...,\n",
              "       [0.40085963, 0.57114016, 0.0280002 ],\n",
              "       [0.77231216, 0.20924184, 0.018446  ],\n",
              "       [0.30530436, 0.61554973, 0.07914591]])"
            ]
          },
          "metadata": {},
          "execution_count": 208
        }
      ]
    },
    {
      "cell_type": "markdown",
      "metadata": {
        "id": "jC1-1ltZc6dz"
      },
      "source": [
        "### **3-4 - Adaboost**\n"
      ]
    },
    {
      "cell_type": "code",
      "metadata": {
        "colab": {
          "base_uri": "https://localhost:8080/"
        },
        "id": "RYCsVP9LbmJ5",
        "outputId": "826b88ae-8a13-4973-d8ed-ac638b39b8e7"
      },
      "source": [
        "from sklearn.metrics import make_scorer,recall_score\n",
        "\n",
        "from sklearn.ensemble import AdaBoostClassifier\n",
        "Adb=AdaBoostClassifier()\n",
        "adb_params = {\"base_estimator\":[None],\"n_estimators\":[50,70,100,150],\"learning_rate\":[1,0.1],\"algorithm\":['SAMME.R','SAMME'],\"random_state\":[None,42]}\n",
        "scorer = make_scorer(recall_score, average = 'weighted')\n",
        "adb_classifier = GridSearchCV(Adb,adb_params,cv=10,scoring=scorer)\n",
        "adb_classifier.fit(X_train,y_train)"
      ],
      "execution_count": null,
      "outputs": [
        {
          "output_type": "execute_result",
          "data": {
            "text/plain": [
              "GridSearchCV(cv=10, error_score=nan,\n",
              "             estimator=AdaBoostClassifier(algorithm='SAMME.R',\n",
              "                                          base_estimator=None,\n",
              "                                          learning_rate=1.0, n_estimators=50,\n",
              "                                          random_state=None),\n",
              "             iid='deprecated', n_jobs=None,\n",
              "             param_grid={'algorithm': ['SAMME.R', 'SAMME'],\n",
              "                         'base_estimator': [None], 'learning_rate': [1, 0.1],\n",
              "                         'n_estimators': [50, 70, 100, 150],\n",
              "                         'random_state': [None, 42]},\n",
              "             pre_dispatch='2*n_jobs', refit=True, return_train_score=False,\n",
              "             scoring=make_scorer(recall_score, average=weighted), verbose=0)"
            ]
          },
          "metadata": {},
          "execution_count": 205
        }
      ]
    },
    {
      "cell_type": "code",
      "metadata": {
        "colab": {
          "base_uri": "https://localhost:8080/"
        },
        "id": "TNcYGa9FheGH",
        "outputId": "4ff8643a-72e7-4fb5-fa42-afcf4c115de2"
      },
      "source": [
        "adb_classifier.best_params_,adb_classifier.best_score_"
      ],
      "execution_count": null,
      "outputs": [
        {
          "output_type": "execute_result",
          "data": {
            "text/plain": [
              "({'algorithm': 'SAMME.R',\n",
              "  'base_estimator': None,\n",
              "  'learning_rate': 0.1,\n",
              "  'n_estimators': 70,\n",
              "  'random_state': None},\n",
              " 0.8407407407407407)"
            ]
          },
          "metadata": {},
          "execution_count": 206
        }
      ]
    },
    {
      "cell_type": "code",
      "metadata": {
        "colab": {
          "base_uri": "https://localhost:8080/"
        },
        "id": "Sk7lMM0Fhl1B",
        "outputId": "9c1b3246-6d5e-4a48-b751-0dda52517fcb"
      },
      "source": [
        "best_adb = AdaBoostClassifier(base_estimator=None, n_estimators=70, learning_rate=0.1, algorithm='SAMME.R', random_state=None)\n",
        "best_adb.fit(X_train,y_train)\n"
      ],
      "execution_count": null,
      "outputs": [
        {
          "output_type": "execute_result",
          "data": {
            "text/plain": [
              "AdaBoostClassifier(algorithm='SAMME.R', base_estimator=None, learning_rate=0.1,\n",
              "                   n_estimators=70, random_state=None)"
            ]
          },
          "metadata": {},
          "execution_count": 207
        }
      ]
    },
    {
      "cell_type": "code",
      "metadata": {
        "colab": {
          "base_uri": "https://localhost:8080/",
          "height": 486
        },
        "id": "CYCRTcPxOw_S",
        "outputId": "11255711-36a2-4e25-f03a-6570eadb8578"
      },
      "source": [
        "from sklearn.metrics import confusion_matrix , classification_report\n",
        "adb_predict = best_adb.predict(X_val)\n",
        "cmG = confusion_matrix(y_val,adb_predict)\n",
        "sns.heatmap(cmG,annot=True)\n",
        "print(classification_report(y_val,adb_predict))\n",
        "print(confusion_matrix(y_val,adb_predict))"
      ],
      "execution_count": null,
      "outputs": [
        {
          "output_type": "stream",
          "name": "stdout",
          "text": [
            "              precision    recall  f1-score   support\n",
            "\n",
            "           1       0.95      0.77      0.85      1751\n",
            "           2       0.80      0.76      0.78      1838\n",
            "           3       0.81      0.99      0.89      1811\n",
            "\n",
            "    accuracy                           0.84      5400\n",
            "   macro avg       0.85      0.84      0.84      5400\n",
            "weighted avg       0.85      0.84      0.84      5400\n",
            "\n",
            "[[1354  344   53]\n",
            " [  68 1388  382]\n",
            " [   0   10 1801]]\n"
          ]
        },
        {
          "output_type": "display_data",
          "data": {
            "image/png": "[encoded data removed]",
            "text/plain": [
              "<Figure size 432x288 with 2 Axes>"
            ]
          },
          "metadata": {
            "needs_background": "light"
          }
        }
      ]
    },
    {
      "cell_type": "code",
      "metadata": {
        "colab": {
          "base_uri": "https://localhost:8080/",
          "height": 486
        },
        "id": "ErwW2sK6h6O-",
        "outputId": "b32bb2ad-f119-4152-f21f-ed0804e3422f"
      },
      "source": [
        "from sklearn.metrics import confusion_matrix , classification_report\n",
        "adb_predict = best_adb.predict(X_test)\n",
        "cmG = confusion_matrix(y_test,adb_predict)\n",
        "sns.heatmap(cmG,annot=True)\n",
        "print(classification_report(y_test,adb_predict))\n",
        "print(confusion_matrix(y_test,rf_predict))"
      ],
      "execution_count": null,
      "outputs": [
        {
          "output_type": "stream",
          "name": "stdout",
          "text": [
            "              precision    recall  f1-score   support\n",
            "\n",
            "           1       0.95      0.77      0.85      3026\n",
            "           2       0.78      0.75      0.76      3028\n",
            "           3       0.80      0.99      0.89      2946\n",
            "\n",
            "    accuracy                           0.84      9000\n",
            "   macro avg       0.85      0.84      0.84      9000\n",
            "weighted avg       0.85      0.84      0.83      9000\n",
            "\n",
            "[[2359  455  212]\n",
            " [ 130 2212  686]\n",
            " [   5    5 2936]]\n"
          ]
        },
        {
          "output_type": "display_data",
          "data": {
            "image/png": "[encoded data removed]",
            "text/plain": [
              "<Figure size 432x288 with 2 Axes>"
            ]
          },
          "metadata": {
            "needs_background": "light"
          }
        }
      ]
    },
    {
      "cell_type": "code",
      "metadata": {
        "id": "GtHM61WIHYLb",
        "colab": {
          "base_uri": "https://localhost:8080/"
        },
        "outputId": "7f7c331b-9b6b-4c53-ab63-4057c9e56719"
      },
      "source": [
        "y_scores_val = best_adb.predict_proba(X_test)\n",
        "y_scores_val"
      ],
      "execution_count": null,
      "outputs": [
        {
          "output_type": "execute_result",
          "data": {
            "text/plain": [
              "array([[0.22158492, 0.33898082, 0.43943426],\n",
              "       [0.220361  , 0.33824881, 0.44139019],\n",
              "       [0.220361  , 0.33824881, 0.44139019],\n",
              "       ...,\n",
              "       [0.48437675, 0.48440421, 0.03121904],\n",
              "       [0.70225985, 0.27813397, 0.01960618],\n",
              "       [0.44285665, 0.51889837, 0.03824498]])"
            ]
          },
          "metadata": {},
          "execution_count": 209
        }
      ]
    }
  ]
}